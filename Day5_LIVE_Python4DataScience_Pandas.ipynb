{
 "cells": [
  {
   "cell_type": "markdown",
   "id": "bd19eb2f",
   "metadata": {},
   "source": [
    "## Python for Data Science - Introduction to Pandas"
   ]
  },
  {
   "cell_type": "markdown",
   "id": "9be97cc4",
   "metadata": {},
   "source": [
    "## Import the Libraries"
   ]
  },
  {
   "cell_type": "code",
   "execution_count": 1,
   "id": "bfb6bfb5",
   "metadata": {
    "ExecuteTime": {
     "end_time": "2022-10-19T02:12:52.084078Z",
     "start_time": "2022-10-19T02:12:51.761234Z"
    }
   },
   "outputs": [],
   "source": [
    "# import Libraries\n",
    "import pandas as pd \n",
    "import numpy as np "
   ]
  },
  {
   "cell_type": "markdown",
   "id": "cce85a09",
   "metadata": {},
   "source": [
    "## Load the Dataset"
   ]
  },
  {
   "cell_type": "code",
   "execution_count": 2,
   "id": "340ee502",
   "metadata": {
    "ExecuteTime": {
     "end_time": "2022-10-19T02:15:12.409194Z",
     "start_time": "2022-10-19T02:15:12.390708Z"
    }
   },
   "outputs": [
    {
     "data": {
      "text/plain": [
       "'/Users/balajisundararaman/Library/CloudStorage/GoogleDrive-bala@python4u.in/My Drive/Balaji Personal/ExcelR/DataScience/Day 5-Python Intro'"
      ]
     },
     "execution_count": 2,
     "metadata": {},
     "output_type": "execute_result"
    }
   ],
   "source": [
    "pwd()"
   ]
  },
  {
   "cell_type": "code",
   "execution_count": 5,
   "id": "090e56ab",
   "metadata": {
    "ExecuteTime": {
     "end_time": "2022-10-19T02:19:24.386801Z",
     "start_time": "2022-10-19T02:19:24.377281Z"
    }
   },
   "outputs": [],
   "source": [
    "# Salary.csv\n",
    "df = pd.read_csv('Salaries.csv')"
   ]
  },
  {
   "cell_type": "code",
   "execution_count": 10,
   "id": "1e2b830d",
   "metadata": {
    "ExecuteTime": {
     "end_time": "2022-10-19T02:28:53.238176Z",
     "start_time": "2022-10-19T02:28:53.194871Z"
    }
   },
   "outputs": [
    {
     "data": {
      "text/html": [
       "<div>\n",
       "<style scoped>\n",
       "    .dataframe tbody tr th:only-of-type {\n",
       "        vertical-align: middle;\n",
       "    }\n",
       "\n",
       "    .dataframe tbody tr th {\n",
       "        vertical-align: top;\n",
       "    }\n",
       "\n",
       "    .dataframe thead th {\n",
       "        text-align: right;\n",
       "    }\n",
       "</style>\n",
       "<table border=\"1\" class=\"dataframe\">\n",
       "  <thead>\n",
       "    <tr style=\"text-align: right;\">\n",
       "      <th></th>\n",
       "      <th>rank</th>\n",
       "      <th>discipline</th>\n",
       "      <th>phd</th>\n",
       "      <th>service</th>\n",
       "      <th>sex</th>\n",
       "      <th>salary</th>\n",
       "    </tr>\n",
       "  </thead>\n",
       "  <tbody>\n",
       "    <tr>\n",
       "      <th>0</th>\n",
       "      <td>Prof</td>\n",
       "      <td>B</td>\n",
       "      <td>56</td>\n",
       "      <td>49</td>\n",
       "      <td>Male</td>\n",
       "      <td>186960</td>\n",
       "    </tr>\n",
       "    <tr>\n",
       "      <th>1</th>\n",
       "      <td>Prof</td>\n",
       "      <td>A</td>\n",
       "      <td>12</td>\n",
       "      <td>6</td>\n",
       "      <td>Male</td>\n",
       "      <td>93000</td>\n",
       "    </tr>\n",
       "    <tr>\n",
       "      <th>2</th>\n",
       "      <td>Prof</td>\n",
       "      <td>A</td>\n",
       "      <td>23</td>\n",
       "      <td>20</td>\n",
       "      <td>Male</td>\n",
       "      <td>110515</td>\n",
       "    </tr>\n",
       "  </tbody>\n",
       "</table>\n",
       "</div>"
      ],
      "text/plain": [
       "   rank discipline  phd  service   sex  salary\n",
       "0  Prof          B   56       49  Male  186960\n",
       "1  Prof          A   12        6  Male   93000\n",
       "2  Prof          A   23       20  Male  110515"
      ]
     },
     "execution_count": 10,
     "metadata": {},
     "output_type": "execute_result"
    }
   ],
   "source": [
    "clip = pd.read_clipboard()\n",
    "clip"
   ]
  },
  {
   "cell_type": "markdown",
   "id": "de73532e",
   "metadata": {},
   "source": [
    "## List first 5 records"
   ]
  },
  {
   "cell_type": "code",
   "execution_count": 9,
   "id": "88542b38",
   "metadata": {
    "ExecuteTime": {
     "end_time": "2022-10-19T02:26:06.801862Z",
     "start_time": "2022-10-19T02:26:06.786112Z"
    }
   },
   "outputs": [
    {
     "data": {
      "text/html": [
       "<div>\n",
       "<style scoped>\n",
       "    .dataframe tbody tr th:only-of-type {\n",
       "        vertical-align: middle;\n",
       "    }\n",
       "\n",
       "    .dataframe tbody tr th {\n",
       "        vertical-align: top;\n",
       "    }\n",
       "\n",
       "    .dataframe thead th {\n",
       "        text-align: right;\n",
       "    }\n",
       "</style>\n",
       "<table border=\"1\" class=\"dataframe\">\n",
       "  <thead>\n",
       "    <tr style=\"text-align: right;\">\n",
       "      <th></th>\n",
       "      <th>rank</th>\n",
       "      <th>discipline</th>\n",
       "      <th>phd</th>\n",
       "      <th>service</th>\n",
       "      <th>sex</th>\n",
       "      <th>salary</th>\n",
       "    </tr>\n",
       "  </thead>\n",
       "  <tbody>\n",
       "    <tr>\n",
       "      <th>0</th>\n",
       "      <td>Prof</td>\n",
       "      <td>B</td>\n",
       "      <td>56</td>\n",
       "      <td>49</td>\n",
       "      <td>Male</td>\n",
       "      <td>186960</td>\n",
       "    </tr>\n",
       "    <tr>\n",
       "      <th>1</th>\n",
       "      <td>Prof</td>\n",
       "      <td>A</td>\n",
       "      <td>12</td>\n",
       "      <td>6</td>\n",
       "      <td>Male</td>\n",
       "      <td>93000</td>\n",
       "    </tr>\n",
       "    <tr>\n",
       "      <th>2</th>\n",
       "      <td>Prof</td>\n",
       "      <td>A</td>\n",
       "      <td>23</td>\n",
       "      <td>20</td>\n",
       "      <td>Male</td>\n",
       "      <td>110515</td>\n",
       "    </tr>\n",
       "    <tr>\n",
       "      <th>3</th>\n",
       "      <td>Prof</td>\n",
       "      <td>A</td>\n",
       "      <td>40</td>\n",
       "      <td>31</td>\n",
       "      <td>Male</td>\n",
       "      <td>131205</td>\n",
       "    </tr>\n",
       "    <tr>\n",
       "      <th>4</th>\n",
       "      <td>Prof</td>\n",
       "      <td>B</td>\n",
       "      <td>20</td>\n",
       "      <td>18</td>\n",
       "      <td>Male</td>\n",
       "      <td>104800</td>\n",
       "    </tr>\n",
       "  </tbody>\n",
       "</table>\n",
       "</div>"
      ],
      "text/plain": [
       "   rank discipline  phd  service   sex  salary\n",
       "0  Prof          B   56       49  Male  186960\n",
       "1  Prof          A   12        6  Male   93000\n",
       "2  Prof          A   23       20  Male  110515\n",
       "3  Prof          A   40       31  Male  131205\n",
       "4  Prof          B   20       18  Male  104800"
      ]
     },
     "execution_count": 9,
     "metadata": {},
     "output_type": "execute_result"
    }
   ],
   "source": [
    "df.head()"
   ]
  },
  {
   "cell_type": "code",
   "execution_count": 7,
   "id": "d1d0a252",
   "metadata": {
    "ExecuteTime": {
     "end_time": "2022-10-19T02:25:22.139246Z",
     "start_time": "2022-10-19T02:25:22.125887Z"
    }
   },
   "outputs": [
    {
     "data": {
      "text/html": [
       "<div>\n",
       "<style scoped>\n",
       "    .dataframe tbody tr th:only-of-type {\n",
       "        vertical-align: middle;\n",
       "    }\n",
       "\n",
       "    .dataframe tbody tr th {\n",
       "        vertical-align: top;\n",
       "    }\n",
       "\n",
       "    .dataframe thead th {\n",
       "        text-align: right;\n",
       "    }\n",
       "</style>\n",
       "<table border=\"1\" class=\"dataframe\">\n",
       "  <thead>\n",
       "    <tr style=\"text-align: right;\">\n",
       "      <th></th>\n",
       "      <th>rank</th>\n",
       "      <th>discipline</th>\n",
       "      <th>phd</th>\n",
       "      <th>service</th>\n",
       "      <th>sex</th>\n",
       "      <th>salary</th>\n",
       "    </tr>\n",
       "  </thead>\n",
       "  <tbody>\n",
       "    <tr>\n",
       "      <th>73</th>\n",
       "      <td>Prof</td>\n",
       "      <td>B</td>\n",
       "      <td>18</td>\n",
       "      <td>10</td>\n",
       "      <td>Female</td>\n",
       "      <td>105450</td>\n",
       "    </tr>\n",
       "    <tr>\n",
       "      <th>74</th>\n",
       "      <td>AssocProf</td>\n",
       "      <td>B</td>\n",
       "      <td>19</td>\n",
       "      <td>6</td>\n",
       "      <td>Female</td>\n",
       "      <td>104542</td>\n",
       "    </tr>\n",
       "    <tr>\n",
       "      <th>75</th>\n",
       "      <td>Prof</td>\n",
       "      <td>B</td>\n",
       "      <td>17</td>\n",
       "      <td>17</td>\n",
       "      <td>Female</td>\n",
       "      <td>124312</td>\n",
       "    </tr>\n",
       "    <tr>\n",
       "      <th>76</th>\n",
       "      <td>Prof</td>\n",
       "      <td>A</td>\n",
       "      <td>28</td>\n",
       "      <td>14</td>\n",
       "      <td>Female</td>\n",
       "      <td>109954</td>\n",
       "    </tr>\n",
       "    <tr>\n",
       "      <th>77</th>\n",
       "      <td>Prof</td>\n",
       "      <td>A</td>\n",
       "      <td>23</td>\n",
       "      <td>15</td>\n",
       "      <td>Female</td>\n",
       "      <td>109646</td>\n",
       "    </tr>\n",
       "  </tbody>\n",
       "</table>\n",
       "</div>"
      ],
      "text/plain": [
       "         rank discipline  phd  service     sex  salary\n",
       "73       Prof          B   18       10  Female  105450\n",
       "74  AssocProf          B   19        6  Female  104542\n",
       "75       Prof          B   17       17  Female  124312\n",
       "76       Prof          A   28       14  Female  109954\n",
       "77       Prof          A   23       15  Female  109646"
      ]
     },
     "execution_count": 7,
     "metadata": {},
     "output_type": "execute_result"
    }
   ],
   "source": [
    "df.tail()"
   ]
  },
  {
   "cell_type": "markdown",
   "id": "6a2bfbe0",
   "metadata": {},
   "source": [
    "## Hands on Exercise - List the first 10, 20, last 50 records"
   ]
  },
  {
   "cell_type": "code",
   "execution_count": null,
   "id": "d70e4525",
   "metadata": {
    "ExecuteTime": {
     "end_time": "2022-10-04T11:31:26.410936Z",
     "start_time": "2022-10-04T11:31:26.406656Z"
    }
   },
   "outputs": [],
   "source": []
  },
  {
   "cell_type": "markdown",
   "id": "cf536fe9",
   "metadata": {},
   "source": [
    "## Check Datatypes in the DataFrame"
   ]
  },
  {
   "cell_type": "code",
   "execution_count": 11,
   "id": "f2b8ac00",
   "metadata": {
    "ExecuteTime": {
     "end_time": "2022-10-19T02:32:31.853497Z",
     "start_time": "2022-10-19T02:32:31.835275Z"
    }
   },
   "outputs": [
    {
     "name": "stdout",
     "output_type": "stream",
     "text": [
      "<class 'pandas.core.frame.DataFrame'>\n",
      "RangeIndex: 78 entries, 0 to 77\n",
      "Data columns (total 6 columns):\n",
      " #   Column      Non-Null Count  Dtype \n",
      "---  ------      --------------  ----- \n",
      " 0   rank        78 non-null     object\n",
      " 1   discipline  78 non-null     object\n",
      " 2   phd         78 non-null     int64 \n",
      " 3   service     78 non-null     int64 \n",
      " 4   sex         78 non-null     object\n",
      " 5   salary      78 non-null     int64 \n",
      "dtypes: int64(3), object(3)\n",
      "memory usage: 3.8+ KB\n"
     ]
    }
   ],
   "source": [
    "# info() method\n",
    "df.info()"
   ]
  },
  {
   "cell_type": "code",
   "execution_count": 12,
   "id": "ecd7ab6a",
   "metadata": {
    "ExecuteTime": {
     "end_time": "2022-10-19T02:36:05.050991Z",
     "start_time": "2022-10-19T02:36:05.039684Z"
    }
   },
   "outputs": [
    {
     "data": {
      "text/plain": [
       "rank          object\n",
       "discipline    object\n",
       "phd            int64\n",
       "service        int64\n",
       "sex           object\n",
       "salary         int64\n",
       "dtype: object"
      ]
     },
     "execution_count": 12,
     "metadata": {},
     "output_type": "execute_result"
    }
   ],
   "source": [
    "# dtypes attribute of dataframe\n",
    "df.dtypes"
   ]
  },
  {
   "attachments": {
    "dataframe_attributes.png": {
     "image/png": "[encoded data removed]"
    }
   },
   "cell_type": "markdown",
   "id": "c0c5be03",
   "metadata": {},
   "source": [
    "## Attributes(Properties) of a DataFrame\n",
    "![dataframe_attributes.png](attachment:dataframe_attributes.png)"
   ]
  },
  {
   "cell_type": "markdown",
   "id": "681009cd",
   "metadata": {},
   "source": [
    "### dtypes"
   ]
  },
  {
   "cell_type": "code",
   "execution_count": 13,
   "id": "2ad40aa2",
   "metadata": {
    "ExecuteTime": {
     "end_time": "2022-10-19T02:38:36.053155Z",
     "start_time": "2022-10-19T02:38:36.047078Z"
    }
   },
   "outputs": [],
   "source": [
    "# already done above"
   ]
  },
  {
   "cell_type": "markdown",
   "id": "560c18a5",
   "metadata": {},
   "source": [
    "### columns"
   ]
  },
  {
   "cell_type": "code",
   "execution_count": 14,
   "id": "b1e79ef6",
   "metadata": {
    "ExecuteTime": {
     "end_time": "2022-10-19T02:38:54.986282Z",
     "start_time": "2022-10-19T02:38:54.976723Z"
    }
   },
   "outputs": [
    {
     "data": {
      "text/plain": [
       "Index(['rank', 'discipline', 'phd', 'service', 'sex', 'salary'], dtype='object')"
      ]
     },
     "execution_count": 14,
     "metadata": {},
     "output_type": "execute_result"
    }
   ],
   "source": [
    "df.columns"
   ]
  },
  {
   "cell_type": "markdown",
   "id": "c8321643",
   "metadata": {},
   "source": [
    "### Axes"
   ]
  },
  {
   "cell_type": "code",
   "execution_count": 15,
   "id": "523f634d",
   "metadata": {
    "ExecuteTime": {
     "end_time": "2022-10-19T02:39:41.713951Z",
     "start_time": "2022-10-19T02:39:41.700811Z"
    }
   },
   "outputs": [
    {
     "data": {
      "text/plain": [
       "[RangeIndex(start=0, stop=78, step=1),\n",
       " Index(['rank', 'discipline', 'phd', 'service', 'sex', 'salary'], dtype='object')]"
      ]
     },
     "execution_count": 15,
     "metadata": {},
     "output_type": "execute_result"
    }
   ],
   "source": [
    "df.axes"
   ]
  },
  {
   "cell_type": "markdown",
   "id": "8626034f",
   "metadata": {},
   "source": [
    "### Number of Dimensions"
   ]
  },
  {
   "cell_type": "code",
   "execution_count": 16,
   "id": "9731c0a5",
   "metadata": {
    "ExecuteTime": {
     "end_time": "2022-10-19T02:41:05.253458Z",
     "start_time": "2022-10-19T02:41:05.249165Z"
    }
   },
   "outputs": [
    {
     "data": {
      "text/plain": [
       "2"
      ]
     },
     "execution_count": 16,
     "metadata": {},
     "output_type": "execute_result"
    }
   ],
   "source": [
    "df.ndim"
   ]
  },
  {
   "cell_type": "markdown",
   "id": "363e6340",
   "metadata": {},
   "source": [
    "### Size"
   ]
  },
  {
   "cell_type": "code",
   "execution_count": 17,
   "id": "85a836fe",
   "metadata": {
    "ExecuteTime": {
     "end_time": "2022-10-19T02:41:34.304901Z",
     "start_time": "2022-10-19T02:41:34.291619Z"
    }
   },
   "outputs": [
    {
     "data": {
      "text/plain": [
       "468"
      ]
     },
     "execution_count": 17,
     "metadata": {},
     "output_type": "execute_result"
    }
   ],
   "source": [
    "df.size"
   ]
  },
  {
   "cell_type": "markdown",
   "id": "adb42d71",
   "metadata": {},
   "source": [
    "### Shape"
   ]
  },
  {
   "cell_type": "code",
   "execution_count": 18,
   "id": "d64bcf02",
   "metadata": {
    "ExecuteTime": {
     "end_time": "2022-10-19T02:41:57.742969Z",
     "start_time": "2022-10-19T02:41:57.725462Z"
    }
   },
   "outputs": [
    {
     "data": {
      "text/plain": [
       "(78, 6)"
      ]
     },
     "execution_count": 18,
     "metadata": {},
     "output_type": "execute_result"
    }
   ],
   "source": [
    "df.shape"
   ]
  },
  {
   "cell_type": "code",
   "execution_count": 19,
   "id": "db7659c5",
   "metadata": {
    "ExecuteTime": {
     "end_time": "2022-10-19T02:42:06.623131Z",
     "start_time": "2022-10-19T02:42:06.613019Z"
    }
   },
   "outputs": [
    {
     "data": {
      "text/plain": [
       "468"
      ]
     },
     "execution_count": 19,
     "metadata": {},
     "output_type": "execute_result"
    }
   ],
   "source": [
    "78*6"
   ]
  },
  {
   "cell_type": "markdown",
   "id": "62f97b1c",
   "metadata": {},
   "source": [
    "### Values"
   ]
  },
  {
   "cell_type": "code",
   "execution_count": 20,
   "id": "de202625",
   "metadata": {
    "ExecuteTime": {
     "end_time": "2022-10-19T02:42:40.010514Z",
     "start_time": "2022-10-19T02:42:39.995494Z"
    }
   },
   "outputs": [
    {
     "data": {
      "text/plain": [
       "array([['Prof', 'B', 56, 49, 'Male', 186960],\n",
       "       ['Prof', 'A', 12, 6, 'Male', 93000],\n",
       "       ['Prof', 'A', 23, 20, 'Male', 110515],\n",
       "       ['Prof', 'A', 40, 31, 'Male', 131205],\n",
       "       ['Prof', 'B', 20, 18, 'Male', 104800],\n",
       "       ['Prof', 'A', 20, 20, 'Male', 122400],\n",
       "       ['AssocProf', 'A', 20, 17, 'Male', 81285],\n",
       "       ['Prof', 'A', 18, 18, 'Male', 126300],\n",
       "       ['Prof', 'A', 29, 19, 'Male', 94350],\n",
       "       ['Prof', 'A', 51, 51, 'Male', 57800],\n",
       "       ['Prof', 'B', 39, 33, 'Male', 128250],\n",
       "       ['Prof', 'B', 23, 23, 'Male', 134778],\n",
       "       ['AsstProf', 'B', 1, 0, 'Male', 88000],\n",
       "       ['Prof', 'B', 35, 33, 'Male', 162200],\n",
       "       ['Prof', 'B', 25, 19, 'Male', 153750],\n",
       "       ['Prof', 'B', 17, 3, 'Male', 150480],\n",
       "       ['AsstProf', 'B', 8, 3, 'Male', 75044],\n",
       "       ['AsstProf', 'B', 4, 0, 'Male', 92000],\n",
       "       ['Prof', 'A', 19, 7, 'Male', 107300],\n",
       "       ['Prof', 'A', 29, 27, 'Male', 150500],\n",
       "       ['AsstProf', 'B', 4, 4, 'Male', 92000],\n",
       "       ['Prof', 'A', 33, 30, 'Male', 103106],\n",
       "       ['AsstProf', 'A', 4, 2, 'Male', 73000],\n",
       "       ['AsstProf', 'A', 2, 0, 'Male', 85000],\n",
       "       ['Prof', 'A', 30, 23, 'Male', 91100],\n",
       "       ['Prof', 'B', 35, 31, 'Male', 99418],\n",
       "       ['Prof', 'A', 38, 19, 'Male', 148750],\n",
       "       ['Prof', 'A', 45, 43, 'Male', 155865],\n",
       "       ['AsstProf', 'B', 7, 2, 'Male', 91300],\n",
       "       ['Prof', 'B', 21, 20, 'Male', 123683],\n",
       "       ['AssocProf', 'B', 9, 7, 'Male', 107008],\n",
       "       ['Prof', 'B', 22, 21, 'Male', 155750],\n",
       "       ['Prof', 'A', 27, 19, 'Male', 103275],\n",
       "       ['Prof', 'B', 18, 18, 'Male', 120000],\n",
       "       ['AssocProf', 'B', 12, 8, 'Male', 119800],\n",
       "       ['Prof', 'B', 28, 23, 'Male', 126933],\n",
       "       ['Prof', 'B', 45, 45, 'Male', 146856],\n",
       "       ['Prof', 'A', 20, 8, 'Male', 102000],\n",
       "       ['AsstProf', 'B', 4, 3, 'Male', 91000],\n",
       "       ['Prof', 'B', 18, 18, 'Female', 129000],\n",
       "       ['Prof', 'A', 39, 36, 'Female', 137000],\n",
       "       ['AssocProf', 'A', 13, 8, 'Female', 74830],\n",
       "       ['AsstProf', 'B', 4, 2, 'Female', 80225],\n",
       "       ['AsstProf', 'B', 5, 0, 'Female', 77000],\n",
       "       ['Prof', 'B', 23, 19, 'Female', 151768],\n",
       "       ['Prof', 'B', 25, 25, 'Female', 140096],\n",
       "       ['AsstProf', 'B', 11, 3, 'Female', 74692],\n",
       "       ['AssocProf', 'B', 11, 11, 'Female', 103613],\n",
       "       ['Prof', 'B', 17, 17, 'Female', 111512],\n",
       "       ['Prof', 'B', 17, 18, 'Female', 122960],\n",
       "       ['AsstProf', 'B', 10, 5, 'Female', 97032],\n",
       "       ['Prof', 'B', 20, 14, 'Female', 127512],\n",
       "       ['Prof', 'A', 12, 0, 'Female', 105000],\n",
       "       ['AsstProf', 'A', 5, 3, 'Female', 73500],\n",
       "       ['AssocProf', 'A', 25, 22, 'Female', 62884],\n",
       "       ['AsstProf', 'A', 2, 0, 'Female', 72500],\n",
       "       ['AssocProf', 'A', 10, 8, 'Female', 77500],\n",
       "       ['AsstProf', 'A', 3, 1, 'Female', 72500],\n",
       "       ['Prof', 'B', 36, 26, 'Female', 144651],\n",
       "       ['AssocProf', 'B', 12, 10, 'Female', 103994],\n",
       "       ['AsstProf', 'B', 3, 3, 'Female', 92000],\n",
       "       ['AssocProf', 'B', 13, 10, 'Female', 103750],\n",
       "       ['AssocProf', 'B', 14, 7, 'Female', 109650],\n",
       "       ['Prof', 'A', 29, 27, 'Female', 91000],\n",
       "       ['AssocProf', 'A', 26, 24, 'Female', 73300],\n",
       "       ['Prof', 'A', 36, 19, 'Female', 117555],\n",
       "       ['AsstProf', 'A', 7, 6, 'Female', 63100],\n",
       "       ['Prof', 'A', 17, 11, 'Female', 90450],\n",
       "       ['AsstProf', 'A', 4, 2, 'Female', 77500],\n",
       "       ['Prof', 'A', 28, 7, 'Female', 116450],\n",
       "       ['AsstProf', 'A', 8, 3, 'Female', 78500],\n",
       "       ['AssocProf', 'B', 12, 9, 'Female', 71065],\n",
       "       ['Prof', 'B', 24, 15, 'Female', 161101],\n",
       "       ['Prof', 'B', 18, 10, 'Female', 105450],\n",
       "       ['AssocProf', 'B', 19, 6, 'Female', 104542],\n",
       "       ['Prof', 'B', 17, 17, 'Female', 124312],\n",
       "       ['Prof', 'A', 28, 14, 'Female', 109954],\n",
       "       ['Prof', 'A', 23, 15, 'Female', 109646]], dtype=object)"
      ]
     },
     "execution_count": 20,
     "metadata": {},
     "output_type": "execute_result"
    }
   ],
   "source": [
    "df.values"
   ]
  },
  {
   "cell_type": "markdown",
   "id": "20edab21",
   "metadata": {
    "ExecuteTime": {
     "end_time": "2022-10-01T17:04:26.096222Z",
     "start_time": "2022-10-01T17:04:26.090395Z"
    }
   },
   "source": [
    "## Hands on Excercise"
   ]
  },
  {
   "cell_type": "markdown",
   "id": "af390ef0",
   "metadata": {},
   "source": [
    "### How many records are there in this dataframe"
   ]
  },
  {
   "cell_type": "code",
   "execution_count": 22,
   "id": "fc98ba33",
   "metadata": {
    "ExecuteTime": {
     "end_time": "2022-10-19T02:49:47.440730Z",
     "start_time": "2022-10-19T02:49:47.424919Z"
    }
   },
   "outputs": [
    {
     "data": {
      "text/plain": [
       "78"
      ]
     },
     "execution_count": 22,
     "metadata": {},
     "output_type": "execute_result"
    }
   ],
   "source": [
    "df.shape[0]"
   ]
  },
  {
   "cell_type": "code",
   "execution_count": 23,
   "id": "c5d5c084",
   "metadata": {
    "ExecuteTime": {
     "end_time": "2022-10-19T02:50:20.132430Z",
     "start_time": "2022-10-19T02:50:20.126985Z"
    }
   },
   "outputs": [
    {
     "data": {
      "text/plain": [
       "78"
      ]
     },
     "execution_count": 23,
     "metadata": {},
     "output_type": "execute_result"
    }
   ],
   "source": [
    "len(df)"
   ]
  },
  {
   "cell_type": "code",
   "execution_count": 24,
   "id": "cb6623ec",
   "metadata": {
    "ExecuteTime": {
     "end_time": "2022-10-19T02:51:28.933833Z",
     "start_time": "2022-10-19T02:51:28.920707Z"
    }
   },
   "outputs": [
    {
     "data": {
      "text/plain": [
       "RangeIndex(start=0, stop=78, step=1)"
      ]
     },
     "execution_count": 24,
     "metadata": {},
     "output_type": "execute_result"
    }
   ],
   "source": [
    "df.index"
   ]
  },
  {
   "cell_type": "markdown",
   "id": "8f262045",
   "metadata": {},
   "source": [
    "### How many columns(features) are there?"
   ]
  },
  {
   "cell_type": "code",
   "execution_count": 25,
   "id": "2400d3e6",
   "metadata": {
    "ExecuteTime": {
     "end_time": "2022-10-19T02:52:39.498608Z",
     "start_time": "2022-10-19T02:52:39.488344Z"
    }
   },
   "outputs": [
    {
     "data": {
      "text/plain": [
       "6"
      ]
     },
     "execution_count": 25,
     "metadata": {},
     "output_type": "execute_result"
    }
   ],
   "source": [
    "df.shape[1]"
   ]
  },
  {
   "cell_type": "code",
   "execution_count": 27,
   "id": "51399109",
   "metadata": {
    "ExecuteTime": {
     "end_time": "2022-10-19T02:53:15.072874Z",
     "start_time": "2022-10-19T02:53:15.054576Z"
    }
   },
   "outputs": [
    {
     "data": {
      "text/plain": [
       "6"
      ]
     },
     "execution_count": 27,
     "metadata": {},
     "output_type": "execute_result"
    }
   ],
   "source": [
    "len(df.columns)"
   ]
  },
  {
   "attachments": {
    "dataframe_methods.png": {
     "image/png": "[encoded data removed]"
    }
   },
   "cell_type": "markdown",
   "id": "bd282535",
   "metadata": {},
   "source": [
    "## Methods of a Dataframe\n",
    "![dataframe_methods.png](attachment:dataframe_methods.png)"
   ]
  },
  {
   "cell_type": "markdown",
   "id": "4e638867",
   "metadata": {},
   "source": [
    "### describe()"
   ]
  },
  {
   "cell_type": "code",
   "execution_count": 33,
   "id": "fca4880c",
   "metadata": {
    "ExecuteTime": {
     "end_time": "2022-10-19T03:01:54.494308Z",
     "start_time": "2022-10-19T03:01:54.466816Z"
    }
   },
   "outputs": [
    {
     "data": {
      "text/html": [
       "<div>\n",
       "<style scoped>\n",
       "    .dataframe tbody tr th:only-of-type {\n",
       "        vertical-align: middle;\n",
       "    }\n",
       "\n",
       "    .dataframe tbody tr th {\n",
       "        vertical-align: top;\n",
       "    }\n",
       "\n",
       "    .dataframe thead th {\n",
       "        text-align: right;\n",
       "    }\n",
       "</style>\n",
       "<table border=\"1\" class=\"dataframe\">\n",
       "  <thead>\n",
       "    <tr style=\"text-align: right;\">\n",
       "      <th></th>\n",
       "      <th>count</th>\n",
       "      <th>mean</th>\n",
       "      <th>std</th>\n",
       "      <th>min</th>\n",
       "      <th>25%</th>\n",
       "      <th>50%</th>\n",
       "      <th>75%</th>\n",
       "      <th>max</th>\n",
       "    </tr>\n",
       "  </thead>\n",
       "  <tbody>\n",
       "    <tr>\n",
       "      <th>phd</th>\n",
       "      <td>78.0</td>\n",
       "      <td>19.71</td>\n",
       "      <td>12.50</td>\n",
       "      <td>1.0</td>\n",
       "      <td>10.25</td>\n",
       "      <td>18.5</td>\n",
       "      <td>27.75</td>\n",
       "      <td>56.0</td>\n",
       "    </tr>\n",
       "    <tr>\n",
       "      <th>service</th>\n",
       "      <td>78.0</td>\n",
       "      <td>15.05</td>\n",
       "      <td>12.14</td>\n",
       "      <td>0.0</td>\n",
       "      <td>5.25</td>\n",
       "      <td>14.5</td>\n",
       "      <td>20.75</td>\n",
       "      <td>51.0</td>\n",
       "    </tr>\n",
       "    <tr>\n",
       "      <th>salary</th>\n",
       "      <td>78.0</td>\n",
       "      <td>108023.78</td>\n",
       "      <td>28293.66</td>\n",
       "      <td>57800.0</td>\n",
       "      <td>88612.50</td>\n",
       "      <td>104671.0</td>\n",
       "      <td>126774.75</td>\n",
       "      <td>186960.0</td>\n",
       "    </tr>\n",
       "  </tbody>\n",
       "</table>\n",
       "</div>"
      ],
      "text/plain": [
       "         count       mean       std      min       25%       50%        75%  \\\n",
       "phd       78.0      19.71     12.50      1.0     10.25      18.5      27.75   \n",
       "service   78.0      15.05     12.14      0.0      5.25      14.5      20.75   \n",
       "salary    78.0  108023.78  28293.66  57800.0  88612.50  104671.0  126774.75   \n",
       "\n",
       "              max  \n",
       "phd          56.0  \n",
       "service      51.0  \n",
       "salary   186960.0  "
      ]
     },
     "execution_count": 33,
     "metadata": {},
     "output_type": "execute_result"
    }
   ],
   "source": [
    "df.describe().round(2).T"
   ]
  },
  {
   "cell_type": "markdown",
   "id": "e99b98b1",
   "metadata": {},
   "source": [
    "### max() & min()"
   ]
  },
  {
   "cell_type": "code",
   "execution_count": 31,
   "id": "13ecb315",
   "metadata": {
    "ExecuteTime": {
     "end_time": "2022-10-19T03:00:26.978598Z",
     "start_time": "2022-10-19T03:00:26.964810Z"
    }
   },
   "outputs": [
    {
     "data": {
      "text/plain": [
       "rank            Prof\n",
       "discipline         B\n",
       "phd               56\n",
       "service           51\n",
       "sex             Male\n",
       "salary        186960\n",
       "dtype: object"
      ]
     },
     "execution_count": 31,
     "metadata": {},
     "output_type": "execute_result"
    }
   ],
   "source": [
    "df.max()"
   ]
  },
  {
   "cell_type": "code",
   "execution_count": 34,
   "id": "d48047f2",
   "metadata": {
    "ExecuteTime": {
     "end_time": "2022-10-19T03:02:09.910589Z",
     "start_time": "2022-10-19T03:02:09.902315Z"
    }
   },
   "outputs": [
    {
     "data": {
      "text/plain": [
       "rank          AssocProf\n",
       "discipline            A\n",
       "phd                   1\n",
       "service               0\n",
       "sex              Female\n",
       "salary            57800\n",
       "dtype: object"
      ]
     },
     "execution_count": 34,
     "metadata": {},
     "output_type": "execute_result"
    }
   ],
   "source": [
    "df.min()"
   ]
  },
  {
   "cell_type": "markdown",
   "id": "56af6b36",
   "metadata": {},
   "source": [
    "### mean() & median()"
   ]
  },
  {
   "cell_type": "code",
   "execution_count": 37,
   "id": "8e8db24f",
   "metadata": {
    "ExecuteTime": {
     "end_time": "2022-10-19T03:05:48.878105Z",
     "start_time": "2022-10-19T03:05:48.860116Z"
    }
   },
   "outputs": [
    {
     "data": {
      "text/plain": [
       "108023.782"
      ]
     },
     "execution_count": 37,
     "metadata": {},
     "output_type": "execute_result"
    }
   ],
   "source": [
    "df['salary'].mean().round(3)"
   ]
  },
  {
   "cell_type": "code",
   "execution_count": 38,
   "id": "e6f9c18a",
   "metadata": {
    "ExecuteTime": {
     "end_time": "2022-10-19T03:06:22.256886Z",
     "start_time": "2022-10-19T03:06:22.244993Z"
    }
   },
   "outputs": [
    {
     "data": {
      "text/plain": [
       "18.5"
      ]
     },
     "execution_count": 38,
     "metadata": {},
     "output_type": "execute_result"
    }
   ],
   "source": [
    "df['phd'].median()"
   ]
  },
  {
   "cell_type": "markdown",
   "id": "49c5ec5b",
   "metadata": {},
   "source": [
    "### Standard Deviation"
   ]
  },
  {
   "cell_type": "code",
   "execution_count": 43,
   "id": "2dcb8c2a",
   "metadata": {
    "ExecuteTime": {
     "end_time": "2022-10-19T03:11:06.085489Z",
     "start_time": "2022-10-19T03:11:06.074746Z"
    }
   },
   "outputs": [
    {
     "data": {
      "text/plain": [
       "12.14"
      ]
     },
     "execution_count": 43,
     "metadata": {},
     "output_type": "execute_result"
    }
   ],
   "source": [
    "service_std = df['service'].std().round(2)\n",
    "service_std"
   ]
  },
  {
   "cell_type": "code",
   "execution_count": 42,
   "id": "685364f8",
   "metadata": {
    "ExecuteTime": {
     "end_time": "2022-10-19T03:11:00.580723Z",
     "start_time": "2022-10-19T03:11:00.561916Z"
    }
   },
   "outputs": [
    {
     "data": {
      "text/plain": [
       "147.3796"
      ]
     },
     "execution_count": 42,
     "metadata": {},
     "output_type": "execute_result"
    }
   ],
   "source": [
    "service_std**2"
   ]
  },
  {
   "cell_type": "code",
   "execution_count": 44,
   "id": "e3baef40",
   "metadata": {
    "ExecuteTime": {
     "end_time": "2022-10-19T03:13:12.778327Z",
     "start_time": "2022-10-19T03:13:12.765173Z"
    }
   },
   "outputs": [
    {
     "data": {
      "text/plain": [
       "12.14"
      ]
     },
     "execution_count": 44,
     "metadata": {},
     "output_type": "execute_result"
    }
   ],
   "source": [
    "np.round(df['service'].std(),2)"
   ]
  },
  {
   "cell_type": "markdown",
   "id": "de7551a5",
   "metadata": {},
   "source": [
    "### sample()"
   ]
  },
  {
   "cell_type": "code",
   "execution_count": 46,
   "id": "0e4dbb40",
   "metadata": {
    "ExecuteTime": {
     "end_time": "2022-10-19T03:17:11.036417Z",
     "start_time": "2022-10-19T03:17:11.012698Z"
    }
   },
   "outputs": [
    {
     "data": {
      "text/html": [
       "<div>\n",
       "<style scoped>\n",
       "    .dataframe tbody tr th:only-of-type {\n",
       "        vertical-align: middle;\n",
       "    }\n",
       "\n",
       "    .dataframe tbody tr th {\n",
       "        vertical-align: top;\n",
       "    }\n",
       "\n",
       "    .dataframe thead th {\n",
       "        text-align: right;\n",
       "    }\n",
       "</style>\n",
       "<table border=\"1\" class=\"dataframe\">\n",
       "  <thead>\n",
       "    <tr style=\"text-align: right;\">\n",
       "      <th></th>\n",
       "      <th>rank</th>\n",
       "      <th>discipline</th>\n",
       "      <th>phd</th>\n",
       "      <th>service</th>\n",
       "      <th>sex</th>\n",
       "      <th>salary</th>\n",
       "    </tr>\n",
       "  </thead>\n",
       "  <tbody>\n",
       "    <tr>\n",
       "      <th>1</th>\n",
       "      <td>Prof</td>\n",
       "      <td>A</td>\n",
       "      <td>12</td>\n",
       "      <td>6</td>\n",
       "      <td>Male</td>\n",
       "      <td>93000</td>\n",
       "    </tr>\n",
       "    <tr>\n",
       "      <th>72</th>\n",
       "      <td>Prof</td>\n",
       "      <td>B</td>\n",
       "      <td>24</td>\n",
       "      <td>15</td>\n",
       "      <td>Female</td>\n",
       "      <td>161101</td>\n",
       "    </tr>\n",
       "    <tr>\n",
       "      <th>44</th>\n",
       "      <td>Prof</td>\n",
       "      <td>B</td>\n",
       "      <td>23</td>\n",
       "      <td>19</td>\n",
       "      <td>Female</td>\n",
       "      <td>151768</td>\n",
       "    </tr>\n",
       "    <tr>\n",
       "      <th>75</th>\n",
       "      <td>Prof</td>\n",
       "      <td>B</td>\n",
       "      <td>17</td>\n",
       "      <td>17</td>\n",
       "      <td>Female</td>\n",
       "      <td>124312</td>\n",
       "    </tr>\n",
       "    <tr>\n",
       "      <th>17</th>\n",
       "      <td>AsstProf</td>\n",
       "      <td>B</td>\n",
       "      <td>4</td>\n",
       "      <td>0</td>\n",
       "      <td>Male</td>\n",
       "      <td>92000</td>\n",
       "    </tr>\n",
       "    <tr>\n",
       "      <th>47</th>\n",
       "      <td>AssocProf</td>\n",
       "      <td>B</td>\n",
       "      <td>11</td>\n",
       "      <td>11</td>\n",
       "      <td>Female</td>\n",
       "      <td>103613</td>\n",
       "    </tr>\n",
       "    <tr>\n",
       "      <th>58</th>\n",
       "      <td>Prof</td>\n",
       "      <td>B</td>\n",
       "      <td>36</td>\n",
       "      <td>26</td>\n",
       "      <td>Female</td>\n",
       "      <td>144651</td>\n",
       "    </tr>\n",
       "    <tr>\n",
       "      <th>20</th>\n",
       "      <td>AsstProf</td>\n",
       "      <td>B</td>\n",
       "      <td>4</td>\n",
       "      <td>4</td>\n",
       "      <td>Male</td>\n",
       "      <td>92000</td>\n",
       "    </tr>\n",
       "    <tr>\n",
       "      <th>59</th>\n",
       "      <td>AssocProf</td>\n",
       "      <td>B</td>\n",
       "      <td>12</td>\n",
       "      <td>10</td>\n",
       "      <td>Female</td>\n",
       "      <td>103994</td>\n",
       "    </tr>\n",
       "    <tr>\n",
       "      <th>7</th>\n",
       "      <td>Prof</td>\n",
       "      <td>A</td>\n",
       "      <td>18</td>\n",
       "      <td>18</td>\n",
       "      <td>Male</td>\n",
       "      <td>126300</td>\n",
       "    </tr>\n",
       "  </tbody>\n",
       "</table>\n",
       "</div>"
      ],
      "text/plain": [
       "         rank discipline  phd  service     sex  salary\n",
       "1        Prof          A   12        6    Male   93000\n",
       "72       Prof          B   24       15  Female  161101\n",
       "44       Prof          B   23       19  Female  151768\n",
       "75       Prof          B   17       17  Female  124312\n",
       "17   AsstProf          B    4        0    Male   92000\n",
       "47  AssocProf          B   11       11  Female  103613\n",
       "58       Prof          B   36       26  Female  144651\n",
       "20   AsstProf          B    4        4    Male   92000\n",
       "59  AssocProf          B   12       10  Female  103994\n",
       "7        Prof          A   18       18    Male  126300"
      ]
     },
     "execution_count": 46,
     "metadata": {},
     "output_type": "execute_result"
    }
   ],
   "source": [
    "# sample with integer parameter\n",
    "rand_10 = df.sample(10)\n",
    "rand_10"
   ]
  },
  {
   "cell_type": "code",
   "execution_count": 49,
   "id": "6b0eda81",
   "metadata": {
    "ExecuteTime": {
     "end_time": "2022-10-19T03:19:48.729925Z",
     "start_time": "2022-10-19T03:19:48.710675Z"
    }
   },
   "outputs": [
    {
     "data": {
      "text/html": [
       "<div>\n",
       "<style scoped>\n",
       "    .dataframe tbody tr th:only-of-type {\n",
       "        vertical-align: middle;\n",
       "    }\n",
       "\n",
       "    .dataframe tbody tr th {\n",
       "        vertical-align: top;\n",
       "    }\n",
       "\n",
       "    .dataframe thead th {\n",
       "        text-align: right;\n",
       "    }\n",
       "</style>\n",
       "<table border=\"1\" class=\"dataframe\">\n",
       "  <thead>\n",
       "    <tr style=\"text-align: right;\">\n",
       "      <th></th>\n",
       "      <th>rank</th>\n",
       "      <th>discipline</th>\n",
       "      <th>phd</th>\n",
       "      <th>service</th>\n",
       "      <th>sex</th>\n",
       "      <th>salary</th>\n",
       "    </tr>\n",
       "  </thead>\n",
       "  <tbody>\n",
       "    <tr>\n",
       "      <th>42</th>\n",
       "      <td>AsstProf</td>\n",
       "      <td>B</td>\n",
       "      <td>4</td>\n",
       "      <td>2</td>\n",
       "      <td>Female</td>\n",
       "      <td>80225</td>\n",
       "    </tr>\n",
       "    <tr>\n",
       "      <th>71</th>\n",
       "      <td>AssocProf</td>\n",
       "      <td>B</td>\n",
       "      <td>12</td>\n",
       "      <td>9</td>\n",
       "      <td>Female</td>\n",
       "      <td>71065</td>\n",
       "    </tr>\n",
       "    <tr>\n",
       "      <th>46</th>\n",
       "      <td>AsstProf</td>\n",
       "      <td>B</td>\n",
       "      <td>11</td>\n",
       "      <td>3</td>\n",
       "      <td>Female</td>\n",
       "      <td>74692</td>\n",
       "    </tr>\n",
       "    <tr>\n",
       "      <th>34</th>\n",
       "      <td>AssocProf</td>\n",
       "      <td>B</td>\n",
       "      <td>12</td>\n",
       "      <td>8</td>\n",
       "      <td>Male</td>\n",
       "      <td>119800</td>\n",
       "    </tr>\n",
       "    <tr>\n",
       "      <th>19</th>\n",
       "      <td>Prof</td>\n",
       "      <td>A</td>\n",
       "      <td>29</td>\n",
       "      <td>27</td>\n",
       "      <td>Male</td>\n",
       "      <td>150500</td>\n",
       "    </tr>\n",
       "    <tr>\n",
       "      <th>76</th>\n",
       "      <td>Prof</td>\n",
       "      <td>A</td>\n",
       "      <td>28</td>\n",
       "      <td>14</td>\n",
       "      <td>Female</td>\n",
       "      <td>109954</td>\n",
       "    </tr>\n",
       "    <tr>\n",
       "      <th>53</th>\n",
       "      <td>AsstProf</td>\n",
       "      <td>A</td>\n",
       "      <td>5</td>\n",
       "      <td>3</td>\n",
       "      <td>Female</td>\n",
       "      <td>73500</td>\n",
       "    </tr>\n",
       "    <tr>\n",
       "      <th>54</th>\n",
       "      <td>AssocProf</td>\n",
       "      <td>A</td>\n",
       "      <td>25</td>\n",
       "      <td>22</td>\n",
       "      <td>Female</td>\n",
       "      <td>62884</td>\n",
       "    </tr>\n",
       "  </tbody>\n",
       "</table>\n",
       "</div>"
      ],
      "text/plain": [
       "         rank discipline  phd  service     sex  salary\n",
       "42   AsstProf          B    4        2  Female   80225\n",
       "71  AssocProf          B   12        9  Female   71065\n",
       "46   AsstProf          B   11        3  Female   74692\n",
       "34  AssocProf          B   12        8    Male  119800\n",
       "19       Prof          A   29       27    Male  150500\n",
       "76       Prof          A   28       14  Female  109954\n",
       "53   AsstProf          A    5        3  Female   73500\n",
       "54  AssocProf          A   25       22  Female   62884"
      ]
     },
     "execution_count": 49,
     "metadata": {},
     "output_type": "execute_result"
    }
   ],
   "source": [
    "# sample with float parameter\n",
    "prop_sample = df.sample(frac=0.1)\n",
    "prop_sample"
   ]
  },
  {
   "cell_type": "code",
   "execution_count": 50,
   "id": "6f95d7d3",
   "metadata": {
    "ExecuteTime": {
     "end_time": "2022-10-19T03:20:20.608715Z",
     "start_time": "2022-10-19T03:20:20.595927Z"
    }
   },
   "outputs": [
    {
     "data": {
      "text/plain": [
       "pandas.core.frame.DataFrame"
      ]
     },
     "execution_count": 50,
     "metadata": {},
     "output_type": "execute_result"
    }
   ],
   "source": [
    "type(prop_sample)"
   ]
  },
  {
   "cell_type": "code",
   "execution_count": 53,
   "id": "4b20f17d",
   "metadata": {
    "ExecuteTime": {
     "end_time": "2022-10-19T03:22:28.926927Z",
     "start_time": "2022-10-19T03:22:28.911312Z"
    }
   },
   "outputs": [
    {
     "data": {
      "text/plain": [
       "int"
      ]
     },
     "execution_count": 53,
     "metadata": {},
     "output_type": "execute_result"
    }
   ],
   "source": [
    "x=2131\n",
    "type(x)"
   ]
  },
  {
   "cell_type": "markdown",
   "id": "d238a9c4",
   "metadata": {},
   "source": [
    "### dropna()"
   ]
  },
  {
   "cell_type": "code",
   "execution_count": 52,
   "id": "8c52bf4a",
   "metadata": {
    "ExecuteTime": {
     "end_time": "2022-10-19T03:21:56.691940Z",
     "start_time": "2022-10-19T03:21:56.676027Z"
    }
   },
   "outputs": [
    {
     "data": {
      "text/plain": [
       "rank          0\n",
       "discipline    0\n",
       "phd           0\n",
       "service       0\n",
       "sex           0\n",
       "salary        0\n",
       "dtype: int64"
      ]
     },
     "execution_count": 52,
     "metadata": {},
     "output_type": "execute_result"
    }
   ],
   "source": [
    "# check for missing values\n",
    "df.isnull().sum()"
   ]
  },
  {
   "cell_type": "code",
   "execution_count": 54,
   "id": "79de5357",
   "metadata": {
    "ExecuteTime": {
     "end_time": "2022-10-19T03:24:15.537614Z",
     "start_time": "2022-10-19T03:24:15.519045Z"
    }
   },
   "outputs": [],
   "source": [
    "# drop rows with missing values\n",
    "df.dropna(inplace=True)"
   ]
  },
  {
   "cell_type": "code",
   "execution_count": null,
   "id": "b47122fc",
   "metadata": {},
   "outputs": [],
   "source": [
    "# df.dropna(axis=1) # axis=1 ==> columns, axis=0 ==> rows"
   ]
  },
  {
   "attachments": {
    "handson-dataframe_methods.png": {
     "image/png": "[encoded data removed]"
    }
   },
   "cell_type": "markdown",
   "id": "753f527c",
   "metadata": {},
   "source": [
    "![handson-dataframe_methods.png](attachment:handson-dataframe_methods.png)"
   ]
  },
  {
   "cell_type": "code",
   "execution_count": 58,
   "id": "323a24b2",
   "metadata": {
    "ExecuteTime": {
     "end_time": "2022-10-19T03:31:54.214240Z",
     "start_time": "2022-10-19T03:31:54.189007Z"
    }
   },
   "outputs": [
    {
     "data": {
      "text/html": [
       "<div>\n",
       "<style scoped>\n",
       "    .dataframe tbody tr th:only-of-type {\n",
       "        vertical-align: middle;\n",
       "    }\n",
       "\n",
       "    .dataframe tbody tr th {\n",
       "        vertical-align: top;\n",
       "    }\n",
       "\n",
       "    .dataframe thead th {\n",
       "        text-align: right;\n",
       "    }\n",
       "</style>\n",
       "<table border=\"1\" class=\"dataframe\">\n",
       "  <thead>\n",
       "    <tr style=\"text-align: right;\">\n",
       "      <th></th>\n",
       "      <th>phd</th>\n",
       "      <th>service</th>\n",
       "      <th>salary</th>\n",
       "    </tr>\n",
       "  </thead>\n",
       "  <tbody>\n",
       "    <tr>\n",
       "      <th>count</th>\n",
       "      <td>78.00</td>\n",
       "      <td>78.00</td>\n",
       "      <td>78.00</td>\n",
       "    </tr>\n",
       "    <tr>\n",
       "      <th>mean</th>\n",
       "      <td>19.71</td>\n",
       "      <td>15.05</td>\n",
       "      <td>108023.78</td>\n",
       "    </tr>\n",
       "    <tr>\n",
       "      <th>std</th>\n",
       "      <td>12.50</td>\n",
       "      <td>12.14</td>\n",
       "      <td>28293.66</td>\n",
       "    </tr>\n",
       "    <tr>\n",
       "      <th>min</th>\n",
       "      <td>1.00</td>\n",
       "      <td>0.00</td>\n",
       "      <td>57800.00</td>\n",
       "    </tr>\n",
       "    <tr>\n",
       "      <th>25%</th>\n",
       "      <td>10.25</td>\n",
       "      <td>5.25</td>\n",
       "      <td>88612.50</td>\n",
       "    </tr>\n",
       "    <tr>\n",
       "      <th>50%</th>\n",
       "      <td>18.50</td>\n",
       "      <td>14.50</td>\n",
       "      <td>104671.00</td>\n",
       "    </tr>\n",
       "    <tr>\n",
       "      <th>75%</th>\n",
       "      <td>27.75</td>\n",
       "      <td>20.75</td>\n",
       "      <td>126774.75</td>\n",
       "    </tr>\n",
       "    <tr>\n",
       "      <th>max</th>\n",
       "      <td>56.00</td>\n",
       "      <td>51.00</td>\n",
       "      <td>186960.00</td>\n",
       "    </tr>\n",
       "  </tbody>\n",
       "</table>\n",
       "</div>"
      ],
      "text/plain": [
       "         phd  service     salary\n",
       "count  78.00    78.00      78.00\n",
       "mean   19.71    15.05  108023.78\n",
       "std    12.50    12.14   28293.66\n",
       "min     1.00     0.00   57800.00\n",
       "25%    10.25     5.25   88612.50\n",
       "50%    18.50    14.50  104671.00\n",
       "75%    27.75    20.75  126774.75\n",
       "max    56.00    51.00  186960.00"
      ]
     },
     "execution_count": 58,
     "metadata": {},
     "output_type": "execute_result"
    }
   ],
   "source": [
    "df.describe().round(2)"
   ]
  },
  {
   "cell_type": "code",
   "execution_count": 60,
   "id": "0afd867a",
   "metadata": {
    "ExecuteTime": {
     "end_time": "2022-10-19T03:32:31.388264Z",
     "start_time": "2022-10-19T03:32:31.374909Z"
    }
   },
   "outputs": [
    {
     "data": {
      "text/plain": [
       "12.498424809175864"
      ]
     },
     "execution_count": 60,
     "metadata": {},
     "output_type": "execute_result"
    }
   ],
   "source": [
    "df['phd'].std() # similarly try out for other numeric features"
   ]
  },
  {
   "cell_type": "code",
   "execution_count": 61,
   "id": "79d4d4ea",
   "metadata": {
    "ExecuteTime": {
     "end_time": "2022-10-19T03:34:06.118571Z",
     "start_time": "2022-10-19T03:34:06.108760Z"
    }
   },
   "outputs": [],
   "source": [
    "top50_df = df.head(50)"
   ]
  },
  {
   "cell_type": "code",
   "execution_count": 63,
   "id": "9ab5bc6b",
   "metadata": {
    "ExecuteTime": {
     "end_time": "2022-10-19T03:34:35.568789Z",
     "start_time": "2022-10-19T03:34:35.554310Z"
    }
   },
   "outputs": [
    {
     "name": "stderr",
     "output_type": "stream",
     "text": [
      "/var/folders/7b/1z9v91v932x5_0krsv50_zkh0000gn/T/ipykernel_75904/1006544141.py:1: FutureWarning: Dropping of nuisance columns in DataFrame reductions (with 'numeric_only=None') is deprecated; in a future version this will raise TypeError.  Select only valid columns before calling the reduction.\n",
      "  top50_df.mean()\n"
     ]
    },
    {
     "data": {
      "text/plain": [
       "phd            21.52\n",
       "service        17.60\n",
       "salary     113789.14\n",
       "dtype: float64"
      ]
     },
     "execution_count": 63,
     "metadata": {},
     "output_type": "execute_result"
    }
   ],
   "source": [
    "top50_df.mean()"
   ]
  },
  {
   "attachments": {
    "selecting_column_df.png": {
     "image/png": "[encoded data removed]"
    }
   },
   "cell_type": "markdown",
   "id": "5886bdcb",
   "metadata": {},
   "source": [
    "## Selecting Column(s) in a Dataframe\n",
    "![selecting_column_df.png](attachment:selecting_column_df.png)"
   ]
  },
  {
   "cell_type": "code",
   "execution_count": null,
   "id": "ced90899",
   "metadata": {
    "ExecuteTime": {
     "end_time": "2022-10-04T11:31:26.550968Z",
     "start_time": "2022-10-04T11:31:26.548405Z"
    }
   },
   "outputs": [],
   "source": []
  },
  {
   "cell_type": "code",
   "execution_count": null,
   "id": "07b3ac4b",
   "metadata": {
    "ExecuteTime": {
     "end_time": "2022-10-04T11:37:12.550597Z",
     "start_time": "2022-10-04T11:37:12.535901Z"
    }
   },
   "outputs": [],
   "source": [
    "]"
   ]
  },
  {
   "attachments": {
    "handson_with_df_columns.png": {
     "image/png": "[encoded data removed]"
    }
   },
   "cell_type": "markdown",
   "id": "258600e6",
   "metadata": {},
   "source": [
    "## Hands on Exercise\n",
    "![handson_with_df_columns.png](attachment:handson_with_df_columns.png)"
   ]
  },
  {
   "cell_type": "markdown",
   "id": "df2c935a",
   "metadata": {},
   "source": [
    "## Groupby Method\n",
    "\n",
    "Using \"group by\" method we can:\n",
    "\n",
    "- Split the data into groups based on some criteria\n",
    "- Calculate statistics (or apply a function) to each group\n"
   ]
  },
  {
   "cell_type": "code",
   "execution_count": null,
   "id": "329d1edf",
   "metadata": {
    "ExecuteTime": {
     "end_time": "2022-10-04T11:31:26.578298Z",
     "start_time": "2022-10-04T11:31:26.574896Z"
    }
   },
   "outputs": [],
   "source": [
    "# check the head of the dataset\n"
   ]
  },
  {
   "cell_type": "code",
   "execution_count": null,
   "id": "59ae04e2",
   "metadata": {
    "ExecuteTime": {
     "end_time": "2022-10-04T11:31:26.583140Z",
     "start_time": "2022-10-04T11:31:26.579105Z"
    }
   },
   "outputs": [],
   "source": [
    "# groupby the `rank` feature and calculate the means of the numeric features within each group\n"
   ]
  },
  {
   "cell_type": "code",
   "execution_count": null,
   "id": "65cdae6f",
   "metadata": {
    "ExecuteTime": {
     "end_time": "2022-10-04T11:31:26.587041Z",
     "start_time": "2022-10-04T11:31:26.584023Z"
    }
   },
   "outputs": [],
   "source": [
    "# calculate the mean salary of people in each rank\n"
   ]
  },
  {
   "cell_type": "code",
   "execution_count": null,
   "id": "35481777",
   "metadata": {
    "ExecuteTime": {
     "end_time": "2022-10-04T11:31:26.592472Z",
     "start_time": "2022-10-04T11:31:26.587796Z"
    }
   },
   "outputs": [],
   "source": []
  },
  {
   "cell_type": "markdown",
   "id": "b81da887",
   "metadata": {},
   "source": [
    "groupby performance notes:\n",
    "- no grouping/splitting occurs until it's needed. Creating the groupby object only verifies that you have passed a valid mapping\n",
    "- by default the group keys are sorted during the groupby operation. You may want to pass sort=False for potential speedup!"
   ]
  },
  {
   "cell_type": "markdown",
   "id": "5e2b1c41",
   "metadata": {},
   "source": [
    "## Filtering records(rows or observations) from a Dataframe\n",
    "### Using Boolean Conditions (True/False)"
   ]
  },
  {
   "cell_type": "code",
   "execution_count": null,
   "id": "fd35e8df",
   "metadata": {
    "ExecuteTime": {
     "end_time": "2022-10-04T11:31:26.598995Z",
     "start_time": "2022-10-04T11:31:26.593714Z"
    }
   },
   "outputs": [],
   "source": []
  },
  {
   "attachments": {
    "slicing_df.png": {
     "image/png": "[encoded data removed]"
    }
   },
   "cell_type": "markdown",
   "id": "37b108e8",
   "metadata": {},
   "source": [
    "## Slicing a Dataframe\n",
    "![slicing_df.png](attachment:slicing_df.png)"
   ]
  },
  {
   "cell_type": "markdown",
   "id": "196d577f",
   "metadata": {},
   "source": [
    "### Using row/col index numbers"
   ]
  },
  {
   "cell_type": "code",
   "execution_count": null,
   "id": "ea096c7e",
   "metadata": {
    "ExecuteTime": {
     "end_time": "2022-10-04T11:31:26.603319Z",
     "start_time": "2022-10-04T11:31:26.599923Z"
    }
   },
   "outputs": [],
   "source": [
    "# .iloc[]\n"
   ]
  },
  {
   "cell_type": "markdown",
   "id": "b12e87a4",
   "metadata": {},
   "source": [
    "### Using row/col names"
   ]
  },
  {
   "cell_type": "code",
   "execution_count": null,
   "id": "23e83299",
   "metadata": {
    "ExecuteTime": {
     "end_time": "2022-10-04T11:31:26.612421Z",
     "start_time": "2022-10-04T11:31:26.608133Z"
    }
   },
   "outputs": [],
   "source": [
    "# loc[]\n"
   ]
  },
  {
   "cell_type": "markdown",
   "id": "1cf04f0c",
   "metadata": {},
   "source": [
    "### Selecting Multiple Columns from a Dataframe"
   ]
  },
  {
   "cell_type": "code",
   "execution_count": null,
   "id": "52977c34",
   "metadata": {
    "ExecuteTime": {
     "end_time": "2022-10-04T11:31:26.616682Z",
     "start_time": "2022-10-04T11:31:26.613299Z"
    }
   },
   "outputs": [],
   "source": []
  },
  {
   "attachments": {
    "agg_funcs.png": {
     "image/png": "[encoded data removed]"
    }
   },
   "cell_type": "markdown",
   "id": "f2fd6412",
   "metadata": {},
   "source": [
    "## Aggregation Functions with agg() method\n",
    "![agg_funcs.png](attachment:agg_funcs.png)"
   ]
  },
  {
   "cell_type": "code",
   "execution_count": null,
   "id": "95c5d31f",
   "metadata": {
    "ExecuteTime": {
     "end_time": "2022-10-04T11:31:26.619807Z",
     "start_time": "2022-10-04T11:31:26.617570Z"
    }
   },
   "outputs": [],
   "source": [
    "df.columns"
   ]
  },
  {
   "cell_type": "code",
   "execution_count": null,
   "id": "f0e0c5b1",
   "metadata": {
    "ExecuteTime": {
     "end_time": "2022-10-04T11:38:13.523967Z",
     "start_time": "2022-10-04T11:38:13.505515Z"
    }
   },
   "outputs": [],
   "source": [
    "df[['phd','salary']].agg(['min','mean'])"
   ]
  },
  {
   "attachments": {
    "basic_desc_stats.png": {
     "image/png": "[encoded data removed]"
    }
   },
   "cell_type": "markdown",
   "id": "4fa5d9bb",
   "metadata": {},
   "source": [
    "## Basic Descriptive Stats\n",
    "![basic_desc_stats.png](attachment:basic_desc_stats.png)"
   ]
  },
  {
   "cell_type": "code",
   "execution_count": null,
   "id": "be97fad6",
   "metadata": {
    "ExecuteTime": {
     "end_time": "2022-10-04T11:32:30.725235Z",
     "start_time": "2022-10-04T11:32:30.714093Z"
    }
   },
   "outputs": [],
   "source": [
    "# skew\n"
   ]
  },
  {
   "cell_type": "code",
   "execution_count": null,
   "id": "8659dc25",
   "metadata": {
    "ExecuteTime": {
     "end_time": "2022-10-04T11:33:54.285118Z",
     "start_time": "2022-10-04T11:33:54.271884Z"
    }
   },
   "outputs": [],
   "source": [
    "# kurtosis\n"
   ]
  }
 ],
 "metadata": {
  "kernelspec": {
   "display_name": "Python 3 (ipykernel)",
   "language": "python",
   "name": "python3"
  },
  "language_info": {
   "codemirror_mode": {
    "name": "ipython",
    "version": 3
   },
   "file_extension": ".py",
   "mimetype": "text/x-python",
   "name": "python",
   "nbconvert_exporter": "python",
   "pygments_lexer": "ipython3",
   "version": "3.10.6"
  },
  "toc": {
   "base_numbering": 1,
   "nav_menu": {},
   "number_sections": true,
   "sideBar": true,
   "skip_h1_title": false,
   "title_cell": "Table of Contents",
   "title_sidebar": "Contents",
   "toc_cell": false,
   "toc_position": {},
   "toc_section_display": true,
   "toc_window_display": false
  }
 },
 "nbformat": 4,
 "nbformat_minor": 5
}
