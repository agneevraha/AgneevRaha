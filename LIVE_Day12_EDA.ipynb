{
 "cells": [
  {
   "cell_type": "markdown",
   "id": "d998d245",
   "metadata": {},
   "source": [
    "# Exploratory Data Analysis"
   ]
  },
  {
   "cell_type": "markdown",
   "id": "382d59b8",
   "metadata": {},
   "source": [
    "## Import Libraries"
   ]
  },
  {
   "cell_type": "code",
   "execution_count": 1,
   "id": "a101b47b",
   "metadata": {
    "ExecuteTime": {
     "end_time": "2022-11-04T01:48:20.094792Z",
     "start_time": "2022-11-04T01:48:19.031636Z"
    }
   },
   "outputs": [],
   "source": [
    "import pandas as pd \n",
    "import numpy as np \n",
    "import matplotlib.pyplot as plt \n",
    "import seaborn as sns\n",
    "plt.style.use('ggplot')"
   ]
  },
  {
   "cell_type": "markdown",
   "id": "7e85ccdc",
   "metadata": {},
   "source": [
    "## Load the Dataset `data_clean.csv`"
   ]
  },
  {
   "cell_type": "code",
   "execution_count": 2,
   "id": "83c69799",
   "metadata": {
    "ExecuteTime": {
     "end_time": "2022-11-04T01:48:20.101755Z",
     "start_time": "2022-11-04T01:48:20.096361Z"
    }
   },
   "outputs": [],
   "source": [
    "df = pd.read_csv('data_clean.csv')"
   ]
  },
  {
   "cell_type": "markdown",
   "id": "a9ef49af",
   "metadata": {},
   "source": [
    "## Check the Shape"
   ]
  },
  {
   "cell_type": "code",
   "execution_count": 3,
   "id": "8772cfde",
   "metadata": {
    "ExecuteTime": {
     "end_time": "2022-11-04T01:48:20.107089Z",
     "start_time": "2022-11-04T01:48:20.102544Z"
    }
   },
   "outputs": [
    {
     "data": {
      "text/plain": [
       "(158, 9)"
      ]
     },
     "execution_count": 3,
     "metadata": {},
     "output_type": "execute_result"
    }
   ],
   "source": [
    "df.shape"
   ]
  },
  {
   "cell_type": "markdown",
   "id": "18abc467",
   "metadata": {},
   "source": [
    "## Head & Tail of the Dataframe"
   ]
  },
  {
   "cell_type": "code",
   "execution_count": 4,
   "id": "955bc1de",
   "metadata": {
    "ExecuteTime": {
     "end_time": "2022-11-04T01:48:20.116030Z",
     "start_time": "2022-11-04T01:48:20.107938Z"
    }
   },
   "outputs": [
    {
     "data": {
      "text/html": [
       "<div>\n",
       "<style scoped>\n",
       "    .dataframe tbody tr th:only-of-type {\n",
       "        vertical-align: middle;\n",
       "    }\n",
       "\n",
       "    .dataframe tbody tr th {\n",
       "        vertical-align: top;\n",
       "    }\n",
       "\n",
       "    .dataframe thead th {\n",
       "        text-align: right;\n",
       "    }\n",
       "</style>\n",
       "<table border=\"1\" class=\"dataframe\">\n",
       "  <thead>\n",
       "    <tr style=\"text-align: right;\">\n",
       "      <th></th>\n",
       "      <th>Ozone</th>\n",
       "      <th>Solar.R</th>\n",
       "      <th>Wind</th>\n",
       "      <th>Temp C</th>\n",
       "      <th>Month</th>\n",
       "      <th>Day</th>\n",
       "      <th>Year</th>\n",
       "      <th>Temp</th>\n",
       "      <th>Weather</th>\n",
       "    </tr>\n",
       "  </thead>\n",
       "  <tbody>\n",
       "    <tr>\n",
       "      <th>0</th>\n",
       "      <td>41.0</td>\n",
       "      <td>190.0</td>\n",
       "      <td>7.4</td>\n",
       "      <td>67</td>\n",
       "      <td>5</td>\n",
       "      <td>1</td>\n",
       "      <td>2010</td>\n",
       "      <td>67</td>\n",
       "      <td>S</td>\n",
       "    </tr>\n",
       "    <tr>\n",
       "      <th>1</th>\n",
       "      <td>36.0</td>\n",
       "      <td>118.0</td>\n",
       "      <td>8.0</td>\n",
       "      <td>72</td>\n",
       "      <td>5</td>\n",
       "      <td>2</td>\n",
       "      <td>2010</td>\n",
       "      <td>72</td>\n",
       "      <td>C</td>\n",
       "    </tr>\n",
       "    <tr>\n",
       "      <th>2</th>\n",
       "      <td>12.0</td>\n",
       "      <td>149.0</td>\n",
       "      <td>12.6</td>\n",
       "      <td>74</td>\n",
       "      <td>5</td>\n",
       "      <td>3</td>\n",
       "      <td>2010</td>\n",
       "      <td>74</td>\n",
       "      <td>PS</td>\n",
       "    </tr>\n",
       "    <tr>\n",
       "      <th>3</th>\n",
       "      <td>18.0</td>\n",
       "      <td>313.0</td>\n",
       "      <td>11.5</td>\n",
       "      <td>62</td>\n",
       "      <td>5</td>\n",
       "      <td>4</td>\n",
       "      <td>2010</td>\n",
       "      <td>62</td>\n",
       "      <td>S</td>\n",
       "    </tr>\n",
       "    <tr>\n",
       "      <th>4</th>\n",
       "      <td>NaN</td>\n",
       "      <td>NaN</td>\n",
       "      <td>14.3</td>\n",
       "      <td>56</td>\n",
       "      <td>5</td>\n",
       "      <td>5</td>\n",
       "      <td>2010</td>\n",
       "      <td>56</td>\n",
       "      <td>S</td>\n",
       "    </tr>\n",
       "  </tbody>\n",
       "</table>\n",
       "</div>"
      ],
      "text/plain": [
       "   Ozone  Solar.R  Wind Temp C Month  Day  Year  Temp Weather\n",
       "0   41.0    190.0   7.4     67     5    1  2010    67       S\n",
       "1   36.0    118.0   8.0     72     5    2  2010    72       C\n",
       "2   12.0    149.0  12.6     74     5    3  2010    74      PS\n",
       "3   18.0    313.0  11.5     62     5    4  2010    62       S\n",
       "4    NaN      NaN  14.3     56     5    5  2010    56       S"
      ]
     },
     "execution_count": 4,
     "metadata": {},
     "output_type": "execute_result"
    }
   ],
   "source": [
    "df.head()"
   ]
  },
  {
   "cell_type": "code",
   "execution_count": 5,
   "id": "8053b186",
   "metadata": {
    "ExecuteTime": {
     "end_time": "2022-11-04T01:48:20.124029Z",
     "start_time": "2022-11-04T01:48:20.118412Z"
    }
   },
   "outputs": [
    {
     "data": {
      "text/html": [
       "<div>\n",
       "<style scoped>\n",
       "    .dataframe tbody tr th:only-of-type {\n",
       "        vertical-align: middle;\n",
       "    }\n",
       "\n",
       "    .dataframe tbody tr th {\n",
       "        vertical-align: top;\n",
       "    }\n",
       "\n",
       "    .dataframe thead th {\n",
       "        text-align: right;\n",
       "    }\n",
       "</style>\n",
       "<table border=\"1\" class=\"dataframe\">\n",
       "  <thead>\n",
       "    <tr style=\"text-align: right;\">\n",
       "      <th></th>\n",
       "      <th>Ozone</th>\n",
       "      <th>Solar.R</th>\n",
       "      <th>Wind</th>\n",
       "      <th>Temp C</th>\n",
       "      <th>Month</th>\n",
       "      <th>Day</th>\n",
       "      <th>Year</th>\n",
       "      <th>Temp</th>\n",
       "      <th>Weather</th>\n",
       "    </tr>\n",
       "  </thead>\n",
       "  <tbody>\n",
       "    <tr>\n",
       "      <th>153</th>\n",
       "      <td>41.0</td>\n",
       "      <td>190.0</td>\n",
       "      <td>7.4</td>\n",
       "      <td>67</td>\n",
       "      <td>5</td>\n",
       "      <td>1</td>\n",
       "      <td>2010</td>\n",
       "      <td>67</td>\n",
       "      <td>C</td>\n",
       "    </tr>\n",
       "    <tr>\n",
       "      <th>154</th>\n",
       "      <td>30.0</td>\n",
       "      <td>193.0</td>\n",
       "      <td>6.9</td>\n",
       "      <td>70</td>\n",
       "      <td>9</td>\n",
       "      <td>26</td>\n",
       "      <td>2010</td>\n",
       "      <td>70</td>\n",
       "      <td>PS</td>\n",
       "    </tr>\n",
       "    <tr>\n",
       "      <th>155</th>\n",
       "      <td>NaN</td>\n",
       "      <td>145.0</td>\n",
       "      <td>13.2</td>\n",
       "      <td>77</td>\n",
       "      <td>9</td>\n",
       "      <td>27</td>\n",
       "      <td>2010</td>\n",
       "      <td>77</td>\n",
       "      <td>S</td>\n",
       "    </tr>\n",
       "    <tr>\n",
       "      <th>156</th>\n",
       "      <td>14.0</td>\n",
       "      <td>191.0</td>\n",
       "      <td>14.3</td>\n",
       "      <td>75</td>\n",
       "      <td>9</td>\n",
       "      <td>28</td>\n",
       "      <td>2010</td>\n",
       "      <td>75</td>\n",
       "      <td>S</td>\n",
       "    </tr>\n",
       "    <tr>\n",
       "      <th>157</th>\n",
       "      <td>18.0</td>\n",
       "      <td>131.0</td>\n",
       "      <td>8.0</td>\n",
       "      <td>76</td>\n",
       "      <td>9</td>\n",
       "      <td>29</td>\n",
       "      <td>2010</td>\n",
       "      <td>76</td>\n",
       "      <td>C</td>\n",
       "    </tr>\n",
       "  </tbody>\n",
       "</table>\n",
       "</div>"
      ],
      "text/plain": [
       "     Ozone  Solar.R  Wind Temp C Month  Day  Year  Temp Weather\n",
       "153   41.0    190.0   7.4     67     5    1  2010    67       C\n",
       "154   30.0    193.0   6.9     70     9   26  2010    70      PS\n",
       "155    NaN    145.0  13.2     77     9   27  2010    77       S\n",
       "156   14.0    191.0  14.3     75     9   28  2010    75       S\n",
       "157   18.0    131.0   8.0     76     9   29  2010    76       C"
      ]
     },
     "execution_count": 5,
     "metadata": {},
     "output_type": "execute_result"
    }
   ],
   "source": [
    "df.tail()"
   ]
  },
  {
   "cell_type": "markdown",
   "id": "bf0fd93a",
   "metadata": {},
   "source": [
    "## Datatype of Features"
   ]
  },
  {
   "cell_type": "code",
   "execution_count": 6,
   "id": "72883b8f",
   "metadata": {
    "ExecuteTime": {
     "end_time": "2022-11-04T01:48:20.131877Z",
     "start_time": "2022-11-04T01:48:20.125067Z"
    }
   },
   "outputs": [
    {
     "name": "stdout",
     "output_type": "stream",
     "text": [
      "<class 'pandas.core.frame.DataFrame'>\n",
      "RangeIndex: 158 entries, 0 to 157\n",
      "Data columns (total 9 columns):\n",
      " #   Column   Non-Null Count  Dtype  \n",
      "---  ------   --------------  -----  \n",
      " 0   Ozone    120 non-null    float64\n",
      " 1   Solar.R  151 non-null    float64\n",
      " 2   Wind     158 non-null    float64\n",
      " 3   Temp C   158 non-null    object \n",
      " 4   Month    158 non-null    object \n",
      " 5   Day      158 non-null    int64  \n",
      " 6   Year     158 non-null    int64  \n",
      " 7   Temp     158 non-null    int64  \n",
      " 8   Weather  155 non-null    object \n",
      "dtypes: float64(3), int64(3), object(3)\n",
      "memory usage: 11.2+ KB\n"
     ]
    }
   ],
   "source": [
    "# info\n",
    "df.info()"
   ]
  },
  {
   "cell_type": "code",
   "execution_count": 7,
   "id": "cd32e7c7",
   "metadata": {
    "ExecuteTime": {
     "end_time": "2022-11-04T01:48:20.136735Z",
     "start_time": "2022-11-04T01:48:20.133808Z"
    }
   },
   "outputs": [
    {
     "data": {
      "text/plain": [
       "Ozone      float64\n",
       "Solar.R    float64\n",
       "Wind       float64\n",
       "Temp C      object\n",
       "Month       object\n",
       "Day          int64\n",
       "Year         int64\n",
       "Temp         int64\n",
       "Weather     object\n",
       "dtype: object"
      ]
     },
     "execution_count": 7,
     "metadata": {},
     "output_type": "execute_result"
    }
   ],
   "source": [
    "# dtypes\n",
    "df.dtypes"
   ]
  },
  {
   "cell_type": "markdown",
   "id": "2094ed6d",
   "metadata": {},
   "source": [
    "## Datatype Conversion\n",
    "\n",
    "`Temp C` and `Month` though they have numbers, have been loaded as object datatype. Lets convert it to numeric"
   ]
  },
  {
   "cell_type": "code",
   "execution_count": 8,
   "id": "c9cf0157",
   "metadata": {
    "ExecuteTime": {
     "end_time": "2022-11-04T01:48:20.144845Z",
     "start_time": "2022-11-04T01:48:20.137762Z"
    }
   },
   "outputs": [],
   "source": [
    "# pd.to_numeric() with errors parameter = 'coerce'\n",
    "df['Temp C'] = pd.to_numeric(df['Temp C'],errors='coerce')\n",
    "df['Month'] = pd.to_numeric(df['Month'],errors='coerce')"
   ]
  },
  {
   "cell_type": "code",
   "execution_count": 9,
   "id": "408eefb7",
   "metadata": {
    "ExecuteTime": {
     "end_time": "2022-11-04T01:48:20.151731Z",
     "start_time": "2022-11-04T01:48:20.149805Z"
    }
   },
   "outputs": [],
   "source": [
    "# df['col'].astype('int64')  #'float64' # 'object'"
   ]
  },
  {
   "cell_type": "code",
   "execution_count": 10,
   "id": "a726b8c6",
   "metadata": {
    "ExecuteTime": {
     "end_time": "2022-11-04T01:48:20.160582Z",
     "start_time": "2022-11-04T01:48:20.153055Z"
    }
   },
   "outputs": [
    {
     "name": "stdout",
     "output_type": "stream",
     "text": [
      "<class 'pandas.core.frame.DataFrame'>\n",
      "RangeIndex: 158 entries, 0 to 157\n",
      "Data columns (total 9 columns):\n",
      " #   Column   Non-Null Count  Dtype  \n",
      "---  ------   --------------  -----  \n",
      " 0   Ozone    120 non-null    float64\n",
      " 1   Solar.R  151 non-null    float64\n",
      " 2   Wind     158 non-null    float64\n",
      " 3   Temp C   157 non-null    float64\n",
      " 4   Month    157 non-null    float64\n",
      " 5   Day      158 non-null    int64  \n",
      " 6   Year     158 non-null    int64  \n",
      " 7   Temp     158 non-null    int64  \n",
      " 8   Weather  155 non-null    object \n",
      "dtypes: float64(5), int64(3), object(1)\n",
      "memory usage: 11.2+ KB\n"
     ]
    }
   ],
   "source": [
    "# check the datatypes once again after the conversion\n",
    "df.info()"
   ]
  },
  {
   "cell_type": "markdown",
   "id": "738bc28a",
   "metadata": {},
   "source": [
    "check this link for more information on datatype conversion:\n",
    "https://stackoverflow.com/questions/15891038/change-column-type-in-pandas"
   ]
  },
  {
   "cell_type": "markdown",
   "id": "f2e42423",
   "metadata": {},
   "source": [
    "## Check for Duplicates and Drop Duplicates"
   ]
  },
  {
   "cell_type": "code",
   "execution_count": 11,
   "id": "0e12efea",
   "metadata": {
    "ExecuteTime": {
     "end_time": "2022-11-04T01:48:20.169556Z",
     "start_time": "2022-11-04T01:48:20.161807Z"
    }
   },
   "outputs": [
    {
     "data": {
      "text/plain": [
       "1"
      ]
     },
     "execution_count": 11,
     "metadata": {},
     "output_type": "execute_result"
    }
   ],
   "source": [
    "# count the number of duplicate records\n",
    "df.duplicated().sum()"
   ]
  },
  {
   "cell_type": "code",
   "execution_count": 12,
   "id": "ba164b0c",
   "metadata": {
    "ExecuteTime": {
     "end_time": "2022-11-04T01:48:20.174258Z",
     "start_time": "2022-11-04T01:48:20.170689Z"
    }
   },
   "outputs": [],
   "source": [
    "# drop the duplicate records\n",
    "df.drop_duplicates(inplace=True) # df = df.drop_duplicates()"
   ]
  },
  {
   "cell_type": "code",
   "execution_count": 13,
   "id": "bd5fbc11",
   "metadata": {
    "ExecuteTime": {
     "end_time": "2022-11-04T01:48:20.179704Z",
     "start_time": "2022-11-04T01:48:20.175696Z"
    }
   },
   "outputs": [
    {
     "data": {
      "text/plain": [
       "0"
      ]
     },
     "execution_count": 13,
     "metadata": {},
     "output_type": "execute_result"
    }
   ],
   "source": [
    "df.duplicated().sum()"
   ]
  },
  {
   "cell_type": "markdown",
   "id": "19659801",
   "metadata": {},
   "source": [
    "## Drop Features\n",
    "\n",
    "Here the `Temp C` feature has the same data as the `Temp` feature. So we will drop the `Temp C` feature."
   ]
  },
  {
   "cell_type": "code",
   "execution_count": 14,
   "id": "ca977165",
   "metadata": {
    "ExecuteTime": {
     "end_time": "2022-11-04T01:48:20.185905Z",
     "start_time": "2022-11-04T01:48:20.183198Z"
    }
   },
   "outputs": [],
   "source": [
    "df.drop('Temp C', axis=1,inplace=True) # df.drop(['Temp C','Unnamed: 0'], axis=1, inplace=True)"
   ]
  },
  {
   "cell_type": "code",
   "execution_count": 15,
   "id": "b5b98542",
   "metadata": {
    "ExecuteTime": {
     "end_time": "2022-11-04T01:48:20.192688Z",
     "start_time": "2022-11-04T01:48:20.187054Z"
    }
   },
   "outputs": [
    {
     "data": {
      "text/html": [
       "<div>\n",
       "<style scoped>\n",
       "    .dataframe tbody tr th:only-of-type {\n",
       "        vertical-align: middle;\n",
       "    }\n",
       "\n",
       "    .dataframe tbody tr th {\n",
       "        vertical-align: top;\n",
       "    }\n",
       "\n",
       "    .dataframe thead th {\n",
       "        text-align: right;\n",
       "    }\n",
       "</style>\n",
       "<table border=\"1\" class=\"dataframe\">\n",
       "  <thead>\n",
       "    <tr style=\"text-align: right;\">\n",
       "      <th></th>\n",
       "      <th>Ozone</th>\n",
       "      <th>Solar.R</th>\n",
       "      <th>Wind</th>\n",
       "      <th>Month</th>\n",
       "      <th>Day</th>\n",
       "      <th>Year</th>\n",
       "      <th>Temp</th>\n",
       "      <th>Weather</th>\n",
       "    </tr>\n",
       "  </thead>\n",
       "  <tbody>\n",
       "    <tr>\n",
       "      <th>0</th>\n",
       "      <td>41.0</td>\n",
       "      <td>190.0</td>\n",
       "      <td>7.4</td>\n",
       "      <td>5.0</td>\n",
       "      <td>1</td>\n",
       "      <td>2010</td>\n",
       "      <td>67</td>\n",
       "      <td>S</td>\n",
       "    </tr>\n",
       "    <tr>\n",
       "      <th>1</th>\n",
       "      <td>36.0</td>\n",
       "      <td>118.0</td>\n",
       "      <td>8.0</td>\n",
       "      <td>5.0</td>\n",
       "      <td>2</td>\n",
       "      <td>2010</td>\n",
       "      <td>72</td>\n",
       "      <td>C</td>\n",
       "    </tr>\n",
       "    <tr>\n",
       "      <th>2</th>\n",
       "      <td>12.0</td>\n",
       "      <td>149.0</td>\n",
       "      <td>12.6</td>\n",
       "      <td>5.0</td>\n",
       "      <td>3</td>\n",
       "      <td>2010</td>\n",
       "      <td>74</td>\n",
       "      <td>PS</td>\n",
       "    </tr>\n",
       "    <tr>\n",
       "      <th>3</th>\n",
       "      <td>18.0</td>\n",
       "      <td>313.0</td>\n",
       "      <td>11.5</td>\n",
       "      <td>5.0</td>\n",
       "      <td>4</td>\n",
       "      <td>2010</td>\n",
       "      <td>62</td>\n",
       "      <td>S</td>\n",
       "    </tr>\n",
       "    <tr>\n",
       "      <th>4</th>\n",
       "      <td>NaN</td>\n",
       "      <td>NaN</td>\n",
       "      <td>14.3</td>\n",
       "      <td>5.0</td>\n",
       "      <td>5</td>\n",
       "      <td>2010</td>\n",
       "      <td>56</td>\n",
       "      <td>S</td>\n",
       "    </tr>\n",
       "  </tbody>\n",
       "</table>\n",
       "</div>"
      ],
      "text/plain": [
       "   Ozone  Solar.R  Wind  Month  Day  Year  Temp Weather\n",
       "0   41.0    190.0   7.4    5.0    1  2010    67       S\n",
       "1   36.0    118.0   8.0    5.0    2  2010    72       C\n",
       "2   12.0    149.0  12.6    5.0    3  2010    74      PS\n",
       "3   18.0    313.0  11.5    5.0    4  2010    62       S\n",
       "4    NaN      NaN  14.3    5.0    5  2010    56       S"
      ]
     },
     "execution_count": 15,
     "metadata": {},
     "output_type": "execute_result"
    }
   ],
   "source": [
    "df.head()"
   ]
  },
  {
   "cell_type": "code",
   "execution_count": 16,
   "id": "9b885b7a",
   "metadata": {
    "ExecuteTime": {
     "end_time": "2022-11-04T01:48:20.196493Z",
     "start_time": "2022-11-04T01:48:20.194015Z"
    }
   },
   "outputs": [
    {
     "data": {
      "text/plain": [
       "Index(['Ozone', 'Solar.R', 'Wind', 'Month', 'Day', 'Year', 'Temp', 'Weather'], dtype='object')"
      ]
     },
     "execution_count": 16,
     "metadata": {},
     "output_type": "execute_result"
    }
   ],
   "source": [
    "df.columns"
   ]
  },
  {
   "cell_type": "markdown",
   "id": "e4fa7265",
   "metadata": {},
   "source": [
    "## Renaming the Columns\n",
    "\n",
    "Let rename the `Solar.R` feature as just `Solar`"
   ]
  },
  {
   "cell_type": "code",
   "execution_count": 17,
   "id": "dbe0eb46",
   "metadata": {
    "ExecuteTime": {
     "end_time": "2022-11-04T01:48:20.203647Z",
     "start_time": "2022-11-04T01:48:20.197773Z"
    }
   },
   "outputs": [
    {
     "data": {
      "text/html": [
       "<div>\n",
       "<style scoped>\n",
       "    .dataframe tbody tr th:only-of-type {\n",
       "        vertical-align: middle;\n",
       "    }\n",
       "\n",
       "    .dataframe tbody tr th {\n",
       "        vertical-align: top;\n",
       "    }\n",
       "\n",
       "    .dataframe thead th {\n",
       "        text-align: right;\n",
       "    }\n",
       "</style>\n",
       "<table border=\"1\" class=\"dataframe\">\n",
       "  <thead>\n",
       "    <tr style=\"text-align: right;\">\n",
       "      <th></th>\n",
       "      <th>Ozone</th>\n",
       "      <th>solar</th>\n",
       "      <th>Wind</th>\n",
       "      <th>Month</th>\n",
       "      <th>Day</th>\n",
       "      <th>Year</th>\n",
       "      <th>Temp</th>\n",
       "      <th>Weather</th>\n",
       "    </tr>\n",
       "  </thead>\n",
       "  <tbody>\n",
       "    <tr>\n",
       "      <th>0</th>\n",
       "      <td>41.0</td>\n",
       "      <td>190.0</td>\n",
       "      <td>7.4</td>\n",
       "      <td>5.0</td>\n",
       "      <td>1</td>\n",
       "      <td>2010</td>\n",
       "      <td>67</td>\n",
       "      <td>S</td>\n",
       "    </tr>\n",
       "    <tr>\n",
       "      <th>1</th>\n",
       "      <td>36.0</td>\n",
       "      <td>118.0</td>\n",
       "      <td>8.0</td>\n",
       "      <td>5.0</td>\n",
       "      <td>2</td>\n",
       "      <td>2010</td>\n",
       "      <td>72</td>\n",
       "      <td>C</td>\n",
       "    </tr>\n",
       "    <tr>\n",
       "      <th>2</th>\n",
       "      <td>12.0</td>\n",
       "      <td>149.0</td>\n",
       "      <td>12.6</td>\n",
       "      <td>5.0</td>\n",
       "      <td>3</td>\n",
       "      <td>2010</td>\n",
       "      <td>74</td>\n",
       "      <td>PS</td>\n",
       "    </tr>\n",
       "    <tr>\n",
       "      <th>3</th>\n",
       "      <td>18.0</td>\n",
       "      <td>313.0</td>\n",
       "      <td>11.5</td>\n",
       "      <td>5.0</td>\n",
       "      <td>4</td>\n",
       "      <td>2010</td>\n",
       "      <td>62</td>\n",
       "      <td>S</td>\n",
       "    </tr>\n",
       "    <tr>\n",
       "      <th>4</th>\n",
       "      <td>NaN</td>\n",
       "      <td>NaN</td>\n",
       "      <td>14.3</td>\n",
       "      <td>5.0</td>\n",
       "      <td>5</td>\n",
       "      <td>2010</td>\n",
       "      <td>56</td>\n",
       "      <td>S</td>\n",
       "    </tr>\n",
       "  </tbody>\n",
       "</table>\n",
       "</div>"
      ],
      "text/plain": [
       "   Ozone  solar  Wind  Month  Day  Year  Temp Weather\n",
       "0   41.0  190.0   7.4    5.0    1  2010    67       S\n",
       "1   36.0  118.0   8.0    5.0    2  2010    72       C\n",
       "2   12.0  149.0  12.6    5.0    3  2010    74      PS\n",
       "3   18.0  313.0  11.5    5.0    4  2010    62       S\n",
       "4    NaN    NaN  14.3    5.0    5  2010    56       S"
      ]
     },
     "execution_count": 17,
     "metadata": {},
     "output_type": "execute_result"
    }
   ],
   "source": [
    "df = df.rename({'Solar.R':'solar'},axis=1)\n",
    "df.head()"
   ]
  },
  {
   "cell_type": "code",
   "execution_count": 18,
   "id": "c1963bd8",
   "metadata": {
    "ExecuteTime": {
     "end_time": "2022-11-04T01:48:20.208937Z",
     "start_time": "2022-11-04T01:48:20.204617Z"
    }
   },
   "outputs": [],
   "source": [
    "df.to_csv('new_formatted.csv')"
   ]
  },
  {
   "cell_type": "markdown",
   "id": "9a10f5a5",
   "metadata": {},
   "source": [
    "## Outlier Detection"
   ]
  },
  {
   "cell_type": "code",
   "execution_count": 19,
   "id": "cba43803",
   "metadata": {
    "ExecuteTime": {
     "end_time": "2022-11-04T01:48:20.600525Z",
     "start_time": "2022-11-04T01:48:20.210209Z"
    }
   },
   "outputs": [
    {
     "data": {
      "image/png": "[encoded data removed]",
      "text/plain": [
       "<Figure size 1000x600 with 7 Axes>"
      ]
     },
     "metadata": {},
     "output_type": "display_data"
    }
   ],
   "source": [
    "# using boxplots\n",
    "df.plot(kind='box', subplots=True,figsize=(10,6))\n",
    "plt.tight_layout();"
   ]
  },
  {
   "cell_type": "code",
   "execution_count": 20,
   "id": "41044105",
   "metadata": {
    "ExecuteTime": {
     "end_time": "2022-11-04T01:48:20.605294Z",
     "start_time": "2022-11-04T01:48:20.602169Z"
    }
   },
   "outputs": [
    {
     "data": {
      "text/plain": [
       "2010    157\n",
       "Name: Year, dtype: int64"
      ]
     },
     "execution_count": 20,
     "metadata": {},
     "output_type": "execute_result"
    }
   ],
   "source": [
    "df['Year'].value_counts()"
   ]
  },
  {
   "cell_type": "code",
   "execution_count": 21,
   "id": "67d9b6f0",
   "metadata": {
    "ExecuteTime": {
     "end_time": "2022-11-04T01:48:20.867315Z",
     "start_time": "2022-11-04T01:48:20.606555Z"
    }
   },
   "outputs": [
    {
     "data": {
      "image/png": "[encoded data removed]",
      "text/plain": [
       "<Figure size 640x480 with 9 Axes>"
      ]
     },
     "metadata": {},
     "output_type": "display_data"
    }
   ],
   "source": [
    "# histogram\n",
    "df.hist(edgecolor='k')\n",
    "plt.tight_layout();"
   ]
  },
  {
   "cell_type": "code",
   "execution_count": 22,
   "id": "88f575ff",
   "metadata": {
    "ExecuteTime": {
     "end_time": "2022-11-04T01:48:20.941253Z",
     "start_time": "2022-11-04T01:48:20.868749Z"
    }
   },
   "outputs": [
    {
     "data": {
      "image/png": "[encoded data removed]",
      "text/plain": [
       "<Figure size 640x480 with 1 Axes>"
      ]
     },
     "metadata": {},
     "output_type": "display_data"
    }
   ],
   "source": [
    "sns.kdeplot(data=df, x='Ozone', fill=True, color='blue');"
   ]
  },
  {
   "cell_type": "code",
   "execution_count": 23,
   "id": "6b1a4bca",
   "metadata": {
    "ExecuteTime": {
     "end_time": "2022-11-04T01:48:21.017595Z",
     "start_time": "2022-11-04T01:48:20.942700Z"
    }
   },
   "outputs": [
    {
     "data": {
      "image/png": "[encoded data removed]",
      "text/plain": [
       "<Figure size 640x480 with 1 Axes>"
      ]
     },
     "metadata": {},
     "output_type": "display_data"
    }
   ],
   "source": [
    "sns.histplot(data=df, x='Ozone',kde=True);"
   ]
  },
  {
   "cell_type": "code",
   "execution_count": 24,
   "id": "8e0e3c74",
   "metadata": {
    "ExecuteTime": {
     "end_time": "2022-11-04T01:48:21.020957Z",
     "start_time": "2022-11-04T01:48:21.018967Z"
    }
   },
   "outputs": [],
   "source": [
    "# extracting outlier values and whisker values\n",
    "from matplotlib.cbook import boxplot_stats"
   ]
  },
  {
   "cell_type": "code",
   "execution_count": 25,
   "id": "a3928822",
   "metadata": {
    "ExecuteTime": {
     "end_time": "2022-11-04T01:48:21.025015Z",
     "start_time": "2022-11-04T01:48:21.022083Z"
    }
   },
   "outputs": [
    {
     "data": {
      "text/plain": [
       "[{'mean': 9.929936305732484,\n",
       "  'iqr': 4.1,\n",
       "  'cilo': 9.18627147246819,\n",
       "  'cihi': 10.213728527531808,\n",
       "  'whishi': 16.6,\n",
       "  'whislo': 1.7,\n",
       "  'fliers': array([20.1, 18.4, 20.7]),\n",
       "  'q1': 7.4,\n",
       "  'med': 9.7,\n",
       "  'q3': 11.5}]"
      ]
     },
     "execution_count": 25,
     "metadata": {},
     "output_type": "execute_result"
    }
   ],
   "source": [
    "# extract outlier values for `Wind`\n",
    "boxplot_stats(df['Wind'])"
   ]
  },
  {
   "cell_type": "code",
   "execution_count": 26,
   "id": "aebd4e31",
   "metadata": {
    "ExecuteTime": {
     "end_time": "2022-11-04T01:48:21.072879Z",
     "start_time": "2022-11-04T01:48:21.026361Z"
    }
   },
   "outputs": [
    {
     "data": {
      "image/png": "[encoded data removed]",
      "text/plain": [
       "<Figure size 640x480 with 1 Axes>"
      ]
     },
     "metadata": {},
     "output_type": "display_data"
    }
   ],
   "source": [
    "sns.boxplot(data=df,x='Wind');"
   ]
  },
  {
   "cell_type": "code",
   "execution_count": 27,
   "id": "625529db",
   "metadata": {
    "ExecuteTime": {
     "end_time": "2022-11-04T01:48:21.076310Z",
     "start_time": "2022-11-04T01:48:21.073749Z"
    }
   },
   "outputs": [
    {
     "data": {
      "text/plain": [
       "array([20.1, 18.4, 20.7])"
      ]
     },
     "execution_count": 27,
     "metadata": {},
     "output_type": "execute_result"
    }
   ],
   "source": [
    "boxplot_stats(df['Wind'])[0]['fliers']"
   ]
  },
  {
   "cell_type": "code",
   "execution_count": 28,
   "id": "496b472f",
   "metadata": {
    "ExecuteTime": {
     "end_time": "2022-11-04T01:48:21.080178Z",
     "start_time": "2022-11-04T01:48:21.077458Z"
    }
   },
   "outputs": [
    {
     "data": {
      "text/plain": [
       "4.1"
      ]
     },
     "execution_count": 28,
     "metadata": {},
     "output_type": "execute_result"
    }
   ],
   "source": [
    "boxplot_stats(df['Wind'])[0]['iqr']"
   ]
  },
  {
   "cell_type": "code",
   "execution_count": 29,
   "id": "aff19120",
   "metadata": {
    "ExecuteTime": {
     "end_time": "2022-11-04T01:48:21.084074Z",
     "start_time": "2022-11-04T01:48:21.081368Z"
    }
   },
   "outputs": [
    {
     "data": {
      "text/plain": [
       "9.7"
      ]
     },
     "execution_count": 29,
     "metadata": {},
     "output_type": "execute_result"
    }
   ],
   "source": [
    "df['Wind'].median()"
   ]
  },
  {
   "cell_type": "markdown",
   "id": "dfc9ba87",
   "metadata": {},
   "source": [
    "## Descriptive Statistics - 5 pt Summary + Mean & Std"
   ]
  },
  {
   "cell_type": "code",
   "execution_count": 30,
   "id": "d18a0870",
   "metadata": {
    "ExecuteTime": {
     "end_time": "2022-11-04T01:48:21.096524Z",
     "start_time": "2022-11-04T01:48:21.085040Z"
    }
   },
   "outputs": [
    {
     "data": {
      "text/html": [
       "<div>\n",
       "<style scoped>\n",
       "    .dataframe tbody tr th:only-of-type {\n",
       "        vertical-align: middle;\n",
       "    }\n",
       "\n",
       "    .dataframe tbody tr th {\n",
       "        vertical-align: top;\n",
       "    }\n",
       "\n",
       "    .dataframe thead th {\n",
       "        text-align: right;\n",
       "    }\n",
       "</style>\n",
       "<table border=\"1\" class=\"dataframe\">\n",
       "  <thead>\n",
       "    <tr style=\"text-align: right;\">\n",
       "      <th></th>\n",
       "      <th>Ozone</th>\n",
       "      <th>solar</th>\n",
       "      <th>Wind</th>\n",
       "      <th>Month</th>\n",
       "      <th>Day</th>\n",
       "      <th>Year</th>\n",
       "      <th>Temp</th>\n",
       "    </tr>\n",
       "  </thead>\n",
       "  <tbody>\n",
       "    <tr>\n",
       "      <th>count</th>\n",
       "      <td>119.00</td>\n",
       "      <td>150.00</td>\n",
       "      <td>157.00</td>\n",
       "      <td>156.00</td>\n",
       "      <td>157.00</td>\n",
       "      <td>157.0</td>\n",
       "      <td>157.00</td>\n",
       "    </tr>\n",
       "    <tr>\n",
       "      <th>mean</th>\n",
       "      <td>41.82</td>\n",
       "      <td>185.37</td>\n",
       "      <td>9.93</td>\n",
       "      <td>7.03</td>\n",
       "      <td>15.93</td>\n",
       "      <td>2010.0</td>\n",
       "      <td>77.75</td>\n",
       "    </tr>\n",
       "    <tr>\n",
       "      <th>std</th>\n",
       "      <td>32.66</td>\n",
       "      <td>89.02</td>\n",
       "      <td>3.51</td>\n",
       "      <td>1.43</td>\n",
       "      <td>8.97</td>\n",
       "      <td>0.0</td>\n",
       "      <td>9.41</td>\n",
       "    </tr>\n",
       "    <tr>\n",
       "      <th>min</th>\n",
       "      <td>1.00</td>\n",
       "      <td>7.00</td>\n",
       "      <td>1.70</td>\n",
       "      <td>5.00</td>\n",
       "      <td>1.00</td>\n",
       "      <td>2010.0</td>\n",
       "      <td>56.00</td>\n",
       "    </tr>\n",
       "    <tr>\n",
       "      <th>25%</th>\n",
       "      <td>18.00</td>\n",
       "      <td>118.50</td>\n",
       "      <td>7.40</td>\n",
       "      <td>6.00</td>\n",
       "      <td>8.00</td>\n",
       "      <td>2010.0</td>\n",
       "      <td>72.00</td>\n",
       "    </tr>\n",
       "    <tr>\n",
       "      <th>50%</th>\n",
       "      <td>31.00</td>\n",
       "      <td>199.00</td>\n",
       "      <td>9.70</td>\n",
       "      <td>7.00</td>\n",
       "      <td>16.00</td>\n",
       "      <td>2010.0</td>\n",
       "      <td>79.00</td>\n",
       "    </tr>\n",
       "    <tr>\n",
       "      <th>75%</th>\n",
       "      <td>62.00</td>\n",
       "      <td>257.50</td>\n",
       "      <td>11.50</td>\n",
       "      <td>8.00</td>\n",
       "      <td>24.00</td>\n",
       "      <td>2010.0</td>\n",
       "      <td>84.00</td>\n",
       "    </tr>\n",
       "    <tr>\n",
       "      <th>max</th>\n",
       "      <td>168.00</td>\n",
       "      <td>334.00</td>\n",
       "      <td>20.70</td>\n",
       "      <td>9.00</td>\n",
       "      <td>31.00</td>\n",
       "      <td>2010.0</td>\n",
       "      <td>97.00</td>\n",
       "    </tr>\n",
       "  </tbody>\n",
       "</table>\n",
       "</div>"
      ],
      "text/plain": [
       "        Ozone   solar    Wind   Month     Day    Year    Temp\n",
       "count  119.00  150.00  157.00  156.00  157.00   157.0  157.00\n",
       "mean    41.82  185.37    9.93    7.03   15.93  2010.0   77.75\n",
       "std     32.66   89.02    3.51    1.43    8.97     0.0    9.41\n",
       "min      1.00    7.00    1.70    5.00    1.00  2010.0   56.00\n",
       "25%     18.00  118.50    7.40    6.00    8.00  2010.0   72.00\n",
       "50%     31.00  199.00    9.70    7.00   16.00  2010.0   79.00\n",
       "75%     62.00  257.50   11.50    8.00   24.00  2010.0   84.00\n",
       "max    168.00  334.00   20.70    9.00   31.00  2010.0   97.00"
      ]
     },
     "execution_count": 30,
     "metadata": {},
     "output_type": "execute_result"
    }
   ],
   "source": [
    "df.describe().round(2)"
   ]
  },
  {
   "cell_type": "markdown",
   "id": "f3180610",
   "metadata": {},
   "source": [
    "## Missing Value Check"
   ]
  },
  {
   "cell_type": "code",
   "execution_count": 31,
   "id": "93724a6c",
   "metadata": {
    "ExecuteTime": {
     "end_time": "2022-11-04T01:48:21.100602Z",
     "start_time": "2022-11-04T01:48:21.097564Z"
    }
   },
   "outputs": [
    {
     "data": {
      "text/plain": [
       "Ozone      38\n",
       "solar       7\n",
       "Wind        0\n",
       "Month       1\n",
       "Day         0\n",
       "Year        0\n",
       "Temp        0\n",
       "Weather     3\n",
       "dtype: int64"
      ]
     },
     "execution_count": 31,
     "metadata": {},
     "output_type": "execute_result"
    }
   ],
   "source": [
    "df.isnull().sum()"
   ]
  },
  {
   "cell_type": "code",
   "execution_count": 32,
   "id": "e1f22c1d",
   "metadata": {
    "ExecuteTime": {
     "end_time": "2022-11-04T01:48:21.107462Z",
     "start_time": "2022-11-04T01:48:21.101625Z"
    }
   },
   "outputs": [
    {
     "data": {
      "text/html": [
       "<div>\n",
       "<style scoped>\n",
       "    .dataframe tbody tr th:only-of-type {\n",
       "        vertical-align: middle;\n",
       "    }\n",
       "\n",
       "    .dataframe tbody tr th {\n",
       "        vertical-align: top;\n",
       "    }\n",
       "\n",
       "    .dataframe thead th {\n",
       "        text-align: right;\n",
       "    }\n",
       "</style>\n",
       "<table border=\"1\" class=\"dataframe\">\n",
       "  <thead>\n",
       "    <tr style=\"text-align: right;\">\n",
       "      <th></th>\n",
       "      <th>Ozone</th>\n",
       "      <th>solar</th>\n",
       "      <th>Wind</th>\n",
       "      <th>Month</th>\n",
       "      <th>Day</th>\n",
       "      <th>Year</th>\n",
       "      <th>Temp</th>\n",
       "      <th>Weather</th>\n",
       "    </tr>\n",
       "  </thead>\n",
       "  <tbody>\n",
       "    <tr>\n",
       "      <th>0</th>\n",
       "      <td>False</td>\n",
       "      <td>False</td>\n",
       "      <td>False</td>\n",
       "      <td>False</td>\n",
       "      <td>False</td>\n",
       "      <td>False</td>\n",
       "      <td>False</td>\n",
       "      <td>False</td>\n",
       "    </tr>\n",
       "    <tr>\n",
       "      <th>1</th>\n",
       "      <td>False</td>\n",
       "      <td>False</td>\n",
       "      <td>False</td>\n",
       "      <td>False</td>\n",
       "      <td>False</td>\n",
       "      <td>False</td>\n",
       "      <td>False</td>\n",
       "      <td>False</td>\n",
       "    </tr>\n",
       "    <tr>\n",
       "      <th>2</th>\n",
       "      <td>False</td>\n",
       "      <td>False</td>\n",
       "      <td>False</td>\n",
       "      <td>False</td>\n",
       "      <td>False</td>\n",
       "      <td>False</td>\n",
       "      <td>False</td>\n",
       "      <td>False</td>\n",
       "    </tr>\n",
       "    <tr>\n",
       "      <th>3</th>\n",
       "      <td>False</td>\n",
       "      <td>False</td>\n",
       "      <td>False</td>\n",
       "      <td>False</td>\n",
       "      <td>False</td>\n",
       "      <td>False</td>\n",
       "      <td>False</td>\n",
       "      <td>False</td>\n",
       "    </tr>\n",
       "    <tr>\n",
       "      <th>4</th>\n",
       "      <td>True</td>\n",
       "      <td>True</td>\n",
       "      <td>False</td>\n",
       "      <td>False</td>\n",
       "      <td>False</td>\n",
       "      <td>False</td>\n",
       "      <td>False</td>\n",
       "      <td>False</td>\n",
       "    </tr>\n",
       "    <tr>\n",
       "      <th>...</th>\n",
       "      <td>...</td>\n",
       "      <td>...</td>\n",
       "      <td>...</td>\n",
       "      <td>...</td>\n",
       "      <td>...</td>\n",
       "      <td>...</td>\n",
       "      <td>...</td>\n",
       "      <td>...</td>\n",
       "    </tr>\n",
       "    <tr>\n",
       "      <th>152</th>\n",
       "      <td>False</td>\n",
       "      <td>False</td>\n",
       "      <td>False</td>\n",
       "      <td>False</td>\n",
       "      <td>False</td>\n",
       "      <td>False</td>\n",
       "      <td>False</td>\n",
       "      <td>False</td>\n",
       "    </tr>\n",
       "    <tr>\n",
       "      <th>153</th>\n",
       "      <td>False</td>\n",
       "      <td>False</td>\n",
       "      <td>False</td>\n",
       "      <td>False</td>\n",
       "      <td>False</td>\n",
       "      <td>False</td>\n",
       "      <td>False</td>\n",
       "      <td>False</td>\n",
       "    </tr>\n",
       "    <tr>\n",
       "      <th>154</th>\n",
       "      <td>False</td>\n",
       "      <td>False</td>\n",
       "      <td>False</td>\n",
       "      <td>False</td>\n",
       "      <td>False</td>\n",
       "      <td>False</td>\n",
       "      <td>False</td>\n",
       "      <td>False</td>\n",
       "    </tr>\n",
       "    <tr>\n",
       "      <th>155</th>\n",
       "      <td>True</td>\n",
       "      <td>False</td>\n",
       "      <td>False</td>\n",
       "      <td>False</td>\n",
       "      <td>False</td>\n",
       "      <td>False</td>\n",
       "      <td>False</td>\n",
       "      <td>False</td>\n",
       "    </tr>\n",
       "    <tr>\n",
       "      <th>157</th>\n",
       "      <td>False</td>\n",
       "      <td>False</td>\n",
       "      <td>False</td>\n",
       "      <td>False</td>\n",
       "      <td>False</td>\n",
       "      <td>False</td>\n",
       "      <td>False</td>\n",
       "      <td>False</td>\n",
       "    </tr>\n",
       "  </tbody>\n",
       "</table>\n",
       "<p>157 rows × 8 columns</p>\n",
       "</div>"
      ],
      "text/plain": [
       "     Ozone  solar   Wind  Month    Day   Year   Temp  Weather\n",
       "0    False  False  False  False  False  False  False    False\n",
       "1    False  False  False  False  False  False  False    False\n",
       "2    False  False  False  False  False  False  False    False\n",
       "3    False  False  False  False  False  False  False    False\n",
       "4     True   True  False  False  False  False  False    False\n",
       "..     ...    ...    ...    ...    ...    ...    ...      ...\n",
       "152  False  False  False  False  False  False  False    False\n",
       "153  False  False  False  False  False  False  False    False\n",
       "154  False  False  False  False  False  False  False    False\n",
       "155   True  False  False  False  False  False  False    False\n",
       "157  False  False  False  False  False  False  False    False\n",
       "\n",
       "[157 rows x 8 columns]"
      ]
     },
     "execution_count": 32,
     "metadata": {},
     "output_type": "execute_result"
    }
   ],
   "source": [
    "df.isnull()"
   ]
  },
  {
   "cell_type": "code",
   "execution_count": 33,
   "id": "8480c446",
   "metadata": {
    "ExecuteTime": {
     "end_time": "2022-11-04T01:48:21.189589Z",
     "start_time": "2022-11-04T01:48:21.108519Z"
    }
   },
   "outputs": [
    {
     "data": {
      "image/png": "[encoded data removed]",
      "text/plain": [
       "<Figure size 640x480 with 1 Axes>"
      ]
     },
     "metadata": {},
     "output_type": "display_data"
    }
   ],
   "source": [
    "# Visualization of Missing Values\n",
    "\n",
    "sns.heatmap(data=df.isnull(), cmap='plasma', cbar=False);\n"
   ]
  },
  {
   "cell_type": "markdown",
   "id": "20de7e45",
   "metadata": {},
   "source": [
    "## Missing Value Imputation"
   ]
  },
  {
   "cell_type": "code",
   "execution_count": 34,
   "id": "5c3969d4",
   "metadata": {
    "ExecuteTime": {
     "end_time": "2022-11-04T01:48:21.192647Z",
     "start_time": "2022-11-04T01:48:21.190514Z"
    }
   },
   "outputs": [],
   "source": [
    "# for numeric features - mean if there are no outliers, median if there are  outliers\n",
    "ozone_med = df['Ozone'].median()\n",
    "solar_mean = df['solar'].mean()"
   ]
  },
  {
   "cell_type": "code",
   "execution_count": 35,
   "id": "dc2d296a",
   "metadata": {
    "ExecuteTime": {
     "end_time": "2022-11-04T01:48:21.196458Z",
     "start_time": "2022-11-04T01:48:21.193959Z"
    }
   },
   "outputs": [],
   "source": [
    "df['Ozone'] = df['Ozone'].fillna(ozone_med)\n",
    "df['solar'] = df['solar'].fillna(solar_mean)"
   ]
  },
  {
   "cell_type": "code",
   "execution_count": 36,
   "id": "4d8077c0",
   "metadata": {
    "ExecuteTime": {
     "end_time": "2022-11-04T01:48:21.200882Z",
     "start_time": "2022-11-04T01:48:21.197514Z"
    }
   },
   "outputs": [
    {
     "data": {
      "text/plain": [
       "0    9.0\n",
       "Name: Month, dtype: float64"
      ]
     },
     "execution_count": 36,
     "metadata": {},
     "output_type": "execute_result"
    }
   ],
   "source": [
    "df['Month'].mode()"
   ]
  },
  {
   "cell_type": "code",
   "execution_count": 37,
   "id": "5d32be1e",
   "metadata": {
    "ExecuteTime": {
     "end_time": "2022-11-04T01:48:21.204061Z",
     "start_time": "2022-11-04T01:48:21.201899Z"
    }
   },
   "outputs": [],
   "source": [
    "# imputing missing values in categorical features\n",
    "month_mode = df['Month'].mode()[0]\n",
    "weather_mode = df['Weather'].mode()[0]"
   ]
  },
  {
   "cell_type": "code",
   "execution_count": 38,
   "id": "325f4af2",
   "metadata": {
    "ExecuteTime": {
     "end_time": "2022-11-04T01:48:21.207195Z",
     "start_time": "2022-11-04T01:48:21.204905Z"
    }
   },
   "outputs": [],
   "source": [
    "df['Month'] = df['Month'].fillna(month_mode)\n",
    "df['Weather'] = df['Weather'].fillna(weather_mode)"
   ]
  },
  {
   "cell_type": "code",
   "execution_count": 39,
   "id": "0fdbce28",
   "metadata": {
    "ExecuteTime": {
     "end_time": "2022-11-04T01:48:21.210700Z",
     "start_time": "2022-11-04T01:48:21.208035Z"
    }
   },
   "outputs": [
    {
     "data": {
      "text/plain": [
       "Ozone      0\n",
       "solar      0\n",
       "Wind       0\n",
       "Month      0\n",
       "Day        0\n",
       "Year       0\n",
       "Temp       0\n",
       "Weather    0\n",
       "dtype: int64"
      ]
     },
     "execution_count": 39,
     "metadata": {},
     "output_type": "execute_result"
    }
   ],
   "source": [
    "df.isnull().sum()"
   ]
  },
  {
   "cell_type": "code",
   "execution_count": null,
   "id": "9850a52d",
   "metadata": {
    "ExecuteTime": {
     "end_time": "2022-10-18T06:25:53.790911Z",
     "start_time": "2022-10-18T06:25:53.777450Z"
    }
   },
   "outputs": [],
   "source": []
  },
  {
   "cell_type": "markdown",
   "id": "01ac393e",
   "metadata": {},
   "source": [
    "## Correlation Analysis"
   ]
  },
  {
   "cell_type": "code",
   "execution_count": 40,
   "id": "cda5ba99",
   "metadata": {
    "ExecuteTime": {
     "end_time": "2022-11-04T01:48:21.218135Z",
     "start_time": "2022-11-04T01:48:21.211508Z"
    }
   },
   "outputs": [
    {
     "data": {
      "text/html": [
       "<div>\n",
       "<style scoped>\n",
       "    .dataframe tbody tr th:only-of-type {\n",
       "        vertical-align: middle;\n",
       "    }\n",
       "\n",
       "    .dataframe tbody tr th {\n",
       "        vertical-align: top;\n",
       "    }\n",
       "\n",
       "    .dataframe thead th {\n",
       "        text-align: right;\n",
       "    }\n",
       "</style>\n",
       "<table border=\"1\" class=\"dataframe\">\n",
       "  <thead>\n",
       "    <tr style=\"text-align: right;\">\n",
       "      <th></th>\n",
       "      <th>Ozone</th>\n",
       "      <th>solar</th>\n",
       "      <th>Wind</th>\n",
       "      <th>Month</th>\n",
       "      <th>Day</th>\n",
       "      <th>Year</th>\n",
       "      <th>Temp</th>\n",
       "    </tr>\n",
       "  </thead>\n",
       "  <tbody>\n",
       "    <tr>\n",
       "      <th>Ozone</th>\n",
       "      <td>1.00</td>\n",
       "      <td>0.30</td>\n",
       "      <td>-0.52</td>\n",
       "      <td>0.17</td>\n",
       "      <td>-0.03</td>\n",
       "      <td>NaN</td>\n",
       "      <td>0.60</td>\n",
       "    </tr>\n",
       "    <tr>\n",
       "      <th>solar</th>\n",
       "      <td>0.30</td>\n",
       "      <td>1.00</td>\n",
       "      <td>-0.06</td>\n",
       "      <td>-0.10</td>\n",
       "      <td>-0.15</td>\n",
       "      <td>NaN</td>\n",
       "      <td>0.26</td>\n",
       "    </tr>\n",
       "    <tr>\n",
       "      <th>Wind</th>\n",
       "      <td>-0.52</td>\n",
       "      <td>-0.06</td>\n",
       "      <td>1.00</td>\n",
       "      <td>-0.16</td>\n",
       "      <td>0.03</td>\n",
       "      <td>NaN</td>\n",
       "      <td>-0.44</td>\n",
       "    </tr>\n",
       "    <tr>\n",
       "      <th>Month</th>\n",
       "      <td>0.17</td>\n",
       "      <td>-0.10</td>\n",
       "      <td>-0.16</td>\n",
       "      <td>1.00</td>\n",
       "      <td>0.06</td>\n",
       "      <td>NaN</td>\n",
       "      <td>0.38</td>\n",
       "    </tr>\n",
       "    <tr>\n",
       "      <th>Day</th>\n",
       "      <td>-0.03</td>\n",
       "      <td>-0.15</td>\n",
       "      <td>0.03</td>\n",
       "      <td>0.06</td>\n",
       "      <td>1.00</td>\n",
       "      <td>NaN</td>\n",
       "      <td>-0.12</td>\n",
       "    </tr>\n",
       "    <tr>\n",
       "      <th>Year</th>\n",
       "      <td>NaN</td>\n",
       "      <td>NaN</td>\n",
       "      <td>NaN</td>\n",
       "      <td>NaN</td>\n",
       "      <td>NaN</td>\n",
       "      <td>NaN</td>\n",
       "      <td>NaN</td>\n",
       "    </tr>\n",
       "    <tr>\n",
       "      <th>Temp</th>\n",
       "      <td>0.60</td>\n",
       "      <td>0.26</td>\n",
       "      <td>-0.44</td>\n",
       "      <td>0.38</td>\n",
       "      <td>-0.12</td>\n",
       "      <td>NaN</td>\n",
       "      <td>1.00</td>\n",
       "    </tr>\n",
       "  </tbody>\n",
       "</table>\n",
       "</div>"
      ],
      "text/plain": [
       "       Ozone  solar  Wind  Month   Day  Year  Temp\n",
       "Ozone   1.00   0.30 -0.52   0.17 -0.03   NaN  0.60\n",
       "solar   0.30   1.00 -0.06  -0.10 -0.15   NaN  0.26\n",
       "Wind   -0.52  -0.06  1.00  -0.16  0.03   NaN -0.44\n",
       "Month   0.17  -0.10 -0.16   1.00  0.06   NaN  0.38\n",
       "Day    -0.03  -0.15  0.03   0.06  1.00   NaN -0.12\n",
       "Year     NaN    NaN   NaN    NaN   NaN   NaN   NaN\n",
       "Temp    0.60   0.26 -0.44   0.38 -0.12   NaN  1.00"
      ]
     },
     "execution_count": 40,
     "metadata": {},
     "output_type": "execute_result"
    }
   ],
   "source": [
    "# correlation matrix, we should hav excluded year from correlation coeff matrix !!\n",
    "corel = df.corr().round(2)\n",
    "corel"
   ]
  },
  {
   "cell_type": "code",
   "execution_count": 41,
   "id": "32451715",
   "metadata": {
    "ExecuteTime": {
     "end_time": "2022-11-04T01:48:21.398535Z",
     "start_time": "2022-11-04T01:48:21.224365Z"
    }
   },
   "outputs": [
    {
     "data": {
      "image/png": "[encoded data removed]",
      "text/plain": [
       "<Figure size 640x480 with 2 Axes>"
      ]
     },
     "metadata": {},
     "output_type": "display_data"
    }
   ],
   "source": [
    "# visualizing correlation matrix\n",
    "sns.heatmap(data=corel,\n",
    "           vmin=-1,\n",
    "           vmax=1,\n",
    "           cmap='plasma',\n",
    "           annot=True);"
   ]
  },
  {
   "cell_type": "markdown",
   "id": "59a4ce86",
   "metadata": {},
   "source": [
    "## Encoding Categorical Features"
   ]
  },
  {
   "cell_type": "code",
   "execution_count": 42,
   "id": "cf808ff0",
   "metadata": {
    "ExecuteTime": {
     "end_time": "2022-11-04T01:50:02.887830Z",
     "start_time": "2022-11-04T01:50:02.875009Z"
    }
   },
   "outputs": [
    {
     "name": "stdout",
     "output_type": "stream",
     "text": [
      "<class 'pandas.core.frame.DataFrame'>\n",
      "Int64Index: 157 entries, 0 to 157\n",
      "Data columns (total 8 columns):\n",
      " #   Column   Non-Null Count  Dtype  \n",
      "---  ------   --------------  -----  \n",
      " 0   Ozone    157 non-null    float64\n",
      " 1   solar    157 non-null    float64\n",
      " 2   Wind     157 non-null    float64\n",
      " 3   Month    157 non-null    float64\n",
      " 4   Day      157 non-null    int64  \n",
      " 5   Year     157 non-null    int64  \n",
      " 6   Temp     157 non-null    int64  \n",
      " 7   Weather  157 non-null    object \n",
      "dtypes: float64(4), int64(3), object(1)\n",
      "memory usage: 11.0+ KB\n"
     ]
    }
   ],
   "source": [
    "df.info()"
   ]
  },
  {
   "cell_type": "code",
   "execution_count": 43,
   "id": "416e054e",
   "metadata": {
    "ExecuteTime": {
     "end_time": "2022-11-04T01:50:58.794971Z",
     "start_time": "2022-11-04T01:50:58.778017Z"
    }
   },
   "outputs": [
    {
     "data": {
      "text/plain": [
       "S     61\n",
       "C     49\n",
       "PS    47\n",
       "Name: Weather, dtype: int64"
      ]
     },
     "execution_count": 43,
     "metadata": {},
     "output_type": "execute_result"
    }
   ],
   "source": [
    "df['Weather'].value_counts()"
   ]
  },
  {
   "cell_type": "code",
   "execution_count": 44,
   "id": "ee98cdcb",
   "metadata": {
    "ExecuteTime": {
     "end_time": "2022-11-04T01:51:47.178442Z",
     "start_time": "2022-11-04T01:51:47.162623Z"
    }
   },
   "outputs": [
    {
     "data": {
      "text/html": [
       "<div>\n",
       "<style scoped>\n",
       "    .dataframe tbody tr th:only-of-type {\n",
       "        vertical-align: middle;\n",
       "    }\n",
       "\n",
       "    .dataframe tbody tr th {\n",
       "        vertical-align: top;\n",
       "    }\n",
       "\n",
       "    .dataframe thead th {\n",
       "        text-align: right;\n",
       "    }\n",
       "</style>\n",
       "<table border=\"1\" class=\"dataframe\">\n",
       "  <thead>\n",
       "    <tr style=\"text-align: right;\">\n",
       "      <th></th>\n",
       "      <th>Ozone</th>\n",
       "      <th>solar</th>\n",
       "      <th>Wind</th>\n",
       "      <th>Month</th>\n",
       "      <th>Day</th>\n",
       "      <th>Year</th>\n",
       "      <th>Temp</th>\n",
       "      <th>Weather</th>\n",
       "    </tr>\n",
       "  </thead>\n",
       "  <tbody>\n",
       "    <tr>\n",
       "      <th>0</th>\n",
       "      <td>41.0</td>\n",
       "      <td>190.000000</td>\n",
       "      <td>7.4</td>\n",
       "      <td>5.0</td>\n",
       "      <td>1</td>\n",
       "      <td>2010</td>\n",
       "      <td>67</td>\n",
       "      <td>S</td>\n",
       "    </tr>\n",
       "    <tr>\n",
       "      <th>1</th>\n",
       "      <td>36.0</td>\n",
       "      <td>118.000000</td>\n",
       "      <td>8.0</td>\n",
       "      <td>5.0</td>\n",
       "      <td>2</td>\n",
       "      <td>2010</td>\n",
       "      <td>72</td>\n",
       "      <td>C</td>\n",
       "    </tr>\n",
       "    <tr>\n",
       "      <th>2</th>\n",
       "      <td>12.0</td>\n",
       "      <td>149.000000</td>\n",
       "      <td>12.6</td>\n",
       "      <td>5.0</td>\n",
       "      <td>3</td>\n",
       "      <td>2010</td>\n",
       "      <td>74</td>\n",
       "      <td>PS</td>\n",
       "    </tr>\n",
       "    <tr>\n",
       "      <th>3</th>\n",
       "      <td>18.0</td>\n",
       "      <td>313.000000</td>\n",
       "      <td>11.5</td>\n",
       "      <td>5.0</td>\n",
       "      <td>4</td>\n",
       "      <td>2010</td>\n",
       "      <td>62</td>\n",
       "      <td>S</td>\n",
       "    </tr>\n",
       "    <tr>\n",
       "      <th>4</th>\n",
       "      <td>31.0</td>\n",
       "      <td>185.366667</td>\n",
       "      <td>14.3</td>\n",
       "      <td>5.0</td>\n",
       "      <td>5</td>\n",
       "      <td>2010</td>\n",
       "      <td>56</td>\n",
       "      <td>S</td>\n",
       "    </tr>\n",
       "  </tbody>\n",
       "</table>\n",
       "</div>"
      ],
      "text/plain": [
       "   Ozone       solar  Wind  Month  Day  Year  Temp Weather\n",
       "0   41.0  190.000000   7.4    5.0    1  2010    67       S\n",
       "1   36.0  118.000000   8.0    5.0    2  2010    72       C\n",
       "2   12.0  149.000000  12.6    5.0    3  2010    74      PS\n",
       "3   18.0  313.000000  11.5    5.0    4  2010    62       S\n",
       "4   31.0  185.366667  14.3    5.0    5  2010    56       S"
      ]
     },
     "execution_count": 44,
     "metadata": {},
     "output_type": "execute_result"
    }
   ],
   "source": [
    "df.head()"
   ]
  },
  {
   "cell_type": "code",
   "execution_count": 46,
   "id": "0818f889",
   "metadata": {
    "ExecuteTime": {
     "end_time": "2022-11-04T01:52:49.429443Z",
     "start_time": "2022-11-04T01:52:49.410499Z"
    }
   },
   "outputs": [
    {
     "data": {
      "text/html": [
       "<div>\n",
       "<style scoped>\n",
       "    .dataframe tbody tr th:only-of-type {\n",
       "        vertical-align: middle;\n",
       "    }\n",
       "\n",
       "    .dataframe tbody tr th {\n",
       "        vertical-align: top;\n",
       "    }\n",
       "\n",
       "    .dataframe thead th {\n",
       "        text-align: right;\n",
       "    }\n",
       "</style>\n",
       "<table border=\"1\" class=\"dataframe\">\n",
       "  <thead>\n",
       "    <tr style=\"text-align: right;\">\n",
       "      <th></th>\n",
       "      <th>Ozone</th>\n",
       "      <th>solar</th>\n",
       "      <th>Wind</th>\n",
       "      <th>Month</th>\n",
       "      <th>Day</th>\n",
       "      <th>Year</th>\n",
       "      <th>Temp</th>\n",
       "      <th>Weather_PS</th>\n",
       "      <th>Weather_S</th>\n",
       "    </tr>\n",
       "  </thead>\n",
       "  <tbody>\n",
       "    <tr>\n",
       "      <th>0</th>\n",
       "      <td>41.0</td>\n",
       "      <td>190.000000</td>\n",
       "      <td>7.4</td>\n",
       "      <td>5.0</td>\n",
       "      <td>1</td>\n",
       "      <td>2010</td>\n",
       "      <td>67</td>\n",
       "      <td>0</td>\n",
       "      <td>1</td>\n",
       "    </tr>\n",
       "    <tr>\n",
       "      <th>1</th>\n",
       "      <td>36.0</td>\n",
       "      <td>118.000000</td>\n",
       "      <td>8.0</td>\n",
       "      <td>5.0</td>\n",
       "      <td>2</td>\n",
       "      <td>2010</td>\n",
       "      <td>72</td>\n",
       "      <td>0</td>\n",
       "      <td>0</td>\n",
       "    </tr>\n",
       "    <tr>\n",
       "      <th>2</th>\n",
       "      <td>12.0</td>\n",
       "      <td>149.000000</td>\n",
       "      <td>12.6</td>\n",
       "      <td>5.0</td>\n",
       "      <td>3</td>\n",
       "      <td>2010</td>\n",
       "      <td>74</td>\n",
       "      <td>1</td>\n",
       "      <td>0</td>\n",
       "    </tr>\n",
       "    <tr>\n",
       "      <th>3</th>\n",
       "      <td>18.0</td>\n",
       "      <td>313.000000</td>\n",
       "      <td>11.5</td>\n",
       "      <td>5.0</td>\n",
       "      <td>4</td>\n",
       "      <td>2010</td>\n",
       "      <td>62</td>\n",
       "      <td>0</td>\n",
       "      <td>1</td>\n",
       "    </tr>\n",
       "    <tr>\n",
       "      <th>4</th>\n",
       "      <td>31.0</td>\n",
       "      <td>185.366667</td>\n",
       "      <td>14.3</td>\n",
       "      <td>5.0</td>\n",
       "      <td>5</td>\n",
       "      <td>2010</td>\n",
       "      <td>56</td>\n",
       "      <td>0</td>\n",
       "      <td>1</td>\n",
       "    </tr>\n",
       "  </tbody>\n",
       "</table>\n",
       "</div>"
      ],
      "text/plain": [
       "   Ozone       solar  Wind  Month  Day  Year  Temp  Weather_PS  Weather_S\n",
       "0   41.0  190.000000   7.4    5.0    1  2010    67           0          1\n",
       "1   36.0  118.000000   8.0    5.0    2  2010    72           0          0\n",
       "2   12.0  149.000000  12.6    5.0    3  2010    74           1          0\n",
       "3   18.0  313.000000  11.5    5.0    4  2010    62           0          1\n",
       "4   31.0  185.366667  14.3    5.0    5  2010    56           0          1"
      ]
     },
     "execution_count": 46,
     "metadata": {},
     "output_type": "execute_result"
    }
   ],
   "source": [
    "# one-hot encoding\n",
    "ohe_df = pd.get_dummies(df,drop_first=True)\n",
    "ohe_df.head()"
   ]
  },
  {
   "cell_type": "code",
   "execution_count": 47,
   "id": "0f14cd01",
   "metadata": {
    "ExecuteTime": {
     "end_time": "2022-11-04T01:56:40.249485Z",
     "start_time": "2022-11-04T01:56:40.245157Z"
    }
   },
   "outputs": [],
   "source": [
    "# from sklearn.preprocessing import OneHotEncoder"
   ]
  },
  {
   "cell_type": "code",
   "execution_count": 48,
   "id": "6f77e6a3",
   "metadata": {
    "ExecuteTime": {
     "end_time": "2022-11-04T01:56:56.543162Z",
     "start_time": "2022-11-04T01:56:56.537136Z"
    }
   },
   "outputs": [],
   "source": [
    "# ohe = OneHotEncoder()"
   ]
  },
  {
   "cell_type": "code",
   "execution_count": null,
   "id": "b57848d1",
   "metadata": {},
   "outputs": [],
   "source": [
    "# df['Weather'] = ohe.fit_transform(df['Weather'])"
   ]
  },
  {
   "cell_type": "code",
   "execution_count": 49,
   "id": "d459a142",
   "metadata": {
    "ExecuteTime": {
     "end_time": "2022-11-04T01:59:24.376839Z",
     "start_time": "2022-11-04T01:59:24.357137Z"
    }
   },
   "outputs": [
    {
     "data": {
      "text/html": [
       "<div>\n",
       "<style scoped>\n",
       "    .dataframe tbody tr th:only-of-type {\n",
       "        vertical-align: middle;\n",
       "    }\n",
       "\n",
       "    .dataframe tbody tr th {\n",
       "        vertical-align: top;\n",
       "    }\n",
       "\n",
       "    .dataframe thead th {\n",
       "        text-align: right;\n",
       "    }\n",
       "</style>\n",
       "<table border=\"1\" class=\"dataframe\">\n",
       "  <thead>\n",
       "    <tr style=\"text-align: right;\">\n",
       "      <th></th>\n",
       "      <th>Ozone</th>\n",
       "      <th>solar</th>\n",
       "      <th>Wind</th>\n",
       "      <th>Month</th>\n",
       "      <th>Day</th>\n",
       "      <th>Year</th>\n",
       "      <th>Temp</th>\n",
       "      <th>Weather</th>\n",
       "    </tr>\n",
       "  </thead>\n",
       "  <tbody>\n",
       "    <tr>\n",
       "      <th>0</th>\n",
       "      <td>41.0</td>\n",
       "      <td>190.000000</td>\n",
       "      <td>7.4</td>\n",
       "      <td>5.0</td>\n",
       "      <td>1</td>\n",
       "      <td>2010</td>\n",
       "      <td>67</td>\n",
       "      <td>2</td>\n",
       "    </tr>\n",
       "    <tr>\n",
       "      <th>1</th>\n",
       "      <td>36.0</td>\n",
       "      <td>118.000000</td>\n",
       "      <td>8.0</td>\n",
       "      <td>5.0</td>\n",
       "      <td>2</td>\n",
       "      <td>2010</td>\n",
       "      <td>72</td>\n",
       "      <td>0</td>\n",
       "    </tr>\n",
       "    <tr>\n",
       "      <th>2</th>\n",
       "      <td>12.0</td>\n",
       "      <td>149.000000</td>\n",
       "      <td>12.6</td>\n",
       "      <td>5.0</td>\n",
       "      <td>3</td>\n",
       "      <td>2010</td>\n",
       "      <td>74</td>\n",
       "      <td>1</td>\n",
       "    </tr>\n",
       "    <tr>\n",
       "      <th>3</th>\n",
       "      <td>18.0</td>\n",
       "      <td>313.000000</td>\n",
       "      <td>11.5</td>\n",
       "      <td>5.0</td>\n",
       "      <td>4</td>\n",
       "      <td>2010</td>\n",
       "      <td>62</td>\n",
       "      <td>2</td>\n",
       "    </tr>\n",
       "    <tr>\n",
       "      <th>4</th>\n",
       "      <td>31.0</td>\n",
       "      <td>185.366667</td>\n",
       "      <td>14.3</td>\n",
       "      <td>5.0</td>\n",
       "      <td>5</td>\n",
       "      <td>2010</td>\n",
       "      <td>56</td>\n",
       "      <td>2</td>\n",
       "    </tr>\n",
       "  </tbody>\n",
       "</table>\n",
       "</div>"
      ],
      "text/plain": [
       "   Ozone       solar  Wind  Month  Day  Year  Temp  Weather\n",
       "0   41.0  190.000000   7.4    5.0    1  2010    67        2\n",
       "1   36.0  118.000000   8.0    5.0    2  2010    72        0\n",
       "2   12.0  149.000000  12.6    5.0    3  2010    74        1\n",
       "3   18.0  313.000000  11.5    5.0    4  2010    62        2\n",
       "4   31.0  185.366667  14.3    5.0    5  2010    56        2"
      ]
     },
     "execution_count": 49,
     "metadata": {},
     "output_type": "execute_result"
    }
   ],
   "source": [
    "# label encoding\n",
    "from sklearn.preprocessing import LabelEncoder\n",
    "le = LabelEncoder()\n",
    "df['Weather'] = le.fit_transform(df['Weather'])\n",
    "df.head()"
   ]
  },
  {
   "cell_type": "code",
   "execution_count": 50,
   "id": "ed6219e8",
   "metadata": {
    "ExecuteTime": {
     "end_time": "2022-11-04T01:59:49.293264Z",
     "start_time": "2022-11-04T01:59:49.290251Z"
    }
   },
   "outputs": [
    {
     "data": {
      "text/plain": [
       "2    61\n",
       "0    49\n",
       "1    47\n",
       "Name: Weather, dtype: int64"
      ]
     },
     "execution_count": 50,
     "metadata": {},
     "output_type": "execute_result"
    }
   ],
   "source": [
    "df['Weather'].value_counts()"
   ]
  },
  {
   "cell_type": "markdown",
   "id": "537d67c5",
   "metadata": {},
   "source": [
    "## Scaling the Numeric Features"
   ]
  },
  {
   "cell_type": "markdown",
   "id": "5790f1d2",
   "metadata": {},
   "source": [
    "### Standard Scaling"
   ]
  },
  {
   "cell_type": "code",
   "execution_count": 51,
   "id": "a7388599",
   "metadata": {
    "ExecuteTime": {
     "end_time": "2022-11-04T02:20:08.998264Z",
     "start_time": "2022-11-04T02:20:08.980230Z"
    }
   },
   "outputs": [
    {
     "data": {
      "text/html": [
       "<div>\n",
       "<style scoped>\n",
       "    .dataframe tbody tr th:only-of-type {\n",
       "        vertical-align: middle;\n",
       "    }\n",
       "\n",
       "    .dataframe tbody tr th {\n",
       "        vertical-align: top;\n",
       "    }\n",
       "\n",
       "    .dataframe thead th {\n",
       "        text-align: right;\n",
       "    }\n",
       "</style>\n",
       "<table border=\"1\" class=\"dataframe\">\n",
       "  <thead>\n",
       "    <tr style=\"text-align: right;\">\n",
       "      <th></th>\n",
       "      <th>Ozone</th>\n",
       "      <th>solar</th>\n",
       "      <th>Wind</th>\n",
       "      <th>Month</th>\n",
       "      <th>Day</th>\n",
       "      <th>Year</th>\n",
       "      <th>Temp</th>\n",
       "      <th>Weather</th>\n",
       "    </tr>\n",
       "  </thead>\n",
       "  <tbody>\n",
       "    <tr>\n",
       "      <th>0</th>\n",
       "      <td>41.0</td>\n",
       "      <td>190.000000</td>\n",
       "      <td>7.4</td>\n",
       "      <td>5.0</td>\n",
       "      <td>1</td>\n",
       "      <td>2010</td>\n",
       "      <td>67</td>\n",
       "      <td>2</td>\n",
       "    </tr>\n",
       "    <tr>\n",
       "      <th>1</th>\n",
       "      <td>36.0</td>\n",
       "      <td>118.000000</td>\n",
       "      <td>8.0</td>\n",
       "      <td>5.0</td>\n",
       "      <td>2</td>\n",
       "      <td>2010</td>\n",
       "      <td>72</td>\n",
       "      <td>0</td>\n",
       "    </tr>\n",
       "    <tr>\n",
       "      <th>2</th>\n",
       "      <td>12.0</td>\n",
       "      <td>149.000000</td>\n",
       "      <td>12.6</td>\n",
       "      <td>5.0</td>\n",
       "      <td>3</td>\n",
       "      <td>2010</td>\n",
       "      <td>74</td>\n",
       "      <td>1</td>\n",
       "    </tr>\n",
       "    <tr>\n",
       "      <th>3</th>\n",
       "      <td>18.0</td>\n",
       "      <td>313.000000</td>\n",
       "      <td>11.5</td>\n",
       "      <td>5.0</td>\n",
       "      <td>4</td>\n",
       "      <td>2010</td>\n",
       "      <td>62</td>\n",
       "      <td>2</td>\n",
       "    </tr>\n",
       "    <tr>\n",
       "      <th>4</th>\n",
       "      <td>31.0</td>\n",
       "      <td>185.366667</td>\n",
       "      <td>14.3</td>\n",
       "      <td>5.0</td>\n",
       "      <td>5</td>\n",
       "      <td>2010</td>\n",
       "      <td>56</td>\n",
       "      <td>2</td>\n",
       "    </tr>\n",
       "  </tbody>\n",
       "</table>\n",
       "</div>"
      ],
      "text/plain": [
       "   Ozone       solar  Wind  Month  Day  Year  Temp  Weather\n",
       "0   41.0  190.000000   7.4    5.0    1  2010    67        2\n",
       "1   36.0  118.000000   8.0    5.0    2  2010    72        0\n",
       "2   12.0  149.000000  12.6    5.0    3  2010    74        1\n",
       "3   18.0  313.000000  11.5    5.0    4  2010    62        2\n",
       "4   31.0  185.366667  14.3    5.0    5  2010    56        2"
      ]
     },
     "execution_count": 51,
     "metadata": {},
     "output_type": "execute_result"
    }
   ],
   "source": [
    "df.head()"
   ]
  },
  {
   "cell_type": "code",
   "execution_count": 53,
   "id": "0d5296e2",
   "metadata": {
    "ExecuteTime": {
     "end_time": "2022-11-04T02:22:59.897022Z",
     "start_time": "2022-11-04T02:22:59.875093Z"
    }
   },
   "outputs": [
    {
     "data": {
      "text/html": [
       "<div>\n",
       "<style scoped>\n",
       "    .dataframe tbody tr th:only-of-type {\n",
       "        vertical-align: middle;\n",
       "    }\n",
       "\n",
       "    .dataframe tbody tr th {\n",
       "        vertical-align: top;\n",
       "    }\n",
       "\n",
       "    .dataframe thead th {\n",
       "        text-align: right;\n",
       "    }\n",
       "</style>\n",
       "<table border=\"1\" class=\"dataframe\">\n",
       "  <thead>\n",
       "    <tr style=\"text-align: right;\">\n",
       "      <th></th>\n",
       "      <th>Ozone</th>\n",
       "      <th>solar</th>\n",
       "      <th>Wind</th>\n",
       "      <th>Month</th>\n",
       "      <th>Day</th>\n",
       "      <th>Year</th>\n",
       "      <th>Temp</th>\n",
       "      <th>Weather</th>\n",
       "    </tr>\n",
       "  </thead>\n",
       "  <tbody>\n",
       "    <tr>\n",
       "      <th>0</th>\n",
       "      <td>0.062828</td>\n",
       "      <td>0.053428</td>\n",
       "      <td>-0.724079</td>\n",
       "      <td>-1.430586</td>\n",
       "      <td>-1.668937</td>\n",
       "      <td>0.0</td>\n",
       "      <td>-1.146116</td>\n",
       "      <td>1.108001</td>\n",
       "    </tr>\n",
       "    <tr>\n",
       "      <th>1</th>\n",
       "      <td>-0.111448</td>\n",
       "      <td>-0.776816</td>\n",
       "      <td>-0.552356</td>\n",
       "      <td>-1.430586</td>\n",
       "      <td>-1.557152</td>\n",
       "      <td>0.0</td>\n",
       "      <td>-0.612802</td>\n",
       "      <td>-1.291394</td>\n",
       "    </tr>\n",
       "    <tr>\n",
       "      <th>2</th>\n",
       "      <td>-0.947971</td>\n",
       "      <td>-0.419350</td>\n",
       "      <td>0.764184</td>\n",
       "      <td>-1.430586</td>\n",
       "      <td>-1.445367</td>\n",
       "      <td>0.0</td>\n",
       "      <td>-0.399476</td>\n",
       "      <td>-0.091697</td>\n",
       "    </tr>\n",
       "    <tr>\n",
       "      <th>3</th>\n",
       "      <td>-0.738840</td>\n",
       "      <td>1.471761</td>\n",
       "      <td>0.449359</td>\n",
       "      <td>-1.430586</td>\n",
       "      <td>-1.333583</td>\n",
       "      <td>0.0</td>\n",
       "      <td>-1.679431</td>\n",
       "      <td>1.108001</td>\n",
       "    </tr>\n",
       "    <tr>\n",
       "      <th>4</th>\n",
       "      <td>-0.285723</td>\n",
       "      <td>0.000000</td>\n",
       "      <td>1.250731</td>\n",
       "      <td>-1.430586</td>\n",
       "      <td>-1.221798</td>\n",
       "      <td>0.0</td>\n",
       "      <td>-2.319408</td>\n",
       "      <td>1.108001</td>\n",
       "    </tr>\n",
       "  </tbody>\n",
       "</table>\n",
       "</div>"
      ],
      "text/plain": [
       "      Ozone     solar      Wind     Month       Day  Year      Temp   Weather\n",
       "0  0.062828  0.053428 -0.724079 -1.430586 -1.668937   0.0 -1.146116  1.108001\n",
       "1 -0.111448 -0.776816 -0.552356 -1.430586 -1.557152   0.0 -0.612802 -1.291394\n",
       "2 -0.947971 -0.419350  0.764184 -1.430586 -1.445367   0.0 -0.399476 -0.091697\n",
       "3 -0.738840  1.471761  0.449359 -1.430586 -1.333583   0.0 -1.679431  1.108001\n",
       "4 -0.285723  0.000000  1.250731 -1.430586 -1.221798   0.0 -2.319408  1.108001"
      ]
     },
     "execution_count": 53,
     "metadata": {},
     "output_type": "execute_result"
    }
   ],
   "source": [
    "from sklearn.preprocessing import StandardScaler\n",
    "scaler = StandardScaler()\n",
    "df_std = scaler.fit_transform(df)\n",
    "df_std = pd.DataFrame(df_std, columns=df.columns)\n",
    "df_std.head()"
   ]
  },
  {
   "cell_type": "code",
   "execution_count": 54,
   "id": "fc689b92",
   "metadata": {
    "ExecuteTime": {
     "end_time": "2022-11-04T02:23:53.283373Z",
     "start_time": "2022-11-04T02:23:53.247369Z"
    }
   },
   "outputs": [
    {
     "data": {
      "text/html": [
       "<div>\n",
       "<style scoped>\n",
       "    .dataframe tbody tr th:only-of-type {\n",
       "        vertical-align: middle;\n",
       "    }\n",
       "\n",
       "    .dataframe tbody tr th {\n",
       "        vertical-align: top;\n",
       "    }\n",
       "\n",
       "    .dataframe thead th {\n",
       "        text-align: right;\n",
       "    }\n",
       "</style>\n",
       "<table border=\"1\" class=\"dataframe\">\n",
       "  <thead>\n",
       "    <tr style=\"text-align: right;\">\n",
       "      <th></th>\n",
       "      <th>Ozone</th>\n",
       "      <th>solar</th>\n",
       "      <th>Wind</th>\n",
       "      <th>Month</th>\n",
       "      <th>Day</th>\n",
       "      <th>Year</th>\n",
       "      <th>Temp</th>\n",
       "      <th>Weather</th>\n",
       "    </tr>\n",
       "  </thead>\n",
       "  <tbody>\n",
       "    <tr>\n",
       "      <th>count</th>\n",
       "      <td>157.000</td>\n",
       "      <td>157.000</td>\n",
       "      <td>157.000</td>\n",
       "      <td>157.000</td>\n",
       "      <td>157.000</td>\n",
       "      <td>157.0</td>\n",
       "      <td>157.000</td>\n",
       "      <td>157.000</td>\n",
       "    </tr>\n",
       "    <tr>\n",
       "      <th>mean</th>\n",
       "      <td>-0.000</td>\n",
       "      <td>-0.000</td>\n",
       "      <td>-0.000</td>\n",
       "      <td>0.000</td>\n",
       "      <td>-0.000</td>\n",
       "      <td>0.0</td>\n",
       "      <td>0.000</td>\n",
       "      <td>0.000</td>\n",
       "    </tr>\n",
       "    <tr>\n",
       "      <th>std</th>\n",
       "      <td>1.003</td>\n",
       "      <td>1.003</td>\n",
       "      <td>1.003</td>\n",
       "      <td>1.003</td>\n",
       "      <td>1.003</td>\n",
       "      <td>0.0</td>\n",
       "      <td>1.003</td>\n",
       "      <td>1.003</td>\n",
       "    </tr>\n",
       "    <tr>\n",
       "      <th>min</th>\n",
       "      <td>-1.331</td>\n",
       "      <td>-2.057</td>\n",
       "      <td>-2.355</td>\n",
       "      <td>-1.431</td>\n",
       "      <td>-1.669</td>\n",
       "      <td>0.0</td>\n",
       "      <td>-2.319</td>\n",
       "      <td>-1.291</td>\n",
       "    </tr>\n",
       "    <tr>\n",
       "      <th>25%</th>\n",
       "      <td>-0.634</td>\n",
       "      <td>-0.673</td>\n",
       "      <td>-0.724</td>\n",
       "      <td>-0.731</td>\n",
       "      <td>-0.886</td>\n",
       "      <td>0.0</td>\n",
       "      <td>-0.613</td>\n",
       "      <td>-1.291</td>\n",
       "    </tr>\n",
       "    <tr>\n",
       "      <th>50%</th>\n",
       "      <td>-0.286</td>\n",
       "      <td>0.088</td>\n",
       "      <td>-0.066</td>\n",
       "      <td>-0.031</td>\n",
       "      <td>0.008</td>\n",
       "      <td>0.0</td>\n",
       "      <td>0.134</td>\n",
       "      <td>-0.092</td>\n",
       "    </tr>\n",
       "    <tr>\n",
       "      <th>75%</th>\n",
       "      <td>0.202</td>\n",
       "      <td>0.803</td>\n",
       "      <td>0.449</td>\n",
       "      <td>0.668</td>\n",
       "      <td>0.902</td>\n",
       "      <td>0.0</td>\n",
       "      <td>0.667</td>\n",
       "      <td>1.108</td>\n",
       "    </tr>\n",
       "    <tr>\n",
       "      <th>max</th>\n",
       "      <td>4.489</td>\n",
       "      <td>1.714</td>\n",
       "      <td>3.082</td>\n",
       "      <td>1.368</td>\n",
       "      <td>1.685</td>\n",
       "      <td>0.0</td>\n",
       "      <td>2.054</td>\n",
       "      <td>1.108</td>\n",
       "    </tr>\n",
       "  </tbody>\n",
       "</table>\n",
       "</div>"
      ],
      "text/plain": [
       "         Ozone    solar     Wind    Month      Day   Year     Temp  Weather\n",
       "count  157.000  157.000  157.000  157.000  157.000  157.0  157.000  157.000\n",
       "mean    -0.000   -0.000   -0.000    0.000   -0.000    0.0    0.000    0.000\n",
       "std      1.003    1.003    1.003    1.003    1.003    0.0    1.003    1.003\n",
       "min     -1.331   -2.057   -2.355   -1.431   -1.669    0.0   -2.319   -1.291\n",
       "25%     -0.634   -0.673   -0.724   -0.731   -0.886    0.0   -0.613   -1.291\n",
       "50%     -0.286    0.088   -0.066   -0.031    0.008    0.0    0.134   -0.092\n",
       "75%      0.202    0.803    0.449    0.668    0.902    0.0    0.667    1.108\n",
       "max      4.489    1.714    3.082    1.368    1.685    0.0    2.054    1.108"
      ]
     },
     "execution_count": 54,
     "metadata": {},
     "output_type": "execute_result"
    }
   ],
   "source": [
    "df_std.describe().round(3)"
   ]
  },
  {
   "cell_type": "markdown",
   "id": "04583baa",
   "metadata": {},
   "source": [
    "### MinMax Scaling"
   ]
  },
  {
   "cell_type": "code",
   "execution_count": 56,
   "id": "cd3c19d0",
   "metadata": {
    "ExecuteTime": {
     "end_time": "2022-11-04T02:27:35.495463Z",
     "start_time": "2022-11-04T02:27:35.471653Z"
    }
   },
   "outputs": [
    {
     "data": {
      "text/html": [
       "<div>\n",
       "<style scoped>\n",
       "    .dataframe tbody tr th:only-of-type {\n",
       "        vertical-align: middle;\n",
       "    }\n",
       "\n",
       "    .dataframe tbody tr th {\n",
       "        vertical-align: top;\n",
       "    }\n",
       "\n",
       "    .dataframe thead th {\n",
       "        text-align: right;\n",
       "    }\n",
       "</style>\n",
       "<table border=\"1\" class=\"dataframe\">\n",
       "  <thead>\n",
       "    <tr style=\"text-align: right;\">\n",
       "      <th></th>\n",
       "      <th>Ozone</th>\n",
       "      <th>solar</th>\n",
       "      <th>Wind</th>\n",
       "      <th>Month</th>\n",
       "      <th>Day</th>\n",
       "      <th>Year</th>\n",
       "      <th>Temp</th>\n",
       "      <th>Weather</th>\n",
       "    </tr>\n",
       "  </thead>\n",
       "  <tbody>\n",
       "    <tr>\n",
       "      <th>0</th>\n",
       "      <td>0.239521</td>\n",
       "      <td>0.559633</td>\n",
       "      <td>0.300000</td>\n",
       "      <td>0.0</td>\n",
       "      <td>0.000000</td>\n",
       "      <td>0.0</td>\n",
       "      <td>0.268293</td>\n",
       "      <td>1.0</td>\n",
       "    </tr>\n",
       "    <tr>\n",
       "      <th>1</th>\n",
       "      <td>0.209581</td>\n",
       "      <td>0.339450</td>\n",
       "      <td>0.331579</td>\n",
       "      <td>0.0</td>\n",
       "      <td>0.033333</td>\n",
       "      <td>0.0</td>\n",
       "      <td>0.390244</td>\n",
       "      <td>0.0</td>\n",
       "    </tr>\n",
       "    <tr>\n",
       "      <th>2</th>\n",
       "      <td>0.065868</td>\n",
       "      <td>0.434251</td>\n",
       "      <td>0.573684</td>\n",
       "      <td>0.0</td>\n",
       "      <td>0.066667</td>\n",
       "      <td>0.0</td>\n",
       "      <td>0.439024</td>\n",
       "      <td>0.5</td>\n",
       "    </tr>\n",
       "    <tr>\n",
       "      <th>3</th>\n",
       "      <td>0.101796</td>\n",
       "      <td>0.935780</td>\n",
       "      <td>0.515789</td>\n",
       "      <td>0.0</td>\n",
       "      <td>0.100000</td>\n",
       "      <td>0.0</td>\n",
       "      <td>0.146341</td>\n",
       "      <td>1.0</td>\n",
       "    </tr>\n",
       "    <tr>\n",
       "      <th>4</th>\n",
       "      <td>0.179641</td>\n",
       "      <td>0.545464</td>\n",
       "      <td>0.663158</td>\n",
       "      <td>0.0</td>\n",
       "      <td>0.133333</td>\n",
       "      <td>0.0</td>\n",
       "      <td>0.000000</td>\n",
       "      <td>1.0</td>\n",
       "    </tr>\n",
       "  </tbody>\n",
       "</table>\n",
       "</div>"
      ],
      "text/plain": [
       "      Ozone     solar      Wind  Month       Day  Year      Temp  Weather\n",
       "0  0.239521  0.559633  0.300000    0.0  0.000000   0.0  0.268293      1.0\n",
       "1  0.209581  0.339450  0.331579    0.0  0.033333   0.0  0.390244      0.0\n",
       "2  0.065868  0.434251  0.573684    0.0  0.066667   0.0  0.439024      0.5\n",
       "3  0.101796  0.935780  0.515789    0.0  0.100000   0.0  0.146341      1.0\n",
       "4  0.179641  0.545464  0.663158    0.0  0.133333   0.0  0.000000      1.0"
      ]
     },
     "execution_count": 56,
     "metadata": {},
     "output_type": "execute_result"
    }
   ],
   "source": [
    "from sklearn.preprocessing import MinMaxScaler\n",
    "mm = MinMaxScaler()\n",
    "df_mm = mm.fit_transform(df)\n",
    "df_mm = pd.DataFrame(df_mm, columns=df.columns)\n",
    "df_mm.head()"
   ]
  },
  {
   "cell_type": "code",
   "execution_count": 57,
   "id": "4379c728",
   "metadata": {
    "ExecuteTime": {
     "end_time": "2022-11-04T02:27:57.591436Z",
     "start_time": "2022-11-04T02:27:57.561816Z"
    }
   },
   "outputs": [
    {
     "data": {
      "text/html": [
       "<div>\n",
       "<style scoped>\n",
       "    .dataframe tbody tr th:only-of-type {\n",
       "        vertical-align: middle;\n",
       "    }\n",
       "\n",
       "    .dataframe tbody tr th {\n",
       "        vertical-align: top;\n",
       "    }\n",
       "\n",
       "    .dataframe thead th {\n",
       "        text-align: right;\n",
       "    }\n",
       "</style>\n",
       "<table border=\"1\" class=\"dataframe\">\n",
       "  <thead>\n",
       "    <tr style=\"text-align: right;\">\n",
       "      <th></th>\n",
       "      <th>Ozone</th>\n",
       "      <th>solar</th>\n",
       "      <th>Wind</th>\n",
       "      <th>Month</th>\n",
       "      <th>Day</th>\n",
       "      <th>Year</th>\n",
       "      <th>Temp</th>\n",
       "      <th>Weather</th>\n",
       "    </tr>\n",
       "  </thead>\n",
       "  <tbody>\n",
       "    <tr>\n",
       "      <th>count</th>\n",
       "      <td>157.000</td>\n",
       "      <td>157.000</td>\n",
       "      <td>157.000</td>\n",
       "      <td>157.000</td>\n",
       "      <td>157.000</td>\n",
       "      <td>157.0</td>\n",
       "      <td>157.000</td>\n",
       "      <td>157.000</td>\n",
       "    </tr>\n",
       "    <tr>\n",
       "      <th>mean</th>\n",
       "      <td>0.229</td>\n",
       "      <td>0.545</td>\n",
       "      <td>0.433</td>\n",
       "      <td>0.511</td>\n",
       "      <td>0.498</td>\n",
       "      <td>0.0</td>\n",
       "      <td>0.530</td>\n",
       "      <td>0.538</td>\n",
       "    </tr>\n",
       "    <tr>\n",
       "      <th>std</th>\n",
       "      <td>0.172</td>\n",
       "      <td>0.266</td>\n",
       "      <td>0.184</td>\n",
       "      <td>0.358</td>\n",
       "      <td>0.299</td>\n",
       "      <td>0.0</td>\n",
       "      <td>0.229</td>\n",
       "      <td>0.418</td>\n",
       "    </tr>\n",
       "    <tr>\n",
       "      <th>min</th>\n",
       "      <td>0.000</td>\n",
       "      <td>0.000</td>\n",
       "      <td>0.000</td>\n",
       "      <td>0.000</td>\n",
       "      <td>0.000</td>\n",
       "      <td>0.0</td>\n",
       "      <td>0.000</td>\n",
       "      <td>0.000</td>\n",
       "    </tr>\n",
       "    <tr>\n",
       "      <th>25%</th>\n",
       "      <td>0.120</td>\n",
       "      <td>0.367</td>\n",
       "      <td>0.300</td>\n",
       "      <td>0.250</td>\n",
       "      <td>0.233</td>\n",
       "      <td>0.0</td>\n",
       "      <td>0.390</td>\n",
       "      <td>0.000</td>\n",
       "    </tr>\n",
       "    <tr>\n",
       "      <th>50%</th>\n",
       "      <td>0.180</td>\n",
       "      <td>0.569</td>\n",
       "      <td>0.421</td>\n",
       "      <td>0.500</td>\n",
       "      <td>0.500</td>\n",
       "      <td>0.0</td>\n",
       "      <td>0.561</td>\n",
       "      <td>0.500</td>\n",
       "    </tr>\n",
       "    <tr>\n",
       "      <th>75%</th>\n",
       "      <td>0.263</td>\n",
       "      <td>0.758</td>\n",
       "      <td>0.516</td>\n",
       "      <td>0.750</td>\n",
       "      <td>0.767</td>\n",
       "      <td>0.0</td>\n",
       "      <td>0.683</td>\n",
       "      <td>1.000</td>\n",
       "    </tr>\n",
       "    <tr>\n",
       "      <th>max</th>\n",
       "      <td>1.000</td>\n",
       "      <td>1.000</td>\n",
       "      <td>1.000</td>\n",
       "      <td>1.000</td>\n",
       "      <td>1.000</td>\n",
       "      <td>0.0</td>\n",
       "      <td>1.000</td>\n",
       "      <td>1.000</td>\n",
       "    </tr>\n",
       "  </tbody>\n",
       "</table>\n",
       "</div>"
      ],
      "text/plain": [
       "         Ozone    solar     Wind    Month      Day   Year     Temp  Weather\n",
       "count  157.000  157.000  157.000  157.000  157.000  157.0  157.000  157.000\n",
       "mean     0.229    0.545    0.433    0.511    0.498    0.0    0.530    0.538\n",
       "std      0.172    0.266    0.184    0.358    0.299    0.0    0.229    0.418\n",
       "min      0.000    0.000    0.000    0.000    0.000    0.0    0.000    0.000\n",
       "25%      0.120    0.367    0.300    0.250    0.233    0.0    0.390    0.000\n",
       "50%      0.180    0.569    0.421    0.500    0.500    0.0    0.561    0.500\n",
       "75%      0.263    0.758    0.516    0.750    0.767    0.0    0.683    1.000\n",
       "max      1.000    1.000    1.000    1.000    1.000    0.0    1.000    1.000"
      ]
     },
     "execution_count": 57,
     "metadata": {},
     "output_type": "execute_result"
    }
   ],
   "source": [
    "df_mm.describe().round(3)"
   ]
  },
  {
   "cell_type": "code",
   "execution_count": 58,
   "id": "f8da6d2b",
   "metadata": {
    "ExecuteTime": {
     "end_time": "2022-11-04T02:33:11.819518Z",
     "start_time": "2022-11-04T02:33:11.681069Z"
    }
   },
   "outputs": [
    {
     "data": {
      "text/plain": [
       "['anagrams',\n",
       " 'anscombe',\n",
       " 'attention',\n",
       " 'brain_networks',\n",
       " 'car_crashes',\n",
       " 'diamonds',\n",
       " 'dots',\n",
       " 'dowjones',\n",
       " 'exercise',\n",
       " 'flights',\n",
       " 'fmri',\n",
       " 'geyser',\n",
       " 'glue',\n",
       " 'healthexp',\n",
       " 'iris',\n",
       " 'mpg',\n",
       " 'penguins',\n",
       " 'planets',\n",
       " 'seaice',\n",
       " 'taxis',\n",
       " 'tips',\n",
       " 'titanic']"
      ]
     },
     "execution_count": 58,
     "metadata": {},
     "output_type": "execute_result"
    }
   ],
   "source": [
    "sns.get_dataset_names()"
   ]
  },
  {
   "cell_type": "code",
   "execution_count": null,
   "id": "fc727bf9",
   "metadata": {},
   "outputs": [],
   "source": [
    "# mpg, penguins, tips - Practice EDA on these datasets"
   ]
  }
 ],
 "metadata": {
  "kernelspec": {
   "display_name": "Python 3 (ipykernel)",
   "language": "python",
   "name": "python3"
  },
  "language_info": {
   "codemirror_mode": {
    "name": "ipython",
    "version": 3
   },
   "file_extension": ".py",
   "mimetype": "text/x-python",
   "name": "python",
   "nbconvert_exporter": "python",
   "pygments_lexer": "ipython3",
   "version": "3.10.6"
  },
  "toc": {
   "base_numbering": 1,
   "nav_menu": {},
   "number_sections": true,
   "sideBar": true,
   "skip_h1_title": true,
   "title_cell": "Table of Contents",
   "title_sidebar": "Contents",
   "toc_cell": false,
   "toc_position": {},
   "toc_section_display": true,
   "toc_window_display": false
  }
 },
 "nbformat": 4,
 "nbformat_minor": 5
}
