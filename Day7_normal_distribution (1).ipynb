{
 "cells": [
  {
   "cell_type": "code",
   "execution_count": 1,
   "id": "2a13ff6d",
   "metadata": {
    "ExecuteTime": {
     "end_time": "2022-10-26T03:11:39.641519Z",
     "start_time": "2022-10-26T03:11:39.321418Z"
    }
   },
   "outputs": [],
   "source": [
    "from scipy.stats import norm\n",
    "# import scipy.stats as stats\n",
    "# stats.norm."
   ]
  },
  {
   "cell_type": "markdown",
   "id": "4030c7b1",
   "metadata": {},
   "source": [
    "# Find the probability that a normally distributed random variable with a mean of 60 and a standard deviation of 10 has a value less than 70"
   ]
  },
  {
   "cell_type": "code",
   "execution_count": 2,
   "id": "9fb200f6",
   "metadata": {
    "ExecuteTime": {
     "end_time": "2022-10-26T03:17:00.382614Z",
     "start_time": "2022-10-26T03:17:00.363053Z"
    }
   },
   "outputs": [
    {
     "data": {
      "text/plain": [
       "0.8413447460685429"
      ]
     },
     "execution_count": 2,
     "metadata": {},
     "output_type": "execute_result"
    }
   ],
   "source": [
    "norm.cdf(x=70,loc=60,scale=10)"
   ]
  },
  {
   "cell_type": "markdown",
   "id": "495d2624",
   "metadata": {},
   "source": [
    "# Suppose GMAT exam scores follow a normal distribution with a mean of 711 and standard deviation of 29. "
   ]
  },
  {
   "cell_type": "markdown",
   "id": "a7ce3e78",
   "metadata": {},
   "source": [
    "## What is the probability of GMAT score being less than 680?"
   ]
  },
  {
   "cell_type": "code",
   "execution_count": 3,
   "id": "d40c0b18",
   "metadata": {
    "ExecuteTime": {
     "end_time": "2022-10-26T03:18:33.916398Z",
     "start_time": "2022-10-26T03:18:33.905930Z"
    }
   },
   "outputs": [
    {
     "data": {
      "text/plain": [
       "0.14254260383881612"
      ]
     },
     "execution_count": 3,
     "metadata": {},
     "output_type": "execute_result"
    }
   ],
   "source": [
    "norm.cdf(x=680, loc=711, scale=29)"
   ]
  },
  {
   "cell_type": "markdown",
   "id": "381981cc",
   "metadata": {},
   "source": [
    "## What is the probability of GMAT score being between 697 and 740?"
   ]
  },
  {
   "cell_type": "code",
   "execution_count": 4,
   "id": "019cb87a",
   "metadata": {
    "ExecuteTime": {
     "end_time": "2022-10-26T03:20:42.299004Z",
     "start_time": "2022-10-26T03:20:42.289479Z"
    }
   },
   "outputs": [
    {
     "data": {
      "text/plain": [
       "0.5267111786415019"
      ]
     },
     "execution_count": 4,
     "metadata": {},
     "output_type": "execute_result"
    }
   ],
   "source": [
    "norm.cdf(x=740,loc=711,scale=29) - norm.cdf(x=697,loc=711,scale=29)"
   ]
  },
  {
   "cell_type": "markdown",
   "id": "2d0df1f4",
   "metadata": {},
   "source": [
    "# According to the Telecommunication Industry the average monthly cell phone bill is Rs. 850 with a standard deviation of Rs. 150. \n",
    "\n",
    "## -   What is the probability that a randomly selected cell phone bill is more than Rs 1200?"
   ]
  },
  {
   "cell_type": "code",
   "execution_count": 5,
   "id": "c5d9ef59",
   "metadata": {
    "ExecuteTime": {
     "end_time": "2022-10-26T03:22:59.129282Z",
     "start_time": "2022-10-26T03:22:59.108838Z"
    }
   },
   "outputs": [
    {
     "data": {
      "text/plain": [
       "0.009815328628645315"
      ]
     },
     "execution_count": 5,
     "metadata": {},
     "output_type": "execute_result"
    }
   ],
   "source": [
    "1 - norm.cdf(x=1200,loc=850,scale=150)"
   ]
  },
  {
   "cell_type": "markdown",
   "id": "c623d3a5",
   "metadata": {},
   "source": [
    "## -\tWhat is the probability that a randomly selected cell phone bill is between Rs 750 and Rs 1200?"
   ]
  },
  {
   "cell_type": "code",
   "execution_count": 6,
   "id": "62a91ac7",
   "metadata": {
    "ExecuteTime": {
     "end_time": "2022-10-26T03:24:06.347532Z",
     "start_time": "2022-10-26T03:24:06.335608Z"
    }
   },
   "outputs": [
    {
     "data": {
      "text/plain": [
       "0.7376921338244318"
      ]
     },
     "execution_count": 6,
     "metadata": {},
     "output_type": "execute_result"
    }
   ],
   "source": [
    "norm.cdf(x=1200,loc=850,scale=150) - norm.cdf(x=750,loc=850,scale=150)"
   ]
  },
  {
   "cell_type": "markdown",
   "id": "e48c123a",
   "metadata": {},
   "source": [
    "## -\tWhat is the probability that a randomly selected cell phone bill is no more than Rs 650?"
   ]
  },
  {
   "cell_type": "code",
   "execution_count": 7,
   "id": "479e9dfc",
   "metadata": {
    "ExecuteTime": {
     "end_time": "2022-10-26T03:25:10.851089Z",
     "start_time": "2022-10-26T03:25:10.825652Z"
    }
   },
   "outputs": [
    {
     "data": {
      "text/plain": [
       "0.09121121972586788"
      ]
     },
     "execution_count": 7,
     "metadata": {},
     "output_type": "execute_result"
    }
   ],
   "source": [
    "norm.cdf(x=650, loc=850, scale=150)"
   ]
  },
  {
   "cell_type": "markdown",
   "id": "83730138",
   "metadata": {},
   "source": [
    "## -\tWhat is the amount above which lies top 15% of cell phone bills?\n",
    "## -\tWhat is the amount below which lies bottom 25% of cell phone bills?\n",
    "\n",
    "Assume the cell phone bill amounts are normally distributed."
   ]
  },
  {
   "cell_type": "code",
   "execution_count": 8,
   "id": "83b9c04c",
   "metadata": {
    "ExecuteTime": {
     "end_time": "2022-10-26T03:28:54.385035Z",
     "start_time": "2022-10-26T03:28:54.365368Z"
    }
   },
   "outputs": [
    {
     "data": {
      "text/plain": [
       "1005.4650084240684"
      ]
     },
     "execution_count": 8,
     "metadata": {},
     "output_type": "execute_result"
    }
   ],
   "source": [
    "# 3.4\n",
    "\n",
    "\n",
    "norm.ppf(q=0.85,loc=850,scale=150)"
   ]
  },
  {
   "cell_type": "code",
   "execution_count": 9,
   "id": "0b879217",
   "metadata": {
    "ExecuteTime": {
     "end_time": "2022-10-26T03:30:16.387025Z",
     "start_time": "2022-10-26T03:30:16.375756Z"
    }
   },
   "outputs": [
    {
     "data": {
      "text/plain": [
       "748.8265374705877"
      ]
     },
     "execution_count": 9,
     "metadata": {},
     "output_type": "execute_result"
    }
   ],
   "source": [
    "#3.5\n",
    "norm.ppf(q=0.25, loc=850, scale=150)"
   ]
  },
  {
   "cell_type": "code",
   "execution_count": null,
   "id": "b5def7ff",
   "metadata": {},
   "outputs": [],
   "source": []
  }
 ],
 "metadata": {
  "kernelspec": {
   "display_name": "Python 3 (ipykernel)",
   "language": "python",
   "name": "python3"
  },
  "language_info": {
   "codemirror_mode": {
    "name": "ipython",
    "version": 3
   },
   "file_extension": ".py",
   "mimetype": "text/x-python",
   "name": "python",
   "nbconvert_exporter": "python",
   "pygments_lexer": "ipython3",
   "version": "3.10.6"
  },
  "toc": {
   "base_numbering": 1,
   "nav_menu": {},
   "number_sections": true,
   "sideBar": true,
   "skip_h1_title": false,
   "title_cell": "Table of Contents",
   "title_sidebar": "Contents",
   "toc_cell": false,
   "toc_position": {},
   "toc_section_display": true,
   "toc_window_display": false
  }
 },
 "nbformat": 4,
 "nbformat_minor": 5
}
