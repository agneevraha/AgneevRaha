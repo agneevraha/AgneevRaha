{
 "cells": [
  {
   "cell_type": "markdown",
   "id": "9e833d1c",
   "metadata": {},
   "source": [
    "# Chi-Square Test of Independence"
   ]
  },
  {
   "cell_type": "code",
   "execution_count": 1,
   "id": "0c5d2a4c",
   "metadata": {
    "ExecuteTime": {
     "end_time": "2022-11-01T02:44:21.773505Z",
     "start_time": "2022-11-01T02:44:21.395619Z"
    }
   },
   "outputs": [],
   "source": [
    "# import pandas and chi-square test function from scipy.stats\n",
    "import pandas as pd \n",
    "from scipy.stats import chi2_contingency"
   ]
  },
  {
   "cell_type": "code",
   "execution_count": 2,
   "id": "caf685eb",
   "metadata": {
    "ExecuteTime": {
     "end_time": "2022-11-01T02:46:34.612996Z",
     "start_time": "2022-11-01T02:46:34.591432Z"
    }
   },
   "outputs": [
    {
     "data": {
      "text/html": [
       "<div>\n",
       "<style scoped>\n",
       "    .dataframe tbody tr th:only-of-type {\n",
       "        vertical-align: middle;\n",
       "    }\n",
       "\n",
       "    .dataframe tbody tr th {\n",
       "        vertical-align: top;\n",
       "    }\n",
       "\n",
       "    .dataframe thead th {\n",
       "        text-align: right;\n",
       "    }\n",
       "</style>\n",
       "<table border=\"1\" class=\"dataframe\">\n",
       "  <thead>\n",
       "    <tr style=\"text-align: right;\">\n",
       "      <th></th>\n",
       "      <th>non-smoker</th>\n",
       "      <th>smoker</th>\n",
       "    </tr>\n",
       "  </thead>\n",
       "  <tbody>\n",
       "    <tr>\n",
       "      <th>athlete</th>\n",
       "      <td>14</td>\n",
       "      <td>4</td>\n",
       "    </tr>\n",
       "    <tr>\n",
       "      <th>non-athlete</th>\n",
       "      <td>0</td>\n",
       "      <td>10</td>\n",
       "    </tr>\n",
       "  </tbody>\n",
       "</table>\n",
       "</div>"
      ],
      "text/plain": [
       "             non-smoker  smoker\n",
       "athlete              14       4\n",
       "non-athlete           0      10"
      ]
     },
     "execution_count": 2,
     "metadata": {},
     "output_type": "execute_result"
    }
   ],
   "source": [
    "# create a dataframe of the contingency table data of smokers vs athletes\n",
    "non_smoker = [14,0]\n",
    "smoker = [4,10]\n",
    "df = pd.DataFrame({'non-smoker':non_smoker,\n",
    "                  'smoker':smoker},\n",
    "                 index=['athlete','non-athlete'])\n",
    "df"
   ]
  },
  {
   "cell_type": "markdown",
   "id": "59dea40c",
   "metadata": {},
   "source": [
    "$H_0$: There is no dependency between the levels of the categorical features\n",
    "\n",
    "$H_a$: There is a dependency between the levels of the categorical features"
   ]
  },
  {
   "cell_type": "code",
   "execution_count": 4,
   "id": "0cc49124",
   "metadata": {
    "ExecuteTime": {
     "end_time": "2022-11-01T02:52:01.397141Z",
     "start_time": "2022-11-01T02:52:01.390100Z"
    }
   },
   "outputs": [],
   "source": [
    "# conduct a chi-square test and get the calculated probability(pvalue) of committing type1 error\n",
    "\n",
    "_,pvalue,_,_ = chi2_contingency(df)"
   ]
  },
  {
   "cell_type": "code",
   "execution_count": 5,
   "id": "4f92de1c",
   "metadata": {
    "ExecuteTime": {
     "end_time": "2022-11-01T02:52:05.545786Z",
     "start_time": "2022-11-01T02:52:05.525639Z"
    }
   },
   "outputs": [
    {
     "data": {
      "text/plain": [
       "0.0003857467556820072"
      ]
     },
     "execution_count": 5,
     "metadata": {},
     "output_type": "execute_result"
    }
   ],
   "source": [
    "pvalue"
   ]
  },
  {
   "cell_type": "markdown",
   "id": "4a3f8a8b",
   "metadata": {},
   "source": [
    "# Conclusion"
   ]
  },
  {
   "cell_type": "markdown",
   "id": "1931647e",
   "metadata": {},
   "source": [
    "The null hypothesis can be rejected and we can conclude that the two categorical features are not independent because the calculated pvalue is less than the alpha of 0.05."
   ]
  },
  {
   "cell_type": "code",
   "execution_count": 7,
   "id": "ce84d34d",
   "metadata": {
    "ExecuteTime": {
     "end_time": "2022-11-01T03:07:11.838464Z",
     "start_time": "2022-11-01T03:07:11.824401Z"
    }
   },
   "outputs": [
    {
     "data": {
      "text/html": [
       "<div>\n",
       "<style scoped>\n",
       "    .dataframe tbody tr th:only-of-type {\n",
       "        vertical-align: middle;\n",
       "    }\n",
       "\n",
       "    .dataframe tbody tr th {\n",
       "        vertical-align: top;\n",
       "    }\n",
       "\n",
       "    .dataframe thead th {\n",
       "        text-align: right;\n",
       "    }\n",
       "</style>\n",
       "<table border=\"1\" class=\"dataframe\">\n",
       "  <thead>\n",
       "    <tr style=\"text-align: right;\">\n",
       "      <th></th>\n",
       "      <th>promoted</th>\n",
       "      <th>not_promoted</th>\n",
       "    </tr>\n",
       "  </thead>\n",
       "  <tbody>\n",
       "    <tr>\n",
       "      <th>company A</th>\n",
       "      <td>12</td>\n",
       "      <td>32</td>\n",
       "    </tr>\n",
       "    <tr>\n",
       "      <th>company B</th>\n",
       "      <td>20</td>\n",
       "      <td>52</td>\n",
       "    </tr>\n",
       "  </tbody>\n",
       "</table>\n",
       "</div>"
      ],
      "text/plain": [
       "           promoted  not_promoted\n",
       "company A        12            32\n",
       "company B        20            52"
      ]
     },
     "execution_count": 7,
     "metadata": {},
     "output_type": "execute_result"
    }
   ],
   "source": [
    "df = pd.DataFrame({'promoted':[12,20],\n",
    "                 'not_promoted':[32,52]},\n",
    "                index=['company A','company B'])\n",
    "df"
   ]
  },
  {
   "cell_type": "code",
   "execution_count": 8,
   "id": "f66f0f81",
   "metadata": {
    "ExecuteTime": {
     "end_time": "2022-11-01T03:07:27.593616Z",
     "start_time": "2022-11-01T03:07:27.576446Z"
    }
   },
   "outputs": [
    {
     "data": {
      "text/plain": [
       "(0.0,\n",
       " 1.0,\n",
       " 1,\n",
       " array([[12.13793103, 31.86206897],\n",
       "        [19.86206897, 52.13793103]]))"
      ]
     },
     "execution_count": 8,
     "metadata": {},
     "output_type": "execute_result"
    }
   ],
   "source": [
    "chi2_contingency(df)"
   ]
  },
  {
   "cell_type": "code",
   "execution_count": null,
   "id": "ce77dc4a",
   "metadata": {},
   "outputs": [],
   "source": []
  }
 ],
 "metadata": {
  "kernelspec": {
   "display_name": "Python 3 (ipykernel)",
   "language": "python",
   "name": "python3"
  },
  "language_info": {
   "codemirror_mode": {
    "name": "ipython",
    "version": 3
   },
   "file_extension": ".py",
   "mimetype": "text/x-python",
   "name": "python",
   "nbconvert_exporter": "python",
   "pygments_lexer": "ipython3",
   "version": "3.10.6"
  },
  "toc": {
   "base_numbering": 1,
   "nav_menu": {},
   "number_sections": true,
   "sideBar": true,
   "skip_h1_title": true,
   "title_cell": "Table of Contents",
   "title_sidebar": "Contents",
   "toc_cell": false,
   "toc_position": {},
   "toc_section_display": true,
   "toc_window_display": false
  }
 },
 "nbformat": 4,
 "nbformat_minor": 5
}
