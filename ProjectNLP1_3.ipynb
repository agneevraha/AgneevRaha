{
 "cells": [
  {
   "cell_type": "code",
   "execution_count": 1,
   "metadata": {
    "id": "9pkr-DRY7Lnh"
   },
   "outputs": [],
   "source": [
    "import warnings\n",
    "\n",
    "warnings.simplefilter(\"ignore\", UserWarning)\n",
    "warnings.simplefilter(\"ignore\", FutureWarning)\n",
    "warnings.simplefilter(\"ignore\", DeprecationWarning)"
   ]
  },
  {
   "cell_type": "code",
   "execution_count": 2,
   "metadata": {
    "colab": {
     "base_uri": "https://localhost:8080/",
     "height": 73
    },
    "id": "KLoVENgR7k15",
    "outputId": "aa9d3fc9-b7ea-412c-ff81-a8c2f4cd226a"
   },
   "outputs": [
    {
     "data": {
      "text/html": [
       "\n",
       "     <input type=\"file\" id=\"files-93adb9eb-be0a-429d-a57e-18d8dd437545\" name=\"files[]\" multiple disabled\n",
       "        style=\"border:none\" />\n",
       "     <output id=\"result-93adb9eb-be0a-429d-a57e-18d8dd437545\">\n",
       "      Upload widget is only available when the cell has been executed in the\n",
       "      current browser session. Please rerun this cell to enable.\n",
       "      </output>\n",
       "      <script>// Copyright 2017 Google LLC\n",
       "//\n",
       "// Licensed under the Apache License, Version 2.0 (the \"License\");\n",
       "// you may not use this file except in compliance with the License.\n",
       "// You may obtain a copy of the License at\n",
       "//\n",
       "//      http://www.apache.org/licenses/LICENSE-2.0\n",
       "//\n",
       "// Unless required by applicable law or agreed to in writing, software\n",
       "// distributed under the License is distributed on an \"AS IS\" BASIS,\n",
       "// WITHOUT WARRANTIES OR CONDITIONS OF ANY KIND, either express or implied.\n",
       "// See the License for the specific language governing permissions and\n",
       "// limitations under the License.\n",
       "\n",
       "/**\n",
       " * @fileoverview Helpers for google.colab Python module.\n",
       " */\n",
       "(function(scope) {\n",
       "function span(text, styleAttributes = {}) {\n",
       "  const element = document.createElement('span');\n",
       "  element.textContent = text;\n",
       "  for (const key of Object.keys(styleAttributes)) {\n",
       "    element.style[key] = styleAttributes[key];\n",
       "  }\n",
       "  return element;\n",
       "}\n",
       "\n",
       "// Max number of bytes which will be uploaded at a time.\n",
       "const MAX_PAYLOAD_SIZE = 100 * 1024;\n",
       "\n",
       "function _uploadFiles(inputId, outputId) {\n",
       "  const steps = uploadFilesStep(inputId, outputId);\n",
       "  const outputElement = document.getElementById(outputId);\n",
       "  // Cache steps on the outputElement to make it available for the next call\n",
       "  // to uploadFilesContinue from Python.\n",
       "  outputElement.steps = steps;\n",
       "\n",
       "  return _uploadFilesContinue(outputId);\n",
       "}\n",
       "\n",
       "// This is roughly an async generator (not supported in the browser yet),\n",
       "// where there are multiple asynchronous steps and the Python side is going\n",
       "// to poll for completion of each step.\n",
       "// This uses a Promise to block the python side on completion of each step,\n",
       "// then passes the result of the previous step as the input to the next step.\n",
       "function _uploadFilesContinue(outputId) {\n",
       "  const outputElement = document.getElementById(outputId);\n",
       "  const steps = outputElement.steps;\n",
       "\n",
       "  const next = steps.next(outputElement.lastPromiseValue);\n",
       "  return Promise.resolve(next.value.promise).then((value) => {\n",
       "    // Cache the last promise value to make it available to the next\n",
       "    // step of the generator.\n",
       "    outputElement.lastPromiseValue = value;\n",
       "    return next.value.response;\n",
       "  });\n",
       "}\n",
       "\n",
       "/**\n",
       " * Generator function which is called between each async step of the upload\n",
       " * process.\n",
       " * @param {string} inputId Element ID of the input file picker element.\n",
       " * @param {string} outputId Element ID of the output display.\n",
       " * @return {!Iterable<!Object>} Iterable of next steps.\n",
       " */\n",
       "function* uploadFilesStep(inputId, outputId) {\n",
       "  const inputElement = document.getElementById(inputId);\n",
       "  inputElement.disabled = false;\n",
       "\n",
       "  const outputElement = document.getElementById(outputId);\n",
       "  outputElement.innerHTML = '';\n",
       "\n",
       "  const pickedPromise = new Promise((resolve) => {\n",
       "    inputElement.addEventListener('change', (e) => {\n",
       "      resolve(e.target.files);\n",
       "    });\n",
       "  });\n",
       "\n",
       "  const cancel = document.createElement('button');\n",
       "  inputElement.parentElement.appendChild(cancel);\n",
       "  cancel.textContent = 'Cancel upload';\n",
       "  const cancelPromise = new Promise((resolve) => {\n",
       "    cancel.onclick = () => {\n",
       "      resolve(null);\n",
       "    };\n",
       "  });\n",
       "\n",
       "  // Wait for the user to pick the files.\n",
       "  const files = yield {\n",
       "    promise: Promise.race([pickedPromise, cancelPromise]),\n",
       "    response: {\n",
       "      action: 'starting',\n",
       "    }\n",
       "  };\n",
       "\n",
       "  cancel.remove();\n",
       "\n",
       "  // Disable the input element since further picks are not allowed.\n",
       "  inputElement.disabled = true;\n",
       "\n",
       "  if (!files) {\n",
       "    return {\n",
       "      response: {\n",
       "        action: 'complete',\n",
       "      }\n",
       "    };\n",
       "  }\n",
       "\n",
       "  for (const file of files) {\n",
       "    const li = document.createElement('li');\n",
       "    li.append(span(file.name, {fontWeight: 'bold'}));\n",
       "    li.append(span(\n",
       "        `(${file.type || 'n/a'}) - ${file.size} bytes, ` +\n",
       "        `last modified: ${\n",
       "            file.lastModifiedDate ? file.lastModifiedDate.toLocaleDateString() :\n",
       "                                    'n/a'} - `));\n",
       "    const percent = span('0% done');\n",
       "    li.appendChild(percent);\n",
       "\n",
       "    outputElement.appendChild(li);\n",
       "\n",
       "    const fileDataPromise = new Promise((resolve) => {\n",
       "      const reader = new FileReader();\n",
       "      reader.onload = (e) => {\n",
       "        resolve(e.target.result);\n",
       "      };\n",
       "      reader.readAsArrayBuffer(file);\n",
       "    });\n",
       "    // Wait for the data to be ready.\n",
       "    let fileData = yield {\n",
       "      promise: fileDataPromise,\n",
       "      response: {\n",
       "        action: 'continue',\n",
       "      }\n",
       "    };\n",
       "\n",
       "    // Use a chunked sending to avoid message size limits. See b/62115660.\n",
       "    let position = 0;\n",
       "    do {\n",
       "      const length = Math.min(fileData.byteLength - position, MAX_PAYLOAD_SIZE);\n",
       "      const chunk = new Uint8Array(fileData, position, length);\n",
       "      position += length;\n",
       "\n",
       "      const base64 = btoa(String.fromCharCode.apply(null, chunk));\n",
       "      yield {\n",
       "        response: {\n",
       "          action: 'append',\n",
       "          file: file.name,\n",
       "          data: base64,\n",
       "        },\n",
       "      };\n",
       "\n",
       "      let percentDone = fileData.byteLength === 0 ?\n",
       "          100 :\n",
       "          Math.round((position / fileData.byteLength) * 100);\n",
       "      percent.textContent = `${percentDone}% done`;\n",
       "\n",
       "    } while (position < fileData.byteLength);\n",
       "  }\n",
       "\n",
       "  // All done.\n",
       "  yield {\n",
       "    response: {\n",
       "      action: 'complete',\n",
       "    }\n",
       "  };\n",
       "}\n",
       "\n",
       "scope.google = scope.google || {};\n",
       "scope.google.colab = scope.google.colab || {};\n",
       "scope.google.colab._files = {\n",
       "  _uploadFiles,\n",
       "  _uploadFilesContinue,\n",
       "};\n",
       "})(self);\n",
       "</script> "
      ],
      "text/plain": [
       "<IPython.core.display.HTML object>"
      ]
     },
     "metadata": {},
     "output_type": "display_data"
    },
    {
     "name": "stdout",
     "output_type": "stream",
     "text": [
      "Saving Product_details - Copy.csv to Product_details - Copy.csv\n"
     ]
    }
   ],
   "source": [
    "from google.colab import files\n",
    " \n",
    " \n",
    "uploaded = files.upload()"
   ]
  },
  {
   "cell_type": "code",
   "execution_count": null,
   "metadata": {
    "id": "mb2wmBqu7l7M"
   },
   "outputs": [],
   "source": []
  },
  {
   "cell_type": "code",
   "execution_count": 4,
   "metadata": {
    "colab": {
     "base_uri": "https://localhost:8080/"
    },
    "id": "Uk0d6S0Q7Qd0",
    "outputId": "2af682aa-2db6-4859-db6e-6c45626d9205"
   },
   "outputs": [
    {
     "name": "stdout",
     "output_type": "stream",
     "text": [
      "      Text_ID                                Product_Description  \\\n",
      "0        3057  The Web DesignerÛªs Guide to iOS (and Android...   \n",
      "1        6254  RT @mention Line for iPad 2 is longer today th...   \n",
      "2        8212  Crazy that Apple is opening a temporary store ...   \n",
      "3        4422  The lesson from Google One Pass: In this digit...   \n",
      "4        5526  RT @mention At the panel: &quot;Your mom has a...   \n",
      "...       ...                                                ...   \n",
      "6359     2945  Thanks @mention for hosting this event #sxsw #...   \n",
      "6360     4528  SXSW iPhone app is awesome, but iPad app crash...   \n",
      "6361     6526  RT @mention RT @mention Download 20+ free trac...   \n",
      "6362     2110  OH at Texas Social Media Awards: 'You don't ne...   \n",
      "6363     2177  #Google launching a &quot;major&quot; new soci...   \n",
      "\n",
      "      Product_Type  Sentiment  \n",
      "0                9          2  \n",
      "1                9          2  \n",
      "2                9          2  \n",
      "3                9          2  \n",
      "4                9          2  \n",
      "...            ...        ...  \n",
      "6359             9          2  \n",
      "6360             7          1  \n",
      "6361             9          2  \n",
      "6362             9          2  \n",
      "6363             9          2  \n",
      "\n",
      "[6364 rows x 4 columns]\n"
     ]
    }
   ],
   "source": [
    "import os\n",
    "import io\n",
    "import pandas as pd\n",
    "\n",
    "dataset = pd.read_csv(io.BytesIO(uploaded[r'Product_details - Copy.csv']))\n",
    "print(dataset)"
   ]
  },
  {
   "cell_type": "code",
   "execution_count": 5,
   "metadata": {
    "colab": {
     "base_uri": "https://localhost:8080/",
     "height": 676
    },
    "id": "H7L6llJd7uoh",
    "outputId": "45a91069-a630-40a9-97f9-802b04eb806a"
   },
   "outputs": [
    {
     "data": {
      "text/html": [
       "\n",
       "  <div id=\"df-dda77324-0458-4626-9420-a402e6961c83\">\n",
       "    <div class=\"colab-df-container\">\n",
       "      <div>\n",
       "<style scoped>\n",
       "    .dataframe tbody tr th:only-of-type {\n",
       "        vertical-align: middle;\n",
       "    }\n",
       "\n",
       "    .dataframe tbody tr th {\n",
       "        vertical-align: top;\n",
       "    }\n",
       "\n",
       "    .dataframe thead th {\n",
       "        text-align: right;\n",
       "    }\n",
       "</style>\n",
       "<table border=\"1\" class=\"dataframe\">\n",
       "  <thead>\n",
       "    <tr style=\"text-align: right;\">\n",
       "      <th></th>\n",
       "      <th>Text_ID</th>\n",
       "      <th>Product_Description</th>\n",
       "      <th>Product_Type</th>\n",
       "      <th>Sentiment</th>\n",
       "    </tr>\n",
       "  </thead>\n",
       "  <tbody>\n",
       "    <tr>\n",
       "      <th>0</th>\n",
       "      <td>3057</td>\n",
       "      <td>The Web DesignerÛªs Guide to iOS (and Android...</td>\n",
       "      <td>9</td>\n",
       "      <td>2</td>\n",
       "    </tr>\n",
       "    <tr>\n",
       "      <th>1</th>\n",
       "      <td>6254</td>\n",
       "      <td>RT @mention Line for iPad 2 is longer today th...</td>\n",
       "      <td>9</td>\n",
       "      <td>2</td>\n",
       "    </tr>\n",
       "    <tr>\n",
       "      <th>2</th>\n",
       "      <td>8212</td>\n",
       "      <td>Crazy that Apple is opening a temporary store ...</td>\n",
       "      <td>9</td>\n",
       "      <td>2</td>\n",
       "    </tr>\n",
       "    <tr>\n",
       "      <th>3</th>\n",
       "      <td>4422</td>\n",
       "      <td>The lesson from Google One Pass: In this digit...</td>\n",
       "      <td>9</td>\n",
       "      <td>2</td>\n",
       "    </tr>\n",
       "    <tr>\n",
       "      <th>4</th>\n",
       "      <td>5526</td>\n",
       "      <td>RT @mention At the panel: &amp;quot;Your mom has a...</td>\n",
       "      <td>9</td>\n",
       "      <td>2</td>\n",
       "    </tr>\n",
       "    <tr>\n",
       "      <th>5</th>\n",
       "      <td>6064</td>\n",
       "      <td>RT @mention I think my effing hubby is in line...</td>\n",
       "      <td>6</td>\n",
       "      <td>1</td>\n",
       "    </tr>\n",
       "    <tr>\n",
       "      <th>6</th>\n",
       "      <td>7713</td>\n",
       "      <td>&amp;quot;Android users are not iPhone users. (The...</td>\n",
       "      <td>9</td>\n",
       "      <td>2</td>\n",
       "    </tr>\n",
       "    <tr>\n",
       "      <th>7</th>\n",
       "      <td>2975</td>\n",
       "      <td>Wow! RT@mention We interrupt your regularly sc...</td>\n",
       "      <td>9</td>\n",
       "      <td>3</td>\n",
       "    </tr>\n",
       "    <tr>\n",
       "      <th>8</th>\n",
       "      <td>818</td>\n",
       "      <td>Google to Launch New Social Network Called Cir...</td>\n",
       "      <td>9</td>\n",
       "      <td>2</td>\n",
       "    </tr>\n",
       "    <tr>\n",
       "      <th>9</th>\n",
       "      <td>1318</td>\n",
       "      <td>@mention  Welcome! Enjoy #Sxsw and ride anywhe...</td>\n",
       "      <td>9</td>\n",
       "      <td>2</td>\n",
       "    </tr>\n",
       "    <tr>\n",
       "      <th>10</th>\n",
       "      <td>5454</td>\n",
       "      <td>RT @mention Apple plans to Keep Austin Wired, ...</td>\n",
       "      <td>9</td>\n",
       "      <td>2</td>\n",
       "    </tr>\n",
       "    <tr>\n",
       "      <th>11</th>\n",
       "      <td>1618</td>\n",
       "      <td>Yeay! RT @mention New #UberSocial for #iPhone ...</td>\n",
       "      <td>7</td>\n",
       "      <td>3</td>\n",
       "    </tr>\n",
       "    <tr>\n",
       "      <th>12</th>\n",
       "      <td>3902</td>\n",
       "      <td>You know it is #SXSW season when there are 10 ...</td>\n",
       "      <td>9</td>\n",
       "      <td>2</td>\n",
       "    </tr>\n",
       "    <tr>\n",
       "      <th>13</th>\n",
       "      <td>6513</td>\n",
       "      <td>RT @mention RT @mention Arriving in the US for...</td>\n",
       "      <td>9</td>\n",
       "      <td>2</td>\n",
       "    </tr>\n",
       "    <tr>\n",
       "      <th>14</th>\n",
       "      <td>728</td>\n",
       "      <td>ÛÏ@mention It's not a rumor: Apple is opening...</td>\n",
       "      <td>9</td>\n",
       "      <td>2</td>\n",
       "    </tr>\n",
       "    <tr>\n",
       "      <th>15</th>\n",
       "      <td>7667</td>\n",
       "      <td>Horrible repressed memories of the Apple spinn...</td>\n",
       "      <td>2</td>\n",
       "      <td>1</td>\n",
       "    </tr>\n",
       "    <tr>\n",
       "      <th>16</th>\n",
       "      <td>7957</td>\n",
       "      <td>@mention saw a man drop his iphone in a gutter...</td>\n",
       "      <td>9</td>\n",
       "      <td>2</td>\n",
       "    </tr>\n",
       "    <tr>\n",
       "      <th>17</th>\n",
       "      <td>5252</td>\n",
       "      <td>RT @mention #Social Is Too Important For #Goog...</td>\n",
       "      <td>9</td>\n",
       "      <td>2</td>\n",
       "    </tr>\n",
       "    <tr>\n",
       "      <th>18</th>\n",
       "      <td>6409</td>\n",
       "      <td>RT @mention On its second day in business, the...</td>\n",
       "      <td>2</td>\n",
       "      <td>3</td>\n",
       "    </tr>\n",
       "    <tr>\n",
       "      <th>19</th>\n",
       "      <td>7738</td>\n",
       "      <td>brace yourselves for the audio onslaught of #S...</td>\n",
       "      <td>9</td>\n",
       "      <td>2</td>\n",
       "    </tr>\n",
       "  </tbody>\n",
       "</table>\n",
       "</div>\n",
       "      <button class=\"colab-df-convert\" onclick=\"convertToInteractive('df-dda77324-0458-4626-9420-a402e6961c83')\"\n",
       "              title=\"Convert this dataframe to an interactive table.\"\n",
       "              style=\"display:none;\">\n",
       "        \n",
       "  <svg xmlns=\"http://www.w3.org/2000/svg\" height=\"24px\"viewBox=\"0 0 24 24\"\n",
       "       width=\"24px\">\n",
       "    <path d=\"M0 0h24v24H0V0z\" fill=\"none\"/>\n",
       "    <path d=\"M18.56 5.44l.94 2.06.94-2.06 2.06-.94-2.06-.94-.94-2.06-.94 2.06-2.06.94zm-11 1L8.5 8.5l.94-2.06 2.06-.94-2.06-.94L8.5 2.5l-.94 2.06-2.06.94zm10 10l.94 2.06.94-2.06 2.06-.94-2.06-.94-.94-2.06-.94 2.06-2.06.94z\"/><path d=\"M17.41 7.96l-1.37-1.37c-.4-.4-.92-.59-1.43-.59-.52 0-1.04.2-1.43.59L10.3 9.45l-7.72 7.72c-.78.78-.78 2.05 0 2.83L4 21.41c.39.39.9.59 1.41.59.51 0 1.02-.2 1.41-.59l7.78-7.78 2.81-2.81c.8-.78.8-2.07 0-2.86zM5.41 20L4 18.59l7.72-7.72 1.47 1.35L5.41 20z\"/>\n",
       "  </svg>\n",
       "      </button>\n",
       "      \n",
       "  <style>\n",
       "    .colab-df-container {\n",
       "      display:flex;\n",
       "      flex-wrap:wrap;\n",
       "      gap: 12px;\n",
       "    }\n",
       "\n",
       "    .colab-df-convert {\n",
       "      background-color: #E8F0FE;\n",
       "      border: none;\n",
       "      border-radius: 50%;\n",
       "      cursor: pointer;\n",
       "      display: none;\n",
       "      fill: #1967D2;\n",
       "      height: 32px;\n",
       "      padding: 0 0 0 0;\n",
       "      width: 32px;\n",
       "    }\n",
       "\n",
       "    .colab-df-convert:hover {\n",
       "      background-color: #E2EBFA;\n",
       "      box-shadow: 0px 1px 2px rgba(60, 64, 67, 0.3), 0px 1px 3px 1px rgba(60, 64, 67, 0.15);\n",
       "      fill: #174EA6;\n",
       "    }\n",
       "\n",
       "    [theme=dark] .colab-df-convert {\n",
       "      background-color: #3B4455;\n",
       "      fill: #D2E3FC;\n",
       "    }\n",
       "\n",
       "    [theme=dark] .colab-df-convert:hover {\n",
       "      background-color: #434B5C;\n",
       "      box-shadow: 0px 1px 3px 1px rgba(0, 0, 0, 0.15);\n",
       "      filter: drop-shadow(0px 1px 2px rgba(0, 0, 0, 0.3));\n",
       "      fill: #FFFFFF;\n",
       "    }\n",
       "  </style>\n",
       "\n",
       "      <script>\n",
       "        const buttonEl =\n",
       "          document.querySelector('#df-dda77324-0458-4626-9420-a402e6961c83 button.colab-df-convert');\n",
       "        buttonEl.style.display =\n",
       "          google.colab.kernel.accessAllowed ? 'block' : 'none';\n",
       "\n",
       "        async function convertToInteractive(key) {\n",
       "          const element = document.querySelector('#df-dda77324-0458-4626-9420-a402e6961c83');\n",
       "          const dataTable =\n",
       "            await google.colab.kernel.invokeFunction('convertToInteractive',\n",
       "                                                     [key], {});\n",
       "          if (!dataTable) return;\n",
       "\n",
       "          const docLinkHtml = 'Like what you see? Visit the ' +\n",
       "            '<a target=\"_blank\" href=https://colab.research.google.com/notebooks/data_table.ipynb>data table notebook</a>'\n",
       "            + ' to learn more about interactive tables.';\n",
       "          element.innerHTML = '';\n",
       "          dataTable['output_type'] = 'display_data';\n",
       "          await google.colab.output.renderOutput(dataTable, element);\n",
       "          const docLink = document.createElement('div');\n",
       "          docLink.innerHTML = docLinkHtml;\n",
       "          element.appendChild(docLink);\n",
       "        }\n",
       "      </script>\n",
       "    </div>\n",
       "  </div>\n",
       "  "
      ],
      "text/plain": [
       "    Text_ID                                Product_Description  Product_Type  \\\n",
       "0      3057  The Web DesignerÛªs Guide to iOS (and Android...             9   \n",
       "1      6254  RT @mention Line for iPad 2 is longer today th...             9   \n",
       "2      8212  Crazy that Apple is opening a temporary store ...             9   \n",
       "3      4422  The lesson from Google One Pass: In this digit...             9   \n",
       "4      5526  RT @mention At the panel: &quot;Your mom has a...             9   \n",
       "5      6064  RT @mention I think my effing hubby is in line...             6   \n",
       "6      7713  &quot;Android users are not iPhone users. (The...             9   \n",
       "7      2975  Wow! RT@mention We interrupt your regularly sc...             9   \n",
       "8       818  Google to Launch New Social Network Called Cir...             9   \n",
       "9      1318  @mention  Welcome! Enjoy #Sxsw and ride anywhe...             9   \n",
       "10     5454  RT @mention Apple plans to Keep Austin Wired, ...             9   \n",
       "11     1618  Yeay! RT @mention New #UberSocial for #iPhone ...             7   \n",
       "12     3902  You know it is #SXSW season when there are 10 ...             9   \n",
       "13     6513  RT @mention RT @mention Arriving in the US for...             9   \n",
       "14      728  ÛÏ@mention It's not a rumor: Apple is opening...             9   \n",
       "15     7667  Horrible repressed memories of the Apple spinn...             2   \n",
       "16     7957  @mention saw a man drop his iphone in a gutter...             9   \n",
       "17     5252  RT @mention #Social Is Too Important For #Goog...             9   \n",
       "18     6409  RT @mention On its second day in business, the...             2   \n",
       "19     7738  brace yourselves for the audio onslaught of #S...             9   \n",
       "\n",
       "    Sentiment  \n",
       "0           2  \n",
       "1           2  \n",
       "2           2  \n",
       "3           2  \n",
       "4           2  \n",
       "5           1  \n",
       "6           2  \n",
       "7           3  \n",
       "8           2  \n",
       "9           2  \n",
       "10          2  \n",
       "11          3  \n",
       "12          2  \n",
       "13          2  \n",
       "14          2  \n",
       "15          1  \n",
       "16          2  \n",
       "17          2  \n",
       "18          3  \n",
       "19          2  "
      ]
     },
     "execution_count": 5,
     "metadata": {},
     "output_type": "execute_result"
    }
   ],
   "source": [
    "dataset.head(20)"
   ]
  },
  {
   "cell_type": "code",
   "execution_count": 7,
   "metadata": {
    "colab": {
     "base_uri": "https://localhost:8080/"
    },
    "id": "mxR-Vner779S",
    "outputId": "664cf12f-8c81-4947-c5c8-70e3ef562f06"
   },
   "outputs": [
    {
     "name": "stdout",
     "output_type": "stream",
     "text": [
      "<class 'pandas.core.frame.DataFrame'>\n",
      "RangeIndex: 6364 entries, 0 to 6363\n",
      "Data columns (total 4 columns):\n",
      " #   Column               Non-Null Count  Dtype \n",
      "---  ------               --------------  ----- \n",
      " 0   Text_ID              6364 non-null   int64 \n",
      " 1   Product_Description  6364 non-null   object\n",
      " 2   Product_Type         6364 non-null   int64 \n",
      " 3   Sentiment            6364 non-null   int64 \n",
      "dtypes: int64(3), object(1)\n",
      "memory usage: 199.0+ KB\n",
      "None\n"
     ]
    }
   ],
   "source": [
    "print(dataset.info())"
   ]
  },
  {
   "cell_type": "code",
   "execution_count": 8,
   "metadata": {
    "colab": {
     "base_uri": "https://localhost:8080/"
    },
    "id": "lOVo0yxM8bSN",
    "outputId": "425743a9-fe2a-42de-849e-c5e24cd00592"
   },
   "outputs": [
    {
     "name": "stdout",
     "output_type": "stream",
     "text": [
      "0     The Web DesignerÛªs Guide to iOS (and Android...\n",
      "1     RT @mention Line for iPad 2 is longer today th...\n",
      "2     Crazy that Apple is opening a temporary store ...\n",
      "3     The lesson from Google One Pass: In this digit...\n",
      "4     RT @mention At the panel: &quot;Your mom has a...\n",
      "                            ...                        \n",
      "95    #LonelyPlanet #Austin iPhone app is a (free!) ...\n",
      "96    Download of the Day: Lonely Planet Austin, Fre...\n",
      "97    @mention ÛÏ@mention Does the pop up Apple sto...\n",
      "98    Heading to free Google-sponsored happy hour fo...\n",
      "99    Like @mention Download 'Freak Jet' on your iPh...\n",
      "Name: Product_Description, Length: 100, dtype: object\n"
     ]
    }
   ],
   "source": [
    "print(dataset[\"Product_Description\"].iloc[0:100])"
   ]
  },
  {
   "cell_type": "code",
   "execution_count": 9,
   "metadata": {
    "colab": {
     "base_uri": "https://localhost:8080/"
    },
    "id": "n5Vlsk_S8-6-",
    "outputId": "f3d168bd-8d12-4db7-897b-e85ff1d8618e"
   },
   "outputs": [
    {
     "name": "stdout",
     "output_type": "stream",
     "text": [
      "[9 6 7 2 8 3 0 5 1 4]\n"
     ]
    }
   ],
   "source": [
    "print(dataset.Product_Type.unique())"
   ]
  },
  {
   "cell_type": "code",
   "execution_count": 10,
   "metadata": {
    "colab": {
     "base_uri": "https://localhost:8080/"
    },
    "id": "el8L3Kj09K5M",
    "outputId": "7aa35d67-df21-41fc-d013-8e4c52543996"
   },
   "outputs": [
    {
     "name": "stdout",
     "output_type": "stream",
     "text": [
      "[2 1 3 0]\n"
     ]
    }
   ],
   "source": [
    "print(dataset.Sentiment.unique())\n"
   ]
  },
  {
   "cell_type": "code",
   "execution_count": 13,
   "metadata": {
    "colab": {
     "base_uri": "https://localhost:8080/"
    },
    "id": "qUHafklz9Sml",
    "outputId": "387f2555-a743-42ab-8aa5-5768b4d85402"
   },
   "outputs": [
    {
     "name": "stdout",
     "output_type": "stream",
     "text": [
      "0     The Web DesignerÛªs Guide to iOS (and Android...\n",
      "1     RT @mention Line for iPad 2 is longer today th...\n",
      "2     Crazy that Apple is opening a temporary store ...\n",
      "3     The lesson from Google One Pass: In this digit...\n",
      "4     RT @mention At the panel: &quot;Your mom has a...\n",
      "                            ...                        \n",
      "95    #LonelyPlanet #Austin iPhone app is a (free!) ...\n",
      "96    Download of the Day: Lonely Planet Austin, Fre...\n",
      "97    @mention ÛÏ@mention Does the pop up Apple sto...\n",
      "98    Heading to free Google-sponsored happy hour fo...\n",
      "99    Like @mention Download 'Freak Jet' on your iPh...\n",
      "Name: Product_Description, Length: 100, dtype: object\n"
     ]
    }
   ],
   "source": [
    "#NLP PREPROCESSING\n",
    "sample_review = dataset[\"Product_Description\"].iloc[0:100]\n",
    "print(sample_review)"
   ]
  },
  {
   "cell_type": "code",
   "execution_count": 14,
   "metadata": {
    "colab": {
     "base_uri": "https://localhost:8080/"
    },
    "id": "6Q-rCSOU9kWD",
    "outputId": "06f6e362-5ec0-427f-d8c2-255d614f49d5"
   },
   "outputs": [
    {
     "name": "stdout",
     "output_type": "stream",
     "text": [
      "0     The Web DesignerÛªs Guide to iOS (and Android...\n",
      "1     RT @mention Line for iPad 2 is longer today th...\n",
      "2     Crazy that Apple is opening a temporary store ...\n",
      "3     The lesson from Google One Pass: In this digit...\n",
      "4     RT @mention At the panel: &quot;Your mom has a...\n",
      "                            ...                        \n",
      "95    #LonelyPlanet #Austin iPhone app is a (free!) ...\n",
      "96    Download of the Day: Lonely Planet Austin, Fre...\n",
      "97    @mention ÛÏ@mention Does the pop up Apple sto...\n",
      "98    Heading to free Google-sponsored happy hour fo...\n",
      "99    Like @mention Download 'Freak Jet' on your iPh...\n",
      "Name: Product_Description, Length: 100, dtype: object\n"
     ]
    }
   ],
   "source": [
    "import html\n",
    "\n",
    "decoded_review = html.unescape(sample_review)\n",
    "print(decoded_review)"
   ]
  },
  {
   "cell_type": "code",
   "execution_count": 18,
   "metadata": {
    "colab": {
     "base_uri": "https://localhost:8080/"
    },
    "id": "dCf4RR1N9p7L",
    "outputId": "b12c58b0-07f2-4580-f49e-be12e96753a5"
   },
   "outputs": [
    {
     "name": "stdout",
     "output_type": "stream",
     "text": [
      "0     The Web DesignerÛªs Guide to iOS (and Android...\n",
      "1     RT @mention Line for iPad 2 is longer today th...\n",
      "2     Crazy that Apple is opening a temporary store ...\n",
      "3     The lesson from Google One Pass: In this digit...\n",
      "4     RT @mention At the panel: &quot;Your mom has a...\n",
      "                            ...                        \n",
      "95    #LonelyPlanet #Austin iPhone app is a (free!) ...\n",
      "96    Download of the Day: Lonely Planet Austin, Fre...\n",
      "97    @mention ÛÏ@mention Does the pop up Apple sto...\n",
      "98    Heading to free Google-sponsored happy hour fo...\n",
      "99    Like @mention Download 'Freak Jet' on your iPh...\n",
      "Name: preprocessed, Length: 100, dtype: object\n"
     ]
    }
   ],
   "source": [
    "pattern = r\"\\&\\#[0-9]+\\;\"\n",
    "\n",
    "dataset[\"preprocessed\"] = dataset[\"Product_Description\"].str.replace(pat=pattern, repl=\"\", regex=True)\n",
    "\n",
    "print(dataset[\"preprocessed\"].iloc[0:100])"
   ]
  },
  {
   "cell_type": "code",
   "execution_count": 21,
   "metadata": {
    "colab": {
     "base_uri": "https://localhost:8080/"
    },
    "id": "xWGYrQiK9-cV",
    "outputId": "e06ef2ac-41bf-4207-eaed-90bb0610e632"
   },
   "outputs": [
    {
     "name": "stderr",
     "output_type": "stream",
     "text": [
      "[nltk_data] Downloading package omw-1.4 to /root/nltk_data...\n",
      "[nltk_data]   Package omw-1.4 is already up-to-date!\n",
      "[nltk_data] Downloading package wordnet to /root/nltk_data...\n",
      "[nltk_data]   Package wordnet is already up-to-date!\n",
      "[nltk_data] Downloading package stopwords to /root/nltk_data...\n",
      "[nltk_data]   Package stopwords is already up-to-date!\n",
      "[nltk_data] Downloading package averaged_perceptron_tagger to\n",
      "[nltk_data]     /root/nltk_data...\n",
      "[nltk_data]   Package averaged_perceptron_tagger is already up-to-\n",
      "[nltk_data]       date!\n",
      "[nltk_data] Downloading package maxent_treebank_pos_tagger to\n",
      "[nltk_data]     /root/nltk_data...\n",
      "[nltk_data]   Package maxent_treebank_pos_tagger is already up-to-\n",
      "[nltk_data]       date!\n"
     ]
    },
    {
     "name": "stdout",
     "output_type": "stream",
     "text": [
      "0     The Web DesignerÛªs Guide to iOS and Android ...\n",
      "1     RT @ mention Line for iPad 2 be long today tha...\n",
      "2     Crazy that Apple be open a temporary store in ...\n",
      "3     The lesson from Google One Pass : In this digi...\n",
      "4     RT @ mention At the panel : & quot ; Your mom ...\n",
      "                            ...                        \n",
      "95    # LonelyPlanet # Austin iPhone app be a free g...\n",
      "96    Download of the Day : Lonely Planet Austin Fre...\n",
      "97    @ mention ÛÏ @ mention Does the pop up Apple ...\n",
      "98    Heading to free Google-sponsored happy hour fo...\n",
      "99    Like @ mention Download Freak Jet on your iPho...\n",
      "Name: preprocessed, Length: 100, dtype: object\n",
      "CPU times: user 10.3 s, sys: 173 ms, total: 10.5 s\n",
      "Wall time: 11.3 s\n"
     ]
    }
   ],
   "source": [
    "%%time\n",
    "import re\n",
    "import nltk\n",
    "nltk.download('omw-1.4')\n",
    "\n",
    "from nltk import word_tokenize, pos_tag\n",
    "from nltk.stem import WordNetLemmatizer\n",
    "from nltk.tokenize import sent_tokenize\n",
    "from nltk.corpus import wordnet\n",
    "\n",
    "#import nltk resources\n",
    "resources = [\"wordnet\", \"stopwords\", \"punkt\", \\\n",
    "             \"averaged_perceptron_tagger\", \"maxent_treebank_pos_tagger\"]\n",
    "\n",
    "for resource in resources:\n",
    "    try:\n",
    "        nltk.data.find(\"tokenizers/\" + resource)\n",
    "    except LookupError:\n",
    "        nltk.download(resource)\n",
    "\n",
    "#create Lemmatizer object\n",
    "lemma = WordNetLemmatizer()\n",
    "\n",
    "def lemmatize_word(tagged_token):\n",
    "    \"\"\" Returns lemmatized word given its tag\"\"\"\n",
    "    root = []\n",
    "    for token in tagged_token:\n",
    "        tag = token[1][0]\n",
    "        word = token[0]\n",
    "        if tag.startswith('J'):\n",
    "            root.append(lemma.lemmatize(word, wordnet.ADJ))\n",
    "        elif tag.startswith('V'):\n",
    "            root.append(lemma.lemmatize(word, wordnet.VERB))\n",
    "        elif tag.startswith('N'):\n",
    "            root.append(lemma.lemmatize(word, wordnet.NOUN))\n",
    "        elif tag.startswith('R'):\n",
    "            root.append(lemma.lemmatize(word, wordnet.ADV))\n",
    "        else:          \n",
    "            root.append(word)\n",
    "    return root\n",
    "\n",
    "def lemmatize_doc(document):\n",
    "    \"\"\" Tags words then returns sentence with lemmatized words\"\"\"\n",
    "    lemmatized_list = []\n",
    "    tokenized_sent = sent_tokenize(document)\n",
    "    for sentence in tokenized_sent:\n",
    "        no_punctuation = re.sub(r\"[`'\\\",.!?()]\", \" \", sentence)\n",
    "        tokenized_word = word_tokenize(no_punctuation)\n",
    "        tagged_token = pos_tag(tokenized_word)\n",
    "        lemmatized = lemmatize_word(tagged_token)\n",
    "        lemmatized_list.extend(lemmatized)\n",
    "    return \" \".join(lemmatized_list)\n",
    "\n",
    "#apply our functions\n",
    "dataset[\"preprocessed\"] = dataset[\"preprocessed\"].apply(lambda row: lemmatize_doc(row))\n",
    "\n",
    "print(dataset[\"preprocessed\"].iloc[0:100])"
   ]
  },
  {
   "cell_type": "code",
   "execution_count": 22,
   "metadata": {
    "colab": {
     "base_uri": "https://localhost:8080/"
    },
    "id": "VycW4_4g-H_f",
    "outputId": "bf7608ba-1a62-4b18-89dc-12af4d73eaae"
   },
   "outputs": [
    {
     "name": "stdout",
     "output_type": "stream",
     "text": [
      "0     The Web DesignerUas Guide to iOS and Android A...\n",
      "1     RT @ mention Line for iPad 2 be long today tha...\n",
      "2     Crazy that Apple be open a temporary store in ...\n",
      "3     The lesson from Google One Pass : In this digi...\n",
      "4     RT @ mention At the panel : & quot ; Your mom ...\n",
      "                            ...                        \n",
      "95    # LonelyPlanet # Austin iPhone app be a free g...\n",
      "96    Download of the Day : Lonely Planet Austin Fre...\n",
      "97    @ mention UI @ mention Does the pop up Apple s...\n",
      "98    Heading to free Google-sponsored happy hour fo...\n",
      "99    Like @ mention Download Freak Jet on your iPho...\n",
      "Name: preprocessed, Length: 100, dtype: object\n"
     ]
    }
   ],
   "source": [
    "from unicodedata import normalize\n",
    "\n",
    "remove_accent = lambda text: normalize(\"NFKD\", text).encode(\"ascii\", \"ignore\").decode(\"utf-8\", \"ignore\")\n",
    "\n",
    "dataset[\"preprocessed\"] = dataset[\"preprocessed\"].apply(remove_accent)\n",
    "\n",
    "print(dataset[\"preprocessed\"].iloc[0:100])\n"
   ]
  },
  {
   "cell_type": "code",
   "execution_count": 24,
   "metadata": {
    "colab": {
     "base_uri": "https://localhost:8080/"
    },
    "id": "L1AYgj6--5Er",
    "outputId": "356d60df-13c2-4496-d6cb-ebdc3815c31a"
   },
   "outputs": [
    {
     "name": "stdout",
     "output_type": "stream",
     "text": [
      "0     The Web DesignerUas Guide to iOS and Android A...\n",
      "1     RT   mention Line for iPad 2 be long today tha...\n",
      "2     Crazy that Apple be open a temporary store in ...\n",
      "3     The lesson from Google One Pass   In this digi...\n",
      "4     RT   mention At the panel     quot   Your mom ...\n",
      "                            ...                        \n",
      "95      LonelyPlanet   Austin iPhone app be a free g...\n",
      "96    Download of the Day   Lonely Planet Austin Fre...\n",
      "97      mention UI   mention Does the pop up Apple s...\n",
      "98    Heading to free Google sponsored happy hour fo...\n",
      "99    Like   mention Download Freak Jet on your iPho...\n",
      "Name: preprocessed, Length: 100, dtype: object\n"
     ]
    }
   ],
   "source": [
    "pattern = r\"[^\\w\\s]\"\n",
    "\n",
    "dataset[\"preprocessed\"] = dataset[\"preprocessed\"].str.replace(pat=pattern, repl=\" \", regex=True)\n",
    "\n",
    "print(dataset[\"preprocessed\"].iloc[0:100])"
   ]
  },
  {
   "cell_type": "code",
   "execution_count": 25,
   "metadata": {
    "colab": {
     "base_uri": "https://localhost:8080/"
    },
    "id": "jeOQicSC_Ff1",
    "outputId": "d3411634-c3de-4606-a06e-49cccedda190"
   },
   "outputs": [
    {
     "name": "stdout",
     "output_type": "stream",
     "text": [
      "0     the web designeruas guide to ios and android a...\n",
      "1     rt   mention line for ipad 2 be long today tha...\n",
      "2     crazy that apple be open a temporary store in ...\n",
      "3     the lesson from google one pass   in this digi...\n",
      "4     rt   mention at the panel     quot   your mom ...\n",
      "                            ...                        \n",
      "95      lonelyplanet   austin iphone app be a free g...\n",
      "96    download of the day   lonely planet austin fre...\n",
      "97      mention ui   mention does the pop up apple s...\n",
      "98    heading to free google sponsored happy hour fo...\n",
      "99    like   mention download freak jet on your ipho...\n",
      "Name: preprocessed, Length: 100, dtype: object\n"
     ]
    }
   ],
   "source": [
    "dataset[\"preprocessed\"] = dataset[\"preprocessed\"].str.lower()\n",
    "\n",
    "print(dataset[\"preprocessed\"].iloc[0:100])\n"
   ]
  },
  {
   "cell_type": "code",
   "execution_count": 26,
   "metadata": {
    "colab": {
     "base_uri": "https://localhost:8080/"
    },
    "id": "iKp3g-D0_NJd",
    "outputId": "cf973634-c4d4-4fdd-a4c3-0b54a4af9fd1"
   },
   "outputs": [
    {
     "name": "stdout",
     "output_type": "stream",
     "text": [
      "sample stop words: ['i', 'me', 'my', 'myself', 'we', 'our', 'ours', 'ourselves', 'you', 'youre', 'youve', 'youll', 'youd', 'your', 'yours'] \n",
      "\n",
      "0     web designeruas guide ios android apps today  ...\n",
      "1     rt   mention line ipad 2 long today yesterday ...\n",
      "2     crazy apple open temporary store austin tomorr...\n",
      "3     lesson google one pass   digital environment u...\n",
      "4     rt   mention panel     quot   mom ipad design ...\n",
      "                            ...                        \n",
      "95      lonelyplanet   austin iphone app free godsen...\n",
      "96    download day   lonely planet austin free limit...\n",
      "97      mention ui   mention pop apple store austin ...\n",
      "98    heading free google sponsored happy hour seman...\n",
      "99    like   mention download freak jet iphone hilar...\n",
      "Name: preprocessed, Length: 100, dtype: object\n"
     ]
    }
   ],
   "source": [
    "#REMOVING STOP WORDS\n",
    "from nltk.corpus import stopwords\n",
    "\n",
    "stop_words = stopwords.words(\"english\")\n",
    "\n",
    "stop_words = [word.replace(\"\\'\", \"\") for word in stop_words]\n",
    "\n",
    "print(f\"sample stop words: {stop_words[:15]} \\n\")\n",
    "\n",
    "remove_stop_words = lambda row: \" \".join([token for token in row.split(\" \") \\\n",
    "                                          if token not in stop_words])\n",
    "dataset[\"preprocessed\"] = dataset[\"preprocessed\"].apply(remove_stop_words)\n",
    "\n",
    "print(dataset[\"preprocessed\"].iloc[0:100])"
   ]
  },
  {
   "cell_type": "code",
   "execution_count": 27,
   "metadata": {
    "colab": {
     "base_uri": "https://localhost:8080/"
    },
    "id": "ujftEHCH_ZSe",
    "outputId": "33240a71-3703-43d5-bdf9-03016ca7bdc0"
   },
   "outputs": [
    {
     "name": "stdout",
     "output_type": "stream",
     "text": [
      "0     web designeruas guide ios android apps today m...\n",
      "1     rt mention line ipad 2 long today yesterday sx...\n",
      "2     crazy apple open temporary store austin tomorr...\n",
      "3     lesson google one pass digital environment use...\n",
      "4     rt mention panel quot mom ipad design boomer q...\n",
      "                            ...                        \n",
      "95     lonelyplanet austin iphone app free godsend g...\n",
      "96    download day lonely planet austin free limited...\n",
      "97     mention ui mention pop apple store austin sti...\n",
      "98    heading free google sponsored happy hour seman...\n",
      "99    like mention download freak jet iphone hilario...\n",
      "Name: preprocessed, Length: 100, dtype: object\n"
     ]
    }
   ],
   "source": [
    "#REMOVE EXTRA SPACES\n",
    "pattern = r\"[\\s]+\"\n",
    "\n",
    "dataset[\"preprocessed\"] = dataset[\"preprocessed\"].str.replace(pat=pattern, repl=\" \", regex=True)\n",
    "\n",
    "print(dataset[\"preprocessed\"].iloc[0:100])"
   ]
  },
  {
   "cell_type": "code",
   "execution_count": 28,
   "metadata": {
    "colab": {
     "base_uri": "https://localhost:8080/"
    },
    "id": "bqVMTAKb_iiu",
    "outputId": "d76c916e-cd2a-42df-ead3-8eac3dc7ad2e"
   },
   "outputs": [
    {
     "name": "stdout",
     "output_type": "stream",
     "text": [
      "[['web', 'designeruas', 'guide', 'ios', 'android', 'apps', 'today', 'mention', '10', 'link', 'sxsw'], ['rt', 'mention', 'line', 'ipad', '2', 'long', 'today', 'yesterday', 'sxsw', 'get', 'line', 'today', 'fun'], ['crazy', 'apple', 'open', 'temporary', 'store', 'austin', 'tomorrow', 'handle', 'rabid', 'sxsw', 'eye', 'pad', 'seeker'], ['lesson', 'google', 'one', 'pass', 'digital', 'environment', 'user', 'want', 'purchase', 'across', 'every', 'platform', 'one', 'tool', 'sxsw', 'elonsxsw'], ['rt', 'mention', 'panel', 'quot', 'mom', 'ipad', 'design', 'boomer', 'quot', 'sxsw'], ['rt', 'mention', 'think', 'eff', 'hubby', 'line', 'ipad', '2', 'someone', 'point', 'towards', 'line', 'wife', 'number', '2', 'sxswi', 'sxsw'], ['', 'quot', 'android', 'user', 'iphone', 'user', 'use', 'options', 'menu', 'contextual', 'menu', 'quot', 'mention', 'sxsw'], ['wow', 'rt', 'mention', 'interrupt', 'regularly', 'schedule', 'sxsw', 'geek', 'program', 'big', 'news', 'link', 'google', 'circle'], ['google', 'launch', 'new', 'social', 'network', 'called', 'circles', 'possibly', 'today', 'link', 'link', 'sxsw', ''], ['', 'mention', 'welcome', 'enjoy', 'sxsw', 'ride', 'anywhere', 'austin', '10', 'dwnld', 'groundlink', 'app', 'link', 'booth', '437'], ['rt', 'mention', 'apple', 'plan', 'keep', 'austin', 'wired', 'open', 'pop', 'apple', 'store', 'sxsw', 'link', ''], ['yeay', 'rt', 'mention', 'new', 'ubersocial', 'iphone', 'app', 'store', 'include', 'uberguide', 'sxsw', 'sponsor', 'masha', 'link', ''], ['know', 'sxsw', 'season', '10', 'app', 'update', 'whenever', 'open', 'iphone', 'app', 'store'], ['rt', 'mention', 'rt', 'mention', 'arriving', 'us', 'sxsw', 'look', 'microsim', 'data', 'iphone', 'recommendation', 'mention'], ['ui', 'mention', 'rumor', 'apple', 'open', 'temporary', 'store', 'downtown', 'austin', 'sxsw', 'ipad', '2', 'launch', 'link', ''], ['horrible', 'repressed', 'memory', 'apple', 'spin', 'beach', 'ball', 'come', 'back', 'progressbar', 'talk', 'sxsw'], ['', 'mention', 'saw', 'man', 'drop', 'iphone', 'gutter', 'last', 'year', 'sxsw'], ['rt', 'mention', 'social', 'important', 'google', 'screw', 'big', 'launch', 'circus', 'link', 'via', 'mention', 'sxsw'], ['rt', 'mention', 'second', 'day', 'business', 'apple', 'pop', 'store', 'appear', 'trend', 'sxsw', 'vb', 'mention', 'apple', 'store', 'sxsw', 'pic', 'link', ''], ['brace', 'audio', 'onslaught', 'sxsw', 'enjoy', 'free', 'music', 'sampler', 'itunes', 'link', 'featuredartists'], ['', 'sxsw', 'enchantment', 'mention', 'quot', 'sell', 'dream', 'steve', 'jobs', 'say', 'iphone', '188', 'parts', 'amp', 'make', 'ppl', 'suicidal', 'chinese'], ['thanks', 'heathcare', 'digital', 'mention', 'publish', 'news', 'new', 'medical', 'apps', 'showcased', 'sxsw', 'link', 'sxswh'], ['tomorrow', 'charles', 'chen', 'speak', 'android', 'chromeos', 'access', 'mention', 'google', 'booth', 'exhibit', 'hall', '3', 'mention', '1pm', 'sxsw'], ['ipad', '2', 'hand', 'awesome', 'dude', 'give', 'cutsies', '3', 'hour', 'line', 'austin', 'apple', 'sxsw', 'win'], ['adaptive', 'retail', 'apple', 'open', 'pop', 'shop', 'sxsw', 'skillfully', 'cupertino', 'link', ''], ['really', 'like', 'sxsw', 'iphone', 'app', 'thanks', 'make', 'event', 'app', 'appear', 'work', 'well'], ['rt', 'mention', 'tweet', 'register', 'exclusive', 'pas', 'event', 'party', 'ipad', '2', 'sxsw', 'quot', 'give', 'mu_', 'cont', 'link', ''], ['rt', 'mention', 'rt', 'mention', 'traveling', 'sxsw', 'ipad', '1', '3', '10', '2011'], ['win', 'free', 'ipad', '2', 'webdoc', 'com', 'sxsw', 'rt', 'awesome', 'tech', 'right'], ['ouch', 'win', 'google', 'v', 'bing', 'mention', 'respect', 'bing', 'guy', 'invite', 'fill', 'third', 'chair', 'sxsw'], ['rt', 'mention', 'best', 'thing', 'heard', 'wknd', 'sxsw', 'quot', 'give', 'ipad', '2', 'money', 'japan', 'relief', 'need', 'ipad', '2', 'quot', ''], ['austin', 'get', 'full', 'sxsw', 'underway', 'tell', 'iphone', 'intermittent', 'brick', 'crowd'], ['', 'sxsw', 'tweet', 'android', 'user', 'attendong', 'sxsw', 'please', 'report', 'scene', 'bannka', 'app', 'link', ''], ['rt', 'mention', 'barton', 'hollow', 'free', 'song', 'download', 'amp', 'feature', 'album', 'mention', 'mention', '2011', 'featured', 'mix', 'link', 'itunes', 'sxsw'], ['', 'sxsw', 'recommendation', 'engine', 'session', 'fantastic', 'thanks', 'google', 'pandora', 'youtube', 'stumbledupon'], ['couple', 'evo', 'vs', 'iphone', 'video', 'sxsw', 'link', ''], ['', 'sxsw', 'mention', 'party', 'mention', 'lustre', 'pearl', 'bar', 'team', 'android', 'sxsw', 'w', 'mention', 'mention', 'link', ''], ['rt', 'mention', 'need', 'late', 'night', 'snack', 'mention', 'discover', 'filling', 'option', 'sxswi', 'recap', 'day', '3', 'link', 'sxsw', 'yum'], ['apple', 'plan', 'keep', 'austin', 'wired', 'open', 'pop', 'apple', 'store', 'sxsw', 'link', ''], ['', 'mention', 'sxsw', 'ipad', 'talk', 'along', 'line', 'ipad', 'talk', '360idev', 'basically', 'different', 'content'], ['n33', 'love', 'town', 'link', 'code', 'valid', '12', '00', '3', '59', '59p', '03', '14', '11', 'infektd', 'sxsw', 'necro'], ['smoked', 'way', 'much', 'yesterday', 'hahaha', 'austin', 'wakenbake', 'painting', 'android', 'party', 'tonight', 'sxsw', 'androidsxsw', 'link', ''], ['n7', 'time', 'always', 'us', 'link', 'code', 'valid', '4', '00', '7', '59', '59p', '03', '11', '11', 'infektd', 'sxsw', 'necro'], ['like', 'see', 'mention', 'apply', 'technology', 'art', 'project', 'sxsw'], ['', 'mention', 'claim', 'android', 'phone', 'everywhere', 'last', 'year', 'sxsw', 'dude', 'ios', 'android', 'ratio', 'like', '15', '1', 'iphone', '4', 'everywhere'], ['hitlantis', 'ipad', 'cool', 'song', 'explorer', 'app', 'hitlantis', 'com', 'sxsw', 'musicviz'], ['rt', 'mention', 'woman', 'plane', 'next', 'nook', 'blackberry', 'curve', 'android', 'ipad', 'purse', 'sxsw'], ['true', 'rt', 'mention', 'tablet', 'phone', 'laptop', 'evidence', 'sxsw', 'might', 'well', 'call', 'country', 'united', 'states', 'apple', 'sxswsa'], ['', 'link', 'guy', 'kawasaki', 'talk', 'enchanted', 'sxsw', 'know', 'stuff', 'book', 'internet', 'apple', 'sxsw'], ['', 'sxsw', 'need', 'best', 'android', 'dev', 'html5', 'js', 'issue', 'need', 'solve', 'quickly', 'handsome', 'reward', 'love', 'grab'], ['rt', 'mention', 'saw', 'preview', 'new', 'mention', 'ipad', 'app', 'awesome', 'sxsw'], ['rt', 'mention', 'diller', 'would', 'product', 'ipad', 'one', 'form', 'factor', 'today', 'multichannel', 'multi', 'platform', 'world', 'sxsw', 'ketchsx'], ['friend', 'austin', 'mention', 'sxsw', 'buffalo', 'new', 'ipad'], ['rt', 'mention', 'rt', 'mention', 'mention', 'launch', 'major', 'new', 'social', 'network', 'called', 'circles', 'possibly', 'today', 'link', 'sxsw', 'smm', 'gt', 'gt', 'really', 'google'], ['rt', 'mention', 'apple', 'set', '5', '000', 'square', 'foot', 'temporary', 'store', 'sxsw', 'sell', 'new', 'ipads', 'test', 'potential', 'traffic', 'link', ''], ['many', 'good', 'place', 'rt', 'mention', 'race', 'around', 'sxsw', 'best', 'fuel', 'great', 'local', 'fare', 'link', ''], ['', 'mention', 'might', 'need', 'go', 'apple', 'today', 'think', 'quot', 'quot', 'quot', 'x', 'quot', 'quot', 'w', 'quot', 'key', 'wear', 'sxsw'], ['great', 'sxsw', 'ipad', 'app', 'mention', 'link', ''], ['able', 'afford', 'attend', 'sxsw', 'buy', 'ipad', 'today', 'consider', 'save', 'japan', 'earthquake', 'relief', 'sayin', 'fb'], ['enjoying', 'sxsw', 'california', 'hollywood', 'silicon', 'valley', 'meet', 'nyc', 'sunny', 'austin', 'pool', 'cowboy', 'boot', 'ipad', 'vibe', 'sxswi'], ['marissa', 'mayer', 'google', 'connect', 'digital', 'amp', 'physical', 'worlds', 'mobile', 'link', 'sxsw'], ['head', 'mention', 'pvhouse', 'first', '2', 'snacker', 'tweet', 'us', 'amp', 'find', 'one', 'popchicks', 'win', 'iphone', '4', 'case', 'sxsw'], ['rt', 'mention', 'apple', 'opening', 'pop', 'store', 'austin', 'sxsw', 'aapl', 'link', ''], ['want', 'buy', 'ipad2', 'temporary', 'apple', 'store', 'open', 'austin', 'sxsw', 'link', ''], ['', 'mention', 'mention', 'thanks', 'love', 'show', 'us', 'iphone', 'via', 'twitpic', 'share', 'love', 'zazzlesxsw', 'sxsw'], ['rt', 'mention', 'rt', 'mention', 'rt', 'mention', 'google', 'launch', 'major', 'new', 'social', 'network', 'called', 'circles', 'possibly', 'today', 'link', 'sxsw', 'cool'], ['pop', 'apple', 'store', 'seem', 'pop', 'ipad2s', 'sxsw'], ['25', 'indie', 'song', 'rock', 'various', 'artists', 'sxsw', 'featured', 'artists', 'link', 'itunes'], ['packed', 'many', 'apple', 'device', 'alarm', 'set', '5', '15am', 'see', 'ya', 'sxsw', 'psyched', 'meet', 'finally', 'many', 'guy'], ['pen', 'paper', 'iphone', 'amp', 'ipad', 'immediate', 'use', 'session', 'medium', 'analytics', 'need', 'hit', 'sxsw', 'wall'], ['discuss', 'pubsubhubbub', 'link', 'fsw', 'sxsw'], ['sound', 'fantastic', 'rt', 'mention', 'google', 'party', 'awesome', 'sxsw'], ['rt', 'mention', 'google', 'circles', 'take', 'facebook', 'link', 'circle', 'sxsw'], ['google', 'party', 'photo', 'booth', 'fun', 'sxsw', 'link', ''], ['wonder', 'many', 'ipad2', 'apple', 'sell', 'sxsw', 'link', ''], ['quantter', 'launch', 'iphone', 'app', 'soon', 'participate', 'launchrock', 'comp', 'sxsw', 'link', ''], ['download', 'free', 'mention', 'sampler', 'band', 'play', 'sxsw', 'link', ''], ['rt', 'mention', 'check', 'designing', 'ipad', 'interfaces', 'new', 'navigation', 'schemas', 'sxsw', 'link', 'sxsw', 'uxdes'], ['ui', 'mention', 'google', 'launch', 'major', 'new', 'social', 'network', 'called', 'circles', 'possibly', 'today', 'link', 'sxswu', 'hnwsxsw'], ['keep', 'new', 'japan', 'quake', 'iphone', 'sxsw', 'nhk', 'world', 'tv', 'live', 'link', ''], ['need', 'buy', 'ipad2', 'austin', 'sxsw', 'sure', 'need', 'q', 'austin', 'apple', 'store'], ['ipad', 'success', 'apple', 'popup', 'store', 'austin', 'apple', 'sxsw', 'link', ''], ['ask', 'quot', 'n', 'get', 'ipad', '2', 'quot', 'early', 'today', 'far', '3', 'people', 'get', '2', 'thoughts', 'sxsw', 'sxswi'], ['line', 'around', 'austin', 'apple', 'pop', 'store', 'unbelievable', 'sxsw', 'technology', 'junky'], ['building', 'android', 'ios', 'application', 'get', 'tool', 'sxsw', 'ballroom', '11', '00'], ['', 'mention', 'quot', 'south', 'quot', 'drive', 'baby', 'adventure', 'sxsw', 'ipad', 'fb', 'link', ''], ['guy', 'next', 'carefully', 'study', 'quot', 'best', 'party', 'sxsw', '11', 'quot', 'spreadsheet', 'make', 'ipad', 'ipad', '1', 'n00b'], ['rt', 'mention', 'special', 'apple', 'store', 'opening', '6th', 'congress', 'sxsw', 'amp', 'ipad', '2', 'launch', 'www', 'apple', 'com', 'retail', 'thedomain', 'apple', 'ipad2', 'sxsw', 'fb'], ['restored', 'apple', 'make', 'smart', 'phone', 'unleash', 'hell', 'sxsw'], ['uiline', 'move', 'fast', 'rt', 'mention', 'see', 'two', 'impressive', 'line', 'since', 'sxsw', 'one', 'apple', 'store', 'amp', 'mention', 'party'], ['mike', 'tyson', 'appears', 'sxsw', 'promote', 'iphone', 'ipad', 'game', 'link', 'seo', 'sem', 'game', 'miketyson', 'topnews'], ['def', 'could', 'use', 'ipad', 'sxsw', 'today', 'tweeting', 'via', 'iphone', 'sorta', 'pretty', 'much', 'sux'], ['first', 'tweet', 'plane', 'feedback', 'gogo', 'registration', 'via', 'fb', 'connect', 'twitter', 'paypal', 'google', 'integration', 'pay', 'sxsw'], ['', 'sxsw', 'come', 'privacybootcamp', 'startup', 'mention', 'mention', 'google', 'facebook', 'acc', '9abc', 'starting', 'sxswi'], ['rt', 'mention', 'ipad', 'tablet', 'etc', 'aid', 'great', 'adoption', 'mobile', 'device', 'screen', 'size', 'large', 'mobilefarm', 'sxsw'], ['', 'lonelyplanet', 'austin', 'iphone', 'app', 'free', 'godsend', 'gps', 'aware', 'map', 'city', 'without', 'need', '3g', 'wifi', 'sxsw'], ['download', 'day', 'lonely', 'planet', 'austin', 'free', 'limited', 'time', 'link', 'iphone'], ['', 'mention', 'ui', 'mention', 'pop', 'apple', 'store', 'austin', 'still', 'ipad2', 'stock', 'lazyweb', 'sxswu'], ['heading', 'free', 'google', 'sponsored', 'happy', 'hour', 'semantic', 'web', 'austin', 'mention', 'fogo', 'de', 'chiao', 'sxsw'], ['like', 'mention', 'download', 'freak', 'jet', 'iphone', 'hilarious', 'see', 'learn', 'new', 'stuff', 'sxsw']]\n"
     ]
    }
   ],
   "source": [
    "#TOKENIZATION\n",
    "corpora = dataset[\"preprocessed\"].values\n",
    "tokenized = [corpus.split(\" \") for corpus in corpora]\n",
    "\n",
    "print(tokenized[0:100])"
   ]
  },
  {
   "cell_type": "code",
   "execution_count": 29,
   "metadata": {
    "id": "h2oHbmF8_zJ3"
   },
   "outputs": [],
   "source": [
    "#PHRASE MODELING\n",
    "from gensim.models import Phrases\n",
    "from gensim.models.phrases import Phraser\n",
    "\n",
    "bi_gram = Phrases(tokenized, min_count=300, threshold=50)\n",
    "\n",
    "tri_gram = Phrases(bi_gram[tokenized], min_count=300, threshold=50)"
   ]
  },
  {
   "cell_type": "code",
   "execution_count": 30,
   "metadata": {
    "colab": {
     "base_uri": "https://localhost:8080/"
    },
    "id": "gg1PI91j_3Gi",
    "outputId": "cb87013b-33cd-41ca-e1de-bf58741ecf3a"
   },
   "outputs": [
    {
     "name": "stdout",
     "output_type": "stream",
     "text": [
      "['umm', 'pager', 'sxswk', 'mbp', 'lucky', 'whitelists', 'techcrunch', 'clif', 'callooh', 'confusion', 'sweater', 'hint', '30mio', 'syd', 'plucked', 'copyright', 'yum', 'connectivity', 'evolve', 'referential', 'yourmom', 'liquid', 'stepping', 'major', 'surui', 'convention', 'loved', 'oooh', 'planes', 'sandwiched', 'fact', 'speed', 'papyrus', 'incognito', 'right', 'chance', 'beevil', 'bff', 'brand', 'regretting', 'muffin', '99a', 'u', 'shang', 'galaxys4g', 'strum', 'proper', 'slice', 'niche', 'drinks']\n"
     ]
    }
   ],
   "source": [
    "uni_gram_tokens = set([token for text in tokenized for token in text])\n",
    "uni_gram_tokens = set(filter(lambda x: x != \"\", uni_gram_tokens))\n",
    "\n",
    "print(list(uni_gram_tokens)[:50])"
   ]
  },
  {
   "cell_type": "code",
   "execution_count": 31,
   "metadata": {
    "colab": {
     "base_uri": "https://localhost:8080/"
    },
    "id": "4W4LT853_7mS",
    "outputId": "67d92c45-0de0-4d41-a32a-5c13d9a4ae04"
   },
   "outputs": [
    {
     "name": "stdout",
     "output_type": "stream",
     "text": [
      "['', 'mention_sxsw', 'link_sxsw', 'mention_google', 'rt_mention', 'link_', '_mention', 'sxsw_link', 'mention_mention']\n"
     ]
    }
   ],
   "source": [
    "bigram_min = bi_gram.min_count\n",
    "\n",
    "bi_condition = lambda x: x[1] >= bigram_min\n",
    "\n",
    "bi_gram_tokens = dict(filter(bi_condition, bi_gram.vocab.items()))\n",
    "bi_gram_tokens = set([token.decode(\"utf-8\") \\\n",
    "                      for token in bi_gram_tokens])\n",
    "\n",
    "bi_grams_only = bi_gram_tokens.difference(uni_gram_tokens)\n",
    "print(list(bi_grams_only)[:50])"
   ]
  },
  {
   "cell_type": "code",
   "execution_count": 32,
   "metadata": {
    "colab": {
     "base_uri": "https://localhost:8080/"
    },
    "id": "4yOLsMgl_-0d",
    "outputId": "9c2b4d75-3f05-4736-fe74-14ae7494812b"
   },
   "outputs": [
    {
     "name": "stdout",
     "output_type": "stream",
     "text": [
      "[]\n"
     ]
    }
   ],
   "source": [
    "trigram_min = tri_gram.min_count\n",
    "\n",
    "tri_condition = lambda x: x[1] >= trigram_min\n",
    "\n",
    "tri_gram_tokens = dict(filter(tri_condition, tri_gram.vocab.items()))\n",
    "tri_gram_tokens = set([token.decode(\"utf-8\") \\\n",
    "                       for token in tri_gram_tokens])\n",
    "\n",
    "tri_grams_only = tri_gram_tokens.difference(bi_gram_tokens)\n",
    "print(list(tri_grams_only)[:50])"
   ]
  },
  {
   "cell_type": "code",
   "execution_count": 35,
   "metadata": {
    "id": "oS8svMtnABPM"
   },
   "outputs": [],
   "source": [
    "tokenized = [Phraser(tri_gram)[Phraser(bi_gram)[i]] for i in tokenized]"
   ]
  },
  {
   "cell_type": "code",
   "execution_count": 36,
   "metadata": {
    "colab": {
     "base_uri": "https://localhost:8080/"
    },
    "id": "9QSgfnyoADhd",
    "outputId": "967815c0-1412-4fdb-cabf-4e303e9c3a2a"
   },
   "outputs": [
    {
     "name": "stdout",
     "output_type": "stream",
     "text": [
      "[['web', 'designeruas', 'guide', 'ios', 'android', 'apps', 'today', 'mention', '10', 'link', 'sxsw'], ['rt', 'mention', 'line', 'ipad', 'long', 'today', 'yesterday', 'sxsw', 'get', 'line', 'today', 'fun'], ['crazy', 'apple', 'open', 'temporary', 'store', 'austin', 'tomorrow', 'handle', 'rabid', 'sxsw', 'eye', 'pad', 'seeker'], ['lesson', 'google', 'one', 'pass', 'digital', 'environment', 'user', 'want', 'purchase', 'across', 'every', 'platform', 'one', 'tool', 'sxsw', 'elonsxsw'], ['rt', 'mention', 'panel', 'quot', 'mom', 'ipad', 'design', 'boomer', 'quot', 'sxsw'], ['rt', 'mention', 'think', 'eff', 'hubby', 'line', 'ipad', 'someone', 'point', 'towards', 'line', 'wife', 'number', 'sxswi', 'sxsw'], ['quot', 'android', 'user', 'iphone', 'user', 'use', 'options', 'menu', 'contextual', 'menu', 'quot', 'mention', 'sxsw'], ['wow', 'rt', 'mention', 'interrupt', 'regularly', 'schedule', 'sxsw', 'geek', 'program', 'big', 'news', 'link', 'google', 'circle'], ['google', 'launch', 'new', 'social', 'network', 'called', 'circles', 'possibly', 'today', 'link', 'link', 'sxsw'], ['mention', 'welcome', 'enjoy', 'sxsw', 'ride', 'anywhere', 'austin', '10', 'dwnld', 'groundlink', 'app', 'link', 'booth', '437'], ['rt', 'mention', 'apple', 'plan', 'keep', 'austin', 'wired', 'open', 'pop', 'apple', 'store', 'sxsw', 'link'], ['yeay', 'rt', 'mention', 'new', 'ubersocial', 'iphone', 'app', 'store', 'include', 'uberguide', 'sxsw', 'sponsor', 'masha', 'link'], ['know', 'sxsw', 'season', '10', 'app', 'update', 'whenever', 'open', 'iphone', 'app', 'store'], ['rt', 'mention', 'rt', 'mention', 'arriving', 'us', 'sxsw', 'look', 'microsim', 'data', 'iphone', 'recommendation', 'mention'], ['ui', 'mention', 'rumor', 'apple', 'open', 'temporary', 'store', 'downtown', 'austin', 'sxsw', 'ipad', 'launch', 'link'], ['horrible', 'repressed', 'memory', 'apple', 'spin', 'beach', 'ball', 'come', 'back', 'progressbar', 'talk', 'sxsw'], ['mention', 'saw', 'man', 'drop', 'iphone', 'gutter', 'last', 'year', 'sxsw'], ['rt', 'mention', 'social', 'important', 'google', 'screw', 'big', 'launch', 'circus', 'link', 'via', 'mention', 'sxsw'], ['rt', 'mention', 'second', 'day', 'business', 'apple', 'pop', 'store', 'appear', 'trend', 'sxsw', 'vb', 'mention', 'apple', 'store', 'sxsw', 'pic', 'link'], ['brace', 'audio', 'onslaught', 'sxsw', 'enjoy', 'free', 'music', 'sampler', 'itunes', 'link', 'featuredartists'], ['sxsw', 'enchantment', 'mention', 'quot', 'sell', 'dream', 'steve', 'jobs', 'say', 'iphone', '188', 'parts', 'amp', 'make', 'ppl', 'suicidal', 'chinese'], ['thanks', 'heathcare', 'digital', 'mention', 'publish', 'news', 'new', 'medical', 'apps', 'showcased', 'sxsw', 'link', 'sxswh'], ['tomorrow', 'charles', 'chen', 'speak', 'android', 'chromeos', 'access', 'mention', 'google', 'booth', 'exhibit', 'hall', 'mention', '1pm', 'sxsw'], ['ipad', 'hand', 'awesome', 'dude', 'give', 'cutsies', 'hour', 'line', 'austin', 'apple', 'sxsw', 'win'], ['adaptive', 'retail', 'apple', 'open', 'pop', 'shop', 'sxsw', 'skillfully', 'cupertino', 'link'], ['really', 'like', 'sxsw', 'iphone', 'app', 'thanks', 'make', 'event', 'app', 'appear', 'work', 'well'], ['rt', 'mention', 'tweet', 'register', 'exclusive', 'pas', 'event', 'party', 'ipad', 'sxsw', 'quot', 'give', 'mu_', 'cont', 'link'], ['rt', 'mention', 'rt', 'mention', 'traveling', 'sxsw', 'ipad', '10', '2011'], ['win', 'free', 'ipad', 'webdoc', 'com', 'sxsw', 'rt', 'awesome', 'tech', 'right'], ['ouch', 'win', 'google', 'bing', 'mention', 'respect', 'bing', 'guy', 'invite', 'fill', 'third', 'chair', 'sxsw'], ['rt', 'mention', 'best', 'thing', 'heard', 'wknd', 'sxsw', 'quot', 'give', 'ipad', 'money', 'japan', 'relief', 'need', 'ipad', 'quot'], ['austin', 'get', 'full', 'sxsw', 'underway', 'tell', 'iphone', 'intermittent', 'brick', 'crowd'], ['sxsw', 'tweet', 'android', 'user', 'attendong', 'sxsw', 'please', 'report', 'scene', 'bannka', 'app', 'link'], ['rt', 'mention', 'barton', 'hollow', 'free', 'song', 'download', 'amp', 'feature', 'album', 'mention', 'mention', '2011', 'featured', 'mix', 'link', 'itunes', 'sxsw'], ['sxsw', 'recommendation', 'engine', 'session', 'fantastic', 'thanks', 'google', 'pandora', 'youtube', 'stumbledupon'], ['couple', 'evo', 'vs', 'iphone', 'video', 'sxsw', 'link'], ['sxsw', 'mention', 'party', 'mention', 'lustre', 'pearl', 'bar', 'team', 'android', 'sxsw', 'mention', 'mention', 'link'], ['rt', 'mention', 'need', 'late', 'night', 'snack', 'mention', 'discover', 'filling', 'option', 'sxswi', 'recap', 'day', 'link', 'sxsw', 'yum'], ['apple', 'plan', 'keep', 'austin', 'wired', 'open', 'pop', 'apple', 'store', 'sxsw', 'link'], ['mention', 'sxsw', 'ipad', 'talk', 'along', 'line', 'ipad', 'talk', '360idev', 'basically', 'different', 'content'], ['n33', 'love', 'town', 'link', 'code', 'valid', '12', '00', '59', '59p', '03', '14', '11', 'infektd', 'sxsw', 'necro'], ['smoked', 'way', 'much', 'yesterday', 'hahaha', 'austin', 'wakenbake', 'painting', 'android', 'party', 'tonight', 'sxsw', 'androidsxsw', 'link'], ['n7', 'time', 'always', 'us', 'link', 'code', 'valid', '00', '59', '59p', '03', '11', '11', 'infektd', 'sxsw', 'necro'], ['like', 'see', 'mention', 'apply', 'technology', 'art', 'project', 'sxsw'], ['mention', 'claim', 'android', 'phone', 'everywhere', 'last', 'year', 'sxsw', 'dude', 'ios', 'android', 'ratio', 'like', '15', 'iphone', 'everywhere'], ['hitlantis', 'ipad', 'cool', 'song', 'explorer', 'app', 'hitlantis', 'com', 'sxsw', 'musicviz'], ['rt', 'mention', 'woman', 'plane', 'next', 'nook', 'blackberry', 'curve', 'android', 'ipad', 'purse', 'sxsw'], ['true', 'rt', 'mention', 'tablet', 'phone', 'laptop', 'evidence', 'sxsw', 'might', 'well', 'call', 'country', 'united', 'states', 'apple', 'sxswsa'], ['link', 'guy', 'kawasaki', 'talk', 'enchanted', 'sxsw', 'know', 'stuff', 'book', 'internet', 'apple', 'sxsw'], ['sxsw', 'need', 'best', 'android', 'dev', 'html5', 'js', 'issue', 'need', 'solve', 'quickly', 'handsome', 'reward', 'love', 'grab'], ['rt', 'mention', 'saw', 'preview', 'new', 'mention', 'ipad', 'app', 'awesome', 'sxsw'], ['rt', 'mention', 'diller', 'would', 'product', 'ipad', 'one', 'form', 'factor', 'today', 'multichannel', 'multi', 'platform', 'world', 'sxsw', 'ketchsx'], ['friend', 'austin', 'mention', 'sxsw', 'buffalo', 'new', 'ipad'], ['rt', 'mention', 'rt', 'mention', 'mention', 'launch', 'major', 'new', 'social', 'network', 'called', 'circles', 'possibly', 'today', 'link', 'sxsw', 'smm', 'gt', 'gt', 'really', 'google'], ['rt', 'mention', 'apple', 'set', '000', 'square', 'foot', 'temporary', 'store', 'sxsw', 'sell', 'new', 'ipads', 'test', 'potential', 'traffic', 'link'], ['many', 'good', 'place', 'rt', 'mention', 'race', 'around', 'sxsw', 'best', 'fuel', 'great', 'local', 'fare', 'link'], ['mention', 'might', 'need', 'go', 'apple', 'today', 'think', 'quot', 'quot', 'quot', 'quot', 'quot', 'quot', 'key', 'wear', 'sxsw'], ['great', 'sxsw', 'ipad', 'app', 'mention', 'link'], ['able', 'afford', 'attend', 'sxsw', 'buy', 'ipad', 'today', 'consider', 'save', 'japan', 'earthquake', 'relief', 'sayin', 'fb'], ['enjoying', 'sxsw', 'california', 'hollywood', 'silicon', 'valley', 'meet', 'nyc', 'sunny', 'austin', 'pool', 'cowboy', 'boot', 'ipad', 'vibe', 'sxswi'], ['marissa', 'mayer', 'google', 'connect', 'digital', 'amp', 'physical', 'worlds', 'mobile', 'link', 'sxsw'], ['head', 'mention', 'pvhouse', 'first', 'snacker', 'tweet', 'us', 'amp', 'find', 'one', 'popchicks', 'win', 'iphone', 'case', 'sxsw'], ['rt', 'mention', 'apple', 'opening', 'pop', 'store', 'austin', 'sxsw', 'aapl', 'link'], ['want', 'buy', 'ipad2', 'temporary', 'apple', 'store', 'open', 'austin', 'sxsw', 'link'], ['mention', 'mention', 'thanks', 'love', 'show', 'us', 'iphone', 'via', 'twitpic', 'share', 'love', 'zazzlesxsw', 'sxsw'], ['rt', 'mention', 'rt', 'mention', 'rt', 'mention', 'google', 'launch', 'major', 'new', 'social', 'network', 'called', 'circles', 'possibly', 'today', 'link', 'sxsw', 'cool'], ['pop', 'apple', 'store', 'seem', 'pop', 'ipad2s', 'sxsw'], ['25', 'indie', 'song', 'rock', 'various', 'artists', 'sxsw', 'featured', 'artists', 'link', 'itunes'], ['packed', 'many', 'apple', 'device', 'alarm', 'set', '15am', 'see', 'ya', 'sxsw', 'psyched', 'meet', 'finally', 'many', 'guy'], ['pen', 'paper', 'iphone', 'amp', 'ipad', 'immediate', 'use', 'session', 'medium', 'analytics', 'need', 'hit', 'sxsw', 'wall'], ['discuss', 'pubsubhubbub', 'link', 'fsw', 'sxsw'], ['sound', 'fantastic', 'rt', 'mention', 'google', 'party', 'awesome', 'sxsw'], ['rt', 'mention', 'google', 'circles', 'take', 'facebook', 'link', 'circle', 'sxsw'], ['google', 'party', 'photo', 'booth', 'fun', 'sxsw', 'link'], ['wonder', 'many', 'ipad2', 'apple', 'sell', 'sxsw', 'link'], ['quantter', 'launch', 'iphone', 'app', 'soon', 'participate', 'launchrock', 'comp', 'sxsw', 'link'], ['download', 'free', 'mention', 'sampler', 'band', 'play', 'sxsw', 'link'], ['rt', 'mention', 'check', 'designing', 'ipad', 'interfaces', 'new', 'navigation', 'schemas', 'sxsw', 'link', 'sxsw', 'uxdes'], ['ui', 'mention', 'google', 'launch', 'major', 'new', 'social', 'network', 'called', 'circles', 'possibly', 'today', 'link', 'sxswu', 'hnwsxsw'], ['keep', 'new', 'japan', 'quake', 'iphone', 'sxsw', 'nhk', 'world', 'tv', 'live', 'link'], ['need', 'buy', 'ipad2', 'austin', 'sxsw', 'sure', 'need', 'austin', 'apple', 'store'], ['ipad', 'success', 'apple', 'popup', 'store', 'austin', 'apple', 'sxsw', 'link'], ['ask', 'quot', 'get', 'ipad', 'quot', 'early', 'today', 'far', 'people', 'get', 'thoughts', 'sxsw', 'sxswi'], ['line', 'around', 'austin', 'apple', 'pop', 'store', 'unbelievable', 'sxsw', 'technology', 'junky'], ['building', 'android', 'ios', 'application', 'get', 'tool', 'sxsw', 'ballroom', '11', '00'], ['mention', 'quot', 'south', 'quot', 'drive', 'baby', 'adventure', 'sxsw', 'ipad', 'fb', 'link'], ['guy', 'next', 'carefully', 'study', 'quot', 'best', 'party', 'sxsw', '11', 'quot', 'spreadsheet', 'make', 'ipad', 'ipad', 'n00b'], ['rt', 'mention', 'special', 'apple', 'store', 'opening', '6th', 'congress', 'sxsw', 'amp', 'ipad', 'launch', 'www', 'apple', 'com', 'retail', 'thedomain', 'apple', 'ipad2', 'sxsw', 'fb'], ['restored', 'apple', 'make', 'smart', 'phone', 'unleash', 'hell', 'sxsw'], ['uiline', 'move', 'fast', 'rt', 'mention', 'see', 'two', 'impressive', 'line', 'since', 'sxsw', 'one', 'apple', 'store', 'amp', 'mention', 'party'], ['mike', 'tyson', 'appears', 'sxsw', 'promote', 'iphone', 'ipad', 'game', 'link', 'seo', 'sem', 'game', 'miketyson', 'topnews'], ['def', 'could', 'use', 'ipad', 'sxsw', 'today', 'tweeting', 'via', 'iphone', 'sorta', 'pretty', 'much', 'sux'], ['first', 'tweet', 'plane', 'feedback', 'gogo', 'registration', 'via', 'fb', 'connect', 'twitter', 'paypal', 'google', 'integration', 'pay', 'sxsw'], ['sxsw', 'come', 'privacybootcamp', 'startup', 'mention', 'mention', 'google', 'facebook', 'acc', '9abc', 'starting', 'sxswi'], ['rt', 'mention', 'ipad', 'tablet', 'etc', 'aid', 'great', 'adoption', 'mobile', 'device', 'screen', 'size', 'large', 'mobilefarm', 'sxsw'], ['lonelyplanet', 'austin', 'iphone', 'app', 'free', 'godsend', 'gps', 'aware', 'map', 'city', 'without', 'need', '3g', 'wifi', 'sxsw'], ['download', 'day', 'lonely', 'planet', 'austin', 'free', 'limited', 'time', 'link', 'iphone'], ['mention', 'ui', 'mention', 'pop', 'apple', 'store', 'austin', 'still', 'ipad2', 'stock', 'lazyweb', 'sxswu'], ['heading', 'free', 'google', 'sponsored', 'happy', 'hour', 'semantic', 'web', 'austin', 'mention', 'fogo', 'de', 'chiao', 'sxsw'], ['like', 'mention', 'download', 'freak', 'jet', 'iphone', 'hilarious', 'see', 'learn', 'new', 'stuff', 'sxsw']]\n"
     ]
    }
   ],
   "source": [
    "tokenized = [list(filter(lambda x: len(x) > 1, document)) \\\n",
    "             for document in tokenized]\n",
    "\n",
    "print(tokenized[0:100])"
   ]
  },
  {
   "cell_type": "code",
   "execution_count": null,
   "metadata": {
    "id": "y6vT6bulXcWo"
   },
   "outputs": [],
   "source": [
    "#Creating the Vocabulary\n"
   ]
  },
  {
   "cell_type": "code",
   "execution_count": 38,
   "metadata": {
    "colab": {
     "base_uri": "https://localhost:8080/"
    },
    "id": "EeLS3zvoScxJ",
    "outputId": "c1b1e2b0-1151-4a05-c2da-9b7297d9aeda"
   },
   "outputs": [
    {
     "name": "stdout",
     "output_type": "stream",
     "text": [
      "ID: 0, Token: 10\n",
      "ID: 1, Token: android\n",
      "ID: 2, Token: apps\n",
      "ID: 3, Token: designeruas\n",
      "ID: 4, Token: guide\n",
      "ID: 5, Token: ios\n",
      "ID: 6, Token: link\n",
      "ID: 7, Token: mention\n",
      "ID: 8, Token: sxsw\n",
      "ID: 9, Token: today\n",
      "ID: 10, Token: web\n",
      "ID: 11, Token: fun\n",
      "ID: 12, Token: get\n",
      "ID: 13, Token: ipad\n",
      "ID: 14, Token: line\n",
      "ID: 15, Token: long\n",
      "ID: 16, Token: rt\n",
      "ID: 17, Token: yesterday\n",
      "ID: 18, Token: apple\n",
      "ID: 19, Token: austin\n",
      "ID: 20, Token: crazy\n",
      "ID: 21, Token: eye\n",
      "ID: 22, Token: handle\n",
      "ID: 23, Token: open\n",
      "ID: 24, Token: pad\n",
      "ID: 25, Token: rabid\n",
      "ID: 26, Token: seeker\n",
      "ID: 27, Token: store\n",
      "ID: 28, Token: temporary\n",
      "ID: 29, Token: tomorrow\n",
      "ID: 30, Token: across\n",
      "ID: 31, Token: digital\n",
      "ID: 32, Token: elonsxsw\n",
      "ID: 33, Token: environment\n",
      "ID: 34, Token: every\n",
      "ID: 35, Token: google\n",
      "ID: 36, Token: lesson\n",
      "ID: 37, Token: one\n",
      "ID: 38, Token: pass\n",
      "ID: 39, Token: platform\n",
      "ID: 40, Token: purchase\n",
      "ID: 41, Token: tool\n",
      "ID: 42, Token: user\n",
      "ID: 43, Token: want\n",
      "ID: 44, Token: boomer\n",
      "ID: 45, Token: design\n",
      "ID: 46, Token: mom\n",
      "ID: 47, Token: panel\n",
      "ID: 48, Token: quot\n",
      "ID: 49, Token: eff\n",
      "ID: 50, Token: hubby\n",
      "ID: 51, Token: number\n",
      "ID: 52, Token: point\n",
      "ID: 53, Token: someone\n",
      "ID: 54, Token: sxswi\n",
      "ID: 55, Token: think\n",
      "ID: 56, Token: towards\n",
      "ID: 57, Token: wife\n",
      "ID: 58, Token: contextual\n",
      "ID: 59, Token: iphone\n",
      "ID: 60, Token: menu\n",
      "ID: 61, Token: options\n",
      "ID: 62, Token: use\n",
      "ID: 63, Token: big\n",
      "ID: 64, Token: circle\n",
      "ID: 65, Token: geek\n",
      "ID: 66, Token: interrupt\n",
      "ID: 67, Token: news\n",
      "ID: 68, Token: program\n",
      "ID: 69, Token: regularly\n",
      "ID: 70, Token: schedule\n",
      "ID: 71, Token: wow\n",
      "ID: 72, Token: called\n",
      "ID: 73, Token: circles\n",
      "ID: 74, Token: launch\n",
      "ID: 75, Token: network\n",
      "ID: 76, Token: new\n",
      "ID: 77, Token: possibly\n",
      "ID: 78, Token: social\n",
      "ID: 79, Token: 437\n",
      "ID: 80, Token: anywhere\n",
      "ID: 81, Token: app\n",
      "ID: 82, Token: booth\n",
      "ID: 83, Token: dwnld\n",
      "ID: 84, Token: enjoy\n",
      "ID: 85, Token: groundlink\n",
      "ID: 86, Token: ride\n",
      "ID: 87, Token: welcome\n",
      "ID: 88, Token: keep\n",
      "ID: 89, Token: plan\n",
      "ID: 90, Token: pop\n",
      "ID: 91, Token: wired\n",
      "ID: 92, Token: include\n",
      "ID: 93, Token: masha\n",
      "ID: 94, Token: sponsor\n",
      "ID: 95, Token: uberguide\n",
      "ID: 96, Token: ubersocial\n",
      "ID: 97, Token: yeay\n",
      "ID: 98, Token: know\n",
      "ID: 99, Token: season\n"
     ]
    }
   ],
   "source": [
    "from gensim.corpora.dictionary import Dictionary\n",
    "\n",
    "vocabulary = Dictionary(tokenized)\n",
    "\n",
    "vocabulary_keys = list(vocabulary.token2id)[0:100]\n",
    "\n",
    "for key in vocabulary_keys:\n",
    "    print(f\"ID: {vocabulary.token2id[key]}, Token: {key}\")"
   ]
  },
  {
   "cell_type": "code",
   "execution_count": null,
   "metadata": {
    "id": "0aA4qCsWXgDj"
   },
   "outputs": [],
   "source": [
    "#Count-based Feature Engineering\n",
    "#In order for a machine learning model to work with text input, the document must first be vectorized. This simply means that the input has to be converted into containers of numerical values.\n",
    "\n",
    "#Bag of Words Model\n",
    "#The classical approach in expressing text as a set of features is getting the token frequency. Each entry to the dataframe is a document while each column corresponds to every unique token in the entire corpora. The row will identify how many times a word appears in the document. The bow model for the sample review is below:"
   ]
  },
  {
   "cell_type": "code",
   "execution_count": 39,
   "metadata": {
    "colab": {
     "base_uri": "https://localhost:8080/"
    },
    "id": "hb9TWty_Xrkj",
    "outputId": "c63b47f2-d0fa-4bcb-eb5d-f1a1488254e5"
   },
   "outputs": [
    {
     "name": "stdout",
     "output_type": "stream",
     "text": [
      "Word: 10, Frequency: 1\n",
      "Word: android, Frequency: 1\n",
      "Word: apps, Frequency: 1\n",
      "Word: designeruas, Frequency: 1\n",
      "Word: guide, Frequency: 1\n",
      "Word: ios, Frequency: 1\n",
      "Word: link, Frequency: 1\n",
      "Word: mention, Frequency: 1\n",
      "Word: sxsw, Frequency: 1\n",
      "Word: today, Frequency: 1\n",
      "Word: web, Frequency: 1\n"
     ]
    }
   ],
   "source": [
    "bow = [vocabulary.doc2bow(doc) for doc in tokenized]\n",
    "\n",
    "for idx, freq in bow[0]:\n",
    "    print(f\"Word: {vocabulary.get(idx)}, Frequency: {freq}\")"
   ]
  },
  {
   "cell_type": "code",
   "execution_count": 40,
   "metadata": {
    "colab": {
     "base_uri": "https://localhost:8080/"
    },
    "id": "u2pOWbHoXzs8",
    "outputId": "95760776-f9df-41f5-8b72-8a2d2c077db1"
   },
   "outputs": [
    {
     "name": "stdout",
     "output_type": "stream",
     "text": [
      "Word: 10, Weight: 0.314\n",
      "Word: android, Weight: 0.189\n",
      "Word: apps, Weight: 0.259\n",
      "Word: designeruas, Weight: 0.606\n",
      "Word: guide, Weight: 0.364\n",
      "Word: ios, Weight: 0.389\n",
      "Word: link, Weight: 0.053\n",
      "Word: mention, Weight: 0.043\n",
      "Word: sxsw, Weight: 0.001\n",
      "Word: today, Weight: 0.189\n",
      "Word: web, Weight: 0.327\n"
     ]
    }
   ],
   "source": [
    "from gensim.models.tfidfmodel import TfidfModel\n",
    "\n",
    "tfidf = TfidfModel(bow)\n",
    "\n",
    "for idx, weight in tfidf[bow[100]]:\n",
    "    print(f\"Word: {vocabulary.get(idx)}, Weight: {weight:.3f}\")"
   ]
  },
  {
   "cell_type": "code",
   "execution_count": null,
   "metadata": {
    "id": "SsJYlX7WZHX7"
   },
   "outputs": [],
   "source": [
    "#Word Embedding for Feature Engineering"
   ]
  },
  {
   "cell_type": "code",
   "execution_count": 41,
   "metadata": {
    "colab": {
     "base_uri": "https://localhost:8080/"
    },
    "id": "PXHYXUdvZIkz",
    "outputId": "89c8ee7f-e078-4e24-ae32-2b732f9f1554"
   },
   "outputs": [
    {
     "name": "stdout",
     "output_type": "stream",
     "text": [
      "CPU times: user 11.5 s, sys: 138 ms, total: 11.6 s\n",
      "Wall time: 7.23 s\n"
     ]
    }
   ],
   "source": [
    "%%time\n",
    "import numpy as np\n",
    "\n",
    "from gensim.models import word2vec\n",
    "\n",
    "np.set_printoptions(suppress=True)\n",
    "\n",
    "feature_size = 100\n",
    "context_size = 20\n",
    "min_word = 1\n",
    "\n",
    "word_vec= word2vec.Word2Vec(tokenized, size=feature_size, \\\n",
    "                            window=context_size, min_count=min_word, \\\n",
    "                            iter=50, seed=42)"
   ]
  },
  {
   "cell_type": "code",
   "execution_count": null,
   "metadata": {
    "id": "YOPiwWZcZS_6"
   },
   "outputs": [],
   "source": [
    "#Final Dataframe\n",
    "#The goal is to have a dataframe with observations corresponding to the product reviews. The word_vec model is used to gather all the unique tokens in the corpora. This enables us to generate the word_vec_df which makes use of the dimensions as the features of every word."
   ]
  },
  {
   "cell_type": "code",
   "execution_count": 42,
   "metadata": {
    "colab": {
     "base_uri": "https://localhost:8080/",
     "height": 299
    },
    "id": "_JsWS1BaZWg7",
    "outputId": "48f3f34b-fd8d-4545-d03b-e927914d967a"
   },
   "outputs": [
    {
     "data": {
      "text/html": [
       "\n",
       "  <div id=\"df-f6a0e22c-c66d-4b65-b464-c7db80b2f8c6\">\n",
       "    <div class=\"colab-df-container\">\n",
       "      <div>\n",
       "<style scoped>\n",
       "    .dataframe tbody tr th:only-of-type {\n",
       "        vertical-align: middle;\n",
       "    }\n",
       "\n",
       "    .dataframe tbody tr th {\n",
       "        vertical-align: top;\n",
       "    }\n",
       "\n",
       "    .dataframe thead th {\n",
       "        text-align: right;\n",
       "    }\n",
       "</style>\n",
       "<table border=\"1\" class=\"dataframe\">\n",
       "  <thead>\n",
       "    <tr style=\"text-align: right;\">\n",
       "      <th></th>\n",
       "      <th>0</th>\n",
       "      <th>1</th>\n",
       "      <th>2</th>\n",
       "      <th>3</th>\n",
       "      <th>4</th>\n",
       "      <th>5</th>\n",
       "      <th>6</th>\n",
       "      <th>7</th>\n",
       "      <th>8</th>\n",
       "      <th>9</th>\n",
       "      <th>...</th>\n",
       "      <th>90</th>\n",
       "      <th>91</th>\n",
       "      <th>92</th>\n",
       "      <th>93</th>\n",
       "      <th>94</th>\n",
       "      <th>95</th>\n",
       "      <th>96</th>\n",
       "      <th>97</th>\n",
       "      <th>98</th>\n",
       "      <th>99</th>\n",
       "    </tr>\n",
       "  </thead>\n",
       "  <tbody>\n",
       "    <tr>\n",
       "      <th>web</th>\n",
       "      <td>-1.055149</td>\n",
       "      <td>-0.355790</td>\n",
       "      <td>1.742081</td>\n",
       "      <td>0.027768</td>\n",
       "      <td>-1.694518</td>\n",
       "      <td>0.597842</td>\n",
       "      <td>-1.484085</td>\n",
       "      <td>0.212143</td>\n",
       "      <td>-1.046982</td>\n",
       "      <td>0.920158</td>\n",
       "      <td>...</td>\n",
       "      <td>3.249830</td>\n",
       "      <td>-0.490162</td>\n",
       "      <td>2.352396</td>\n",
       "      <td>1.825306</td>\n",
       "      <td>-1.425602</td>\n",
       "      <td>0.906374</td>\n",
       "      <td>-0.791963</td>\n",
       "      <td>-0.925152</td>\n",
       "      <td>-0.970711</td>\n",
       "      <td>0.301422</td>\n",
       "    </tr>\n",
       "    <tr>\n",
       "      <th>designeruas</th>\n",
       "      <td>-0.024559</td>\n",
       "      <td>-0.039135</td>\n",
       "      <td>0.216524</td>\n",
       "      <td>-0.075540</td>\n",
       "      <td>-0.052239</td>\n",
       "      <td>-0.005516</td>\n",
       "      <td>0.078363</td>\n",
       "      <td>-0.067526</td>\n",
       "      <td>0.092436</td>\n",
       "      <td>0.048366</td>\n",
       "      <td>...</td>\n",
       "      <td>-0.066719</td>\n",
       "      <td>-0.086731</td>\n",
       "      <td>0.115023</td>\n",
       "      <td>0.002751</td>\n",
       "      <td>0.030199</td>\n",
       "      <td>0.110877</td>\n",
       "      <td>0.070630</td>\n",
       "      <td>-0.091746</td>\n",
       "      <td>-0.115419</td>\n",
       "      <td>0.055287</td>\n",
       "    </tr>\n",
       "    <tr>\n",
       "      <th>guide</th>\n",
       "      <td>-1.297366</td>\n",
       "      <td>0.102435</td>\n",
       "      <td>1.788707</td>\n",
       "      <td>0.367234</td>\n",
       "      <td>-1.542228</td>\n",
       "      <td>0.462398</td>\n",
       "      <td>-1.173173</td>\n",
       "      <td>0.396851</td>\n",
       "      <td>-0.233652</td>\n",
       "      <td>-0.502030</td>\n",
       "      <td>...</td>\n",
       "      <td>-0.080972</td>\n",
       "      <td>-1.688930</td>\n",
       "      <td>1.856589</td>\n",
       "      <td>-0.609985</td>\n",
       "      <td>-0.104788</td>\n",
       "      <td>1.070530</td>\n",
       "      <td>1.374680</td>\n",
       "      <td>0.416339</td>\n",
       "      <td>-3.614370</td>\n",
       "      <td>-0.140536</td>\n",
       "    </tr>\n",
       "    <tr>\n",
       "      <th>ios</th>\n",
       "      <td>-0.084319</td>\n",
       "      <td>-1.014423</td>\n",
       "      <td>-0.403412</td>\n",
       "      <td>-0.510446</td>\n",
       "      <td>-0.821732</td>\n",
       "      <td>0.521365</td>\n",
       "      <td>-0.099468</td>\n",
       "      <td>0.966853</td>\n",
       "      <td>0.161553</td>\n",
       "      <td>0.613318</td>\n",
       "      <td>...</td>\n",
       "      <td>-0.009909</td>\n",
       "      <td>0.677521</td>\n",
       "      <td>0.548113</td>\n",
       "      <td>0.349287</td>\n",
       "      <td>-0.019658</td>\n",
       "      <td>0.120178</td>\n",
       "      <td>-0.054449</td>\n",
       "      <td>0.019553</td>\n",
       "      <td>-0.434149</td>\n",
       "      <td>0.265307</td>\n",
       "    </tr>\n",
       "    <tr>\n",
       "      <th>android</th>\n",
       "      <td>-2.008487</td>\n",
       "      <td>-1.866407</td>\n",
       "      <td>1.924446</td>\n",
       "      <td>-0.515924</td>\n",
       "      <td>-3.083828</td>\n",
       "      <td>1.755001</td>\n",
       "      <td>0.050564</td>\n",
       "      <td>3.718158</td>\n",
       "      <td>2.899344</td>\n",
       "      <td>0.997601</td>\n",
       "      <td>...</td>\n",
       "      <td>1.330093</td>\n",
       "      <td>0.075414</td>\n",
       "      <td>-1.096574</td>\n",
       "      <td>3.205679</td>\n",
       "      <td>1.314293</td>\n",
       "      <td>-0.849765</td>\n",
       "      <td>-0.426362</td>\n",
       "      <td>1.623528</td>\n",
       "      <td>-3.436973</td>\n",
       "      <td>-2.499998</td>\n",
       "    </tr>\n",
       "  </tbody>\n",
       "</table>\n",
       "<p>5 rows × 100 columns</p>\n",
       "</div>\n",
       "      <button class=\"colab-df-convert\" onclick=\"convertToInteractive('df-f6a0e22c-c66d-4b65-b464-c7db80b2f8c6')\"\n",
       "              title=\"Convert this dataframe to an interactive table.\"\n",
       "              style=\"display:none;\">\n",
       "        \n",
       "  <svg xmlns=\"http://www.w3.org/2000/svg\" height=\"24px\"viewBox=\"0 0 24 24\"\n",
       "       width=\"24px\">\n",
       "    <path d=\"M0 0h24v24H0V0z\" fill=\"none\"/>\n",
       "    <path d=\"M18.56 5.44l.94 2.06.94-2.06 2.06-.94-2.06-.94-.94-2.06-.94 2.06-2.06.94zm-11 1L8.5 8.5l.94-2.06 2.06-.94-2.06-.94L8.5 2.5l-.94 2.06-2.06.94zm10 10l.94 2.06.94-2.06 2.06-.94-2.06-.94-.94-2.06-.94 2.06-2.06.94z\"/><path d=\"M17.41 7.96l-1.37-1.37c-.4-.4-.92-.59-1.43-.59-.52 0-1.04.2-1.43.59L10.3 9.45l-7.72 7.72c-.78.78-.78 2.05 0 2.83L4 21.41c.39.39.9.59 1.41.59.51 0 1.02-.2 1.41-.59l7.78-7.78 2.81-2.81c.8-.78.8-2.07 0-2.86zM5.41 20L4 18.59l7.72-7.72 1.47 1.35L5.41 20z\"/>\n",
       "  </svg>\n",
       "      </button>\n",
       "      \n",
       "  <style>\n",
       "    .colab-df-container {\n",
       "      display:flex;\n",
       "      flex-wrap:wrap;\n",
       "      gap: 12px;\n",
       "    }\n",
       "\n",
       "    .colab-df-convert {\n",
       "      background-color: #E8F0FE;\n",
       "      border: none;\n",
       "      border-radius: 50%;\n",
       "      cursor: pointer;\n",
       "      display: none;\n",
       "      fill: #1967D2;\n",
       "      height: 32px;\n",
       "      padding: 0 0 0 0;\n",
       "      width: 32px;\n",
       "    }\n",
       "\n",
       "    .colab-df-convert:hover {\n",
       "      background-color: #E2EBFA;\n",
       "      box-shadow: 0px 1px 2px rgba(60, 64, 67, 0.3), 0px 1px 3px 1px rgba(60, 64, 67, 0.15);\n",
       "      fill: #174EA6;\n",
       "    }\n",
       "\n",
       "    [theme=dark] .colab-df-convert {\n",
       "      background-color: #3B4455;\n",
       "      fill: #D2E3FC;\n",
       "    }\n",
       "\n",
       "    [theme=dark] .colab-df-convert:hover {\n",
       "      background-color: #434B5C;\n",
       "      box-shadow: 0px 1px 3px 1px rgba(0, 0, 0, 0.15);\n",
       "      filter: drop-shadow(0px 1px 2px rgba(0, 0, 0, 0.3));\n",
       "      fill: #FFFFFF;\n",
       "    }\n",
       "  </style>\n",
       "\n",
       "      <script>\n",
       "        const buttonEl =\n",
       "          document.querySelector('#df-f6a0e22c-c66d-4b65-b464-c7db80b2f8c6 button.colab-df-convert');\n",
       "        buttonEl.style.display =\n",
       "          google.colab.kernel.accessAllowed ? 'block' : 'none';\n",
       "\n",
       "        async function convertToInteractive(key) {\n",
       "          const element = document.querySelector('#df-f6a0e22c-c66d-4b65-b464-c7db80b2f8c6');\n",
       "          const dataTable =\n",
       "            await google.colab.kernel.invokeFunction('convertToInteractive',\n",
       "                                                     [key], {});\n",
       "          if (!dataTable) return;\n",
       "\n",
       "          const docLinkHtml = 'Like what you see? Visit the ' +\n",
       "            '<a target=\"_blank\" href=https://colab.research.google.com/notebooks/data_table.ipynb>data table notebook</a>'\n",
       "            + ' to learn more about interactive tables.';\n",
       "          element.innerHTML = '';\n",
       "          dataTable['output_type'] = 'display_data';\n",
       "          await google.colab.output.renderOutput(dataTable, element);\n",
       "          const docLink = document.createElement('div');\n",
       "          docLink.innerHTML = docLinkHtml;\n",
       "          element.appendChild(docLink);\n",
       "        }\n",
       "      </script>\n",
       "    </div>\n",
       "  </div>\n",
       "  "
      ],
      "text/plain": [
       "                   0         1         2         3         4         5   \\\n",
       "web         -1.055149 -0.355790  1.742081  0.027768 -1.694518  0.597842   \n",
       "designeruas -0.024559 -0.039135  0.216524 -0.075540 -0.052239 -0.005516   \n",
       "guide       -1.297366  0.102435  1.788707  0.367234 -1.542228  0.462398   \n",
       "ios         -0.084319 -1.014423 -0.403412 -0.510446 -0.821732  0.521365   \n",
       "android     -2.008487 -1.866407  1.924446 -0.515924 -3.083828  1.755001   \n",
       "\n",
       "                   6         7         8         9   ...        90        91  \\\n",
       "web         -1.484085  0.212143 -1.046982  0.920158  ...  3.249830 -0.490162   \n",
       "designeruas  0.078363 -0.067526  0.092436  0.048366  ... -0.066719 -0.086731   \n",
       "guide       -1.173173  0.396851 -0.233652 -0.502030  ... -0.080972 -1.688930   \n",
       "ios         -0.099468  0.966853  0.161553  0.613318  ... -0.009909  0.677521   \n",
       "android      0.050564  3.718158  2.899344  0.997601  ...  1.330093  0.075414   \n",
       "\n",
       "                   92        93        94        95        96        97  \\\n",
       "web          2.352396  1.825306 -1.425602  0.906374 -0.791963 -0.925152   \n",
       "designeruas  0.115023  0.002751  0.030199  0.110877  0.070630 -0.091746   \n",
       "guide        1.856589 -0.609985 -0.104788  1.070530  1.374680  0.416339   \n",
       "ios          0.548113  0.349287 -0.019658  0.120178 -0.054449  0.019553   \n",
       "android     -1.096574  3.205679  1.314293 -0.849765 -0.426362  1.623528   \n",
       "\n",
       "                   98        99  \n",
       "web         -0.970711  0.301422  \n",
       "designeruas -0.115419  0.055287  \n",
       "guide       -3.614370 -0.140536  \n",
       "ios         -0.434149  0.265307  \n",
       "android     -3.436973 -2.499998  \n",
       "\n",
       "[5 rows x 100 columns]"
      ]
     },
     "metadata": {},
     "output_type": "display_data"
    }
   ],
   "source": [
    "word_vec_unpack = [(word, idx.index) for word, idx in \\\n",
    "                   word_vec.wv.vocab.items()]\n",
    "\n",
    "tokens, indexes = zip(*word_vec_unpack)\n",
    "\n",
    "word_vec_df = pd.DataFrame(word_vec.wv.syn0[indexes, :], index=tokens)\n",
    "\n",
    "display(word_vec_df.head())"
   ]
  },
  {
   "cell_type": "code",
   "execution_count": 43,
   "metadata": {
    "colab": {
     "base_uri": "https://localhost:8080/"
    },
    "id": "EG1rBTnlZbBY",
    "outputId": "e75bb634-430c-4297-aff1-410903831180"
   },
   "outputs": [
    {
     "name": "stdout",
     "output_type": "stream",
     "text": [
      "CPU times: user 6.86 s, sys: 84.3 ms, total: 6.94 s\n",
      "Wall time: 6.87 s\n"
     ]
    }
   ],
   "source": [
    "%%time\n",
    "tokenized_array = np.array(tokenized)\n",
    "\n",
    "model_array = np.array([word_vec_df.loc[doc].mean(axis=0) for doc in tokenized_array])"
   ]
  },
  {
   "cell_type": "code",
   "execution_count": 44,
   "metadata": {
    "colab": {
     "base_uri": "https://localhost:8080/",
     "height": 299
    },
    "id": "SPlfusR0ZmBk",
    "outputId": "b9006a6c-dbf8-4623-8cd5-aa63b2cb88ab"
   },
   "outputs": [
    {
     "data": {
      "text/html": [
       "\n",
       "  <div id=\"df-f2b348ad-03c1-491e-9be4-3581cf7b567a\">\n",
       "    <div class=\"colab-df-container\">\n",
       "      <div>\n",
       "<style scoped>\n",
       "    .dataframe tbody tr th:only-of-type {\n",
       "        vertical-align: middle;\n",
       "    }\n",
       "\n",
       "    .dataframe tbody tr th {\n",
       "        vertical-align: top;\n",
       "    }\n",
       "\n",
       "    .dataframe thead th {\n",
       "        text-align: right;\n",
       "    }\n",
       "</style>\n",
       "<table border=\"1\" class=\"dataframe\">\n",
       "  <thead>\n",
       "    <tr style=\"text-align: right;\">\n",
       "      <th></th>\n",
       "      <th>0</th>\n",
       "      <th>1</th>\n",
       "      <th>2</th>\n",
       "      <th>3</th>\n",
       "      <th>4</th>\n",
       "      <th>5</th>\n",
       "      <th>6</th>\n",
       "      <th>7</th>\n",
       "      <th>8</th>\n",
       "      <th>9</th>\n",
       "      <th>...</th>\n",
       "      <th>91</th>\n",
       "      <th>92</th>\n",
       "      <th>93</th>\n",
       "      <th>94</th>\n",
       "      <th>95</th>\n",
       "      <th>96</th>\n",
       "      <th>97</th>\n",
       "      <th>98</th>\n",
       "      <th>99</th>\n",
       "      <th>label</th>\n",
       "    </tr>\n",
       "  </thead>\n",
       "  <tbody>\n",
       "    <tr>\n",
       "      <th>0</th>\n",
       "      <td>-0.530882</td>\n",
       "      <td>0.152591</td>\n",
       "      <td>1.388786</td>\n",
       "      <td>-0.178562</td>\n",
       "      <td>-0.779329</td>\n",
       "      <td>0.828424</td>\n",
       "      <td>-0.030091</td>\n",
       "      <td>0.403315</td>\n",
       "      <td>0.276747</td>\n",
       "      <td>-0.084954</td>\n",
       "      <td>...</td>\n",
       "      <td>-0.968632</td>\n",
       "      <td>0.597524</td>\n",
       "      <td>0.305875</td>\n",
       "      <td>-0.233179</td>\n",
       "      <td>0.215175</td>\n",
       "      <td>0.645885</td>\n",
       "      <td>-0.318965</td>\n",
       "      <td>-1.406000</td>\n",
       "      <td>0.294067</td>\n",
       "      <td>9</td>\n",
       "    </tr>\n",
       "    <tr>\n",
       "      <th>1</th>\n",
       "      <td>-0.028607</td>\n",
       "      <td>1.692998</td>\n",
       "      <td>0.675410</td>\n",
       "      <td>0.183485</td>\n",
       "      <td>0.233441</td>\n",
       "      <td>0.535107</td>\n",
       "      <td>0.623195</td>\n",
       "      <td>0.292324</td>\n",
       "      <td>-0.245174</td>\n",
       "      <td>-0.883453</td>\n",
       "      <td>...</td>\n",
       "      <td>-0.629793</td>\n",
       "      <td>-0.811862</td>\n",
       "      <td>-0.115957</td>\n",
       "      <td>-0.699400</td>\n",
       "      <td>-0.021534</td>\n",
       "      <td>0.408482</td>\n",
       "      <td>-0.228906</td>\n",
       "      <td>-0.578139</td>\n",
       "      <td>0.144392</td>\n",
       "      <td>9</td>\n",
       "    </tr>\n",
       "    <tr>\n",
       "      <th>2</th>\n",
       "      <td>0.418808</td>\n",
       "      <td>0.881292</td>\n",
       "      <td>0.027538</td>\n",
       "      <td>0.170112</td>\n",
       "      <td>0.666907</td>\n",
       "      <td>0.397094</td>\n",
       "      <td>0.997401</td>\n",
       "      <td>0.070555</td>\n",
       "      <td>-0.169673</td>\n",
       "      <td>-0.744339</td>\n",
       "      <td>...</td>\n",
       "      <td>-0.455673</td>\n",
       "      <td>-0.611784</td>\n",
       "      <td>-1.072800</td>\n",
       "      <td>-0.730516</td>\n",
       "      <td>0.446756</td>\n",
       "      <td>1.106526</td>\n",
       "      <td>-0.075372</td>\n",
       "      <td>-1.134128</td>\n",
       "      <td>0.236108</td>\n",
       "      <td>9</td>\n",
       "    </tr>\n",
       "    <tr>\n",
       "      <th>3</th>\n",
       "      <td>0.255359</td>\n",
       "      <td>0.452517</td>\n",
       "      <td>0.354283</td>\n",
       "      <td>0.056107</td>\n",
       "      <td>-0.430867</td>\n",
       "      <td>0.786192</td>\n",
       "      <td>0.049900</td>\n",
       "      <td>-0.005307</td>\n",
       "      <td>-0.167137</td>\n",
       "      <td>-0.262968</td>\n",
       "      <td>...</td>\n",
       "      <td>-0.314858</td>\n",
       "      <td>-0.028168</td>\n",
       "      <td>-0.235628</td>\n",
       "      <td>-0.363859</td>\n",
       "      <td>-0.314200</td>\n",
       "      <td>-0.131833</td>\n",
       "      <td>-0.335417</td>\n",
       "      <td>-0.530385</td>\n",
       "      <td>0.433126</td>\n",
       "      <td>9</td>\n",
       "    </tr>\n",
       "    <tr>\n",
       "      <th>4</th>\n",
       "      <td>0.203507</td>\n",
       "      <td>0.511112</td>\n",
       "      <td>1.385156</td>\n",
       "      <td>-0.184047</td>\n",
       "      <td>0.005716</td>\n",
       "      <td>0.747427</td>\n",
       "      <td>-0.392413</td>\n",
       "      <td>-0.139157</td>\n",
       "      <td>-0.978597</td>\n",
       "      <td>-1.055195</td>\n",
       "      <td>...</td>\n",
       "      <td>-0.885778</td>\n",
       "      <td>0.192066</td>\n",
       "      <td>0.761579</td>\n",
       "      <td>-1.800947</td>\n",
       "      <td>-0.753351</td>\n",
       "      <td>0.375518</td>\n",
       "      <td>-1.075449</td>\n",
       "      <td>-1.103943</td>\n",
       "      <td>1.051060</td>\n",
       "      <td>9</td>\n",
       "    </tr>\n",
       "  </tbody>\n",
       "</table>\n",
       "<p>5 rows × 101 columns</p>\n",
       "</div>\n",
       "      <button class=\"colab-df-convert\" onclick=\"convertToInteractive('df-f2b348ad-03c1-491e-9be4-3581cf7b567a')\"\n",
       "              title=\"Convert this dataframe to an interactive table.\"\n",
       "              style=\"display:none;\">\n",
       "        \n",
       "  <svg xmlns=\"http://www.w3.org/2000/svg\" height=\"24px\"viewBox=\"0 0 24 24\"\n",
       "       width=\"24px\">\n",
       "    <path d=\"M0 0h24v24H0V0z\" fill=\"none\"/>\n",
       "    <path d=\"M18.56 5.44l.94 2.06.94-2.06 2.06-.94-2.06-.94-.94-2.06-.94 2.06-2.06.94zm-11 1L8.5 8.5l.94-2.06 2.06-.94-2.06-.94L8.5 2.5l-.94 2.06-2.06.94zm10 10l.94 2.06.94-2.06 2.06-.94-2.06-.94-.94-2.06-.94 2.06-2.06.94z\"/><path d=\"M17.41 7.96l-1.37-1.37c-.4-.4-.92-.59-1.43-.59-.52 0-1.04.2-1.43.59L10.3 9.45l-7.72 7.72c-.78.78-.78 2.05 0 2.83L4 21.41c.39.39.9.59 1.41.59.51 0 1.02-.2 1.41-.59l7.78-7.78 2.81-2.81c.8-.78.8-2.07 0-2.86zM5.41 20L4 18.59l7.72-7.72 1.47 1.35L5.41 20z\"/>\n",
       "  </svg>\n",
       "      </button>\n",
       "      \n",
       "  <style>\n",
       "    .colab-df-container {\n",
       "      display:flex;\n",
       "      flex-wrap:wrap;\n",
       "      gap: 12px;\n",
       "    }\n",
       "\n",
       "    .colab-df-convert {\n",
       "      background-color: #E8F0FE;\n",
       "      border: none;\n",
       "      border-radius: 50%;\n",
       "      cursor: pointer;\n",
       "      display: none;\n",
       "      fill: #1967D2;\n",
       "      height: 32px;\n",
       "      padding: 0 0 0 0;\n",
       "      width: 32px;\n",
       "    }\n",
       "\n",
       "    .colab-df-convert:hover {\n",
       "      background-color: #E2EBFA;\n",
       "      box-shadow: 0px 1px 2px rgba(60, 64, 67, 0.3), 0px 1px 3px 1px rgba(60, 64, 67, 0.15);\n",
       "      fill: #174EA6;\n",
       "    }\n",
       "\n",
       "    [theme=dark] .colab-df-convert {\n",
       "      background-color: #3B4455;\n",
       "      fill: #D2E3FC;\n",
       "    }\n",
       "\n",
       "    [theme=dark] .colab-df-convert:hover {\n",
       "      background-color: #434B5C;\n",
       "      box-shadow: 0px 1px 3px 1px rgba(0, 0, 0, 0.15);\n",
       "      filter: drop-shadow(0px 1px 2px rgba(0, 0, 0, 0.3));\n",
       "      fill: #FFFFFF;\n",
       "    }\n",
       "  </style>\n",
       "\n",
       "      <script>\n",
       "        const buttonEl =\n",
       "          document.querySelector('#df-f2b348ad-03c1-491e-9be4-3581cf7b567a button.colab-df-convert');\n",
       "        buttonEl.style.display =\n",
       "          google.colab.kernel.accessAllowed ? 'block' : 'none';\n",
       "\n",
       "        async function convertToInteractive(key) {\n",
       "          const element = document.querySelector('#df-f2b348ad-03c1-491e-9be4-3581cf7b567a');\n",
       "          const dataTable =\n",
       "            await google.colab.kernel.invokeFunction('convertToInteractive',\n",
       "                                                     [key], {});\n",
       "          if (!dataTable) return;\n",
       "\n",
       "          const docLinkHtml = 'Like what you see? Visit the ' +\n",
       "            '<a target=\"_blank\" href=https://colab.research.google.com/notebooks/data_table.ipynb>data table notebook</a>'\n",
       "            + ' to learn more about interactive tables.';\n",
       "          element.innerHTML = '';\n",
       "          dataTable['output_type'] = 'display_data';\n",
       "          await google.colab.output.renderOutput(dataTable, element);\n",
       "          const docLink = document.createElement('div');\n",
       "          docLink.innerHTML = docLinkHtml;\n",
       "          element.appendChild(docLink);\n",
       "        }\n",
       "      </script>\n",
       "    </div>\n",
       "  </div>\n",
       "  "
      ],
      "text/plain": [
       "          0         1         2         3         4         5         6  \\\n",
       "0 -0.530882  0.152591  1.388786 -0.178562 -0.779329  0.828424 -0.030091   \n",
       "1 -0.028607  1.692998  0.675410  0.183485  0.233441  0.535107  0.623195   \n",
       "2  0.418808  0.881292  0.027538  0.170112  0.666907  0.397094  0.997401   \n",
       "3  0.255359  0.452517  0.354283  0.056107 -0.430867  0.786192  0.049900   \n",
       "4  0.203507  0.511112  1.385156 -0.184047  0.005716  0.747427 -0.392413   \n",
       "\n",
       "          7         8         9  ...        91        92        93        94  \\\n",
       "0  0.403315  0.276747 -0.084954  ... -0.968632  0.597524  0.305875 -0.233179   \n",
       "1  0.292324 -0.245174 -0.883453  ... -0.629793 -0.811862 -0.115957 -0.699400   \n",
       "2  0.070555 -0.169673 -0.744339  ... -0.455673 -0.611784 -1.072800 -0.730516   \n",
       "3 -0.005307 -0.167137 -0.262968  ... -0.314858 -0.028168 -0.235628 -0.363859   \n",
       "4 -0.139157 -0.978597 -1.055195  ... -0.885778  0.192066  0.761579 -1.800947   \n",
       "\n",
       "         95        96        97        98        99  label  \n",
       "0  0.215175  0.645885 -0.318965 -1.406000  0.294067      9  \n",
       "1 -0.021534  0.408482 -0.228906 -0.578139  0.144392      9  \n",
       "2  0.446756  1.106526 -0.075372 -1.134128  0.236108      9  \n",
       "3 -0.314200 -0.131833 -0.335417 -0.530385  0.433126      9  \n",
       "4 -0.753351  0.375518 -1.075449 -1.103943  1.051060      9  \n",
       "\n",
       "[5 rows x 101 columns]"
      ]
     },
     "metadata": {},
     "output_type": "display_data"
    }
   ],
   "source": [
    "model_df = pd.DataFrame(model_array)\n",
    "model_df[\"label\"] = dataset[\"Product_Type\"]\n",
    "\n",
    "display(model_df.head())"
   ]
  },
  {
   "cell_type": "code",
   "execution_count": 45,
   "metadata": {
    "colab": {
     "base_uri": "https://localhost:8080/",
     "height": 299
    },
    "id": "jPDXFQLOaErT",
    "outputId": "9d8d401c-a3fe-4428-ad49-8ecbba1b8582"
   },
   "outputs": [
    {
     "data": {
      "text/html": [
       "\n",
       "  <div id=\"df-845e2f6f-af19-4f68-96c8-e2c487843de5\">\n",
       "    <div class=\"colab-df-container\">\n",
       "      <div>\n",
       "<style scoped>\n",
       "    .dataframe tbody tr th:only-of-type {\n",
       "        vertical-align: middle;\n",
       "    }\n",
       "\n",
       "    .dataframe tbody tr th {\n",
       "        vertical-align: top;\n",
       "    }\n",
       "\n",
       "    .dataframe thead th {\n",
       "        text-align: right;\n",
       "    }\n",
       "</style>\n",
       "<table border=\"1\" class=\"dataframe\">\n",
       "  <thead>\n",
       "    <tr style=\"text-align: right;\">\n",
       "      <th></th>\n",
       "      <th>0</th>\n",
       "      <th>1</th>\n",
       "      <th>2</th>\n",
       "      <th>3</th>\n",
       "      <th>4</th>\n",
       "      <th>5</th>\n",
       "      <th>6</th>\n",
       "      <th>7</th>\n",
       "      <th>8</th>\n",
       "      <th>9</th>\n",
       "      <th>...</th>\n",
       "      <th>91</th>\n",
       "      <th>92</th>\n",
       "      <th>93</th>\n",
       "      <th>94</th>\n",
       "      <th>95</th>\n",
       "      <th>96</th>\n",
       "      <th>97</th>\n",
       "      <th>98</th>\n",
       "      <th>99</th>\n",
       "      <th>label</th>\n",
       "    </tr>\n",
       "  </thead>\n",
       "  <tbody>\n",
       "    <tr>\n",
       "      <th>0</th>\n",
       "      <td>-0.530882</td>\n",
       "      <td>0.152591</td>\n",
       "      <td>1.388786</td>\n",
       "      <td>-0.178562</td>\n",
       "      <td>-0.779329</td>\n",
       "      <td>0.828424</td>\n",
       "      <td>-0.030091</td>\n",
       "      <td>0.403315</td>\n",
       "      <td>0.276747</td>\n",
       "      <td>-0.084954</td>\n",
       "      <td>...</td>\n",
       "      <td>-0.968632</td>\n",
       "      <td>0.597524</td>\n",
       "      <td>0.305875</td>\n",
       "      <td>-0.233179</td>\n",
       "      <td>0.215175</td>\n",
       "      <td>0.645885</td>\n",
       "      <td>-0.318965</td>\n",
       "      <td>-1.406000</td>\n",
       "      <td>0.294067</td>\n",
       "      <td>2</td>\n",
       "    </tr>\n",
       "    <tr>\n",
       "      <th>1</th>\n",
       "      <td>-0.028607</td>\n",
       "      <td>1.692998</td>\n",
       "      <td>0.675410</td>\n",
       "      <td>0.183485</td>\n",
       "      <td>0.233441</td>\n",
       "      <td>0.535107</td>\n",
       "      <td>0.623195</td>\n",
       "      <td>0.292324</td>\n",
       "      <td>-0.245174</td>\n",
       "      <td>-0.883453</td>\n",
       "      <td>...</td>\n",
       "      <td>-0.629793</td>\n",
       "      <td>-0.811862</td>\n",
       "      <td>-0.115957</td>\n",
       "      <td>-0.699400</td>\n",
       "      <td>-0.021534</td>\n",
       "      <td>0.408482</td>\n",
       "      <td>-0.228906</td>\n",
       "      <td>-0.578139</td>\n",
       "      <td>0.144392</td>\n",
       "      <td>2</td>\n",
       "    </tr>\n",
       "    <tr>\n",
       "      <th>2</th>\n",
       "      <td>0.418808</td>\n",
       "      <td>0.881292</td>\n",
       "      <td>0.027538</td>\n",
       "      <td>0.170112</td>\n",
       "      <td>0.666907</td>\n",
       "      <td>0.397094</td>\n",
       "      <td>0.997401</td>\n",
       "      <td>0.070555</td>\n",
       "      <td>-0.169673</td>\n",
       "      <td>-0.744339</td>\n",
       "      <td>...</td>\n",
       "      <td>-0.455673</td>\n",
       "      <td>-0.611784</td>\n",
       "      <td>-1.072800</td>\n",
       "      <td>-0.730516</td>\n",
       "      <td>0.446756</td>\n",
       "      <td>1.106526</td>\n",
       "      <td>-0.075372</td>\n",
       "      <td>-1.134128</td>\n",
       "      <td>0.236108</td>\n",
       "      <td>2</td>\n",
       "    </tr>\n",
       "    <tr>\n",
       "      <th>3</th>\n",
       "      <td>0.255359</td>\n",
       "      <td>0.452517</td>\n",
       "      <td>0.354283</td>\n",
       "      <td>0.056107</td>\n",
       "      <td>-0.430867</td>\n",
       "      <td>0.786192</td>\n",
       "      <td>0.049900</td>\n",
       "      <td>-0.005307</td>\n",
       "      <td>-0.167137</td>\n",
       "      <td>-0.262968</td>\n",
       "      <td>...</td>\n",
       "      <td>-0.314858</td>\n",
       "      <td>-0.028168</td>\n",
       "      <td>-0.235628</td>\n",
       "      <td>-0.363859</td>\n",
       "      <td>-0.314200</td>\n",
       "      <td>-0.131833</td>\n",
       "      <td>-0.335417</td>\n",
       "      <td>-0.530385</td>\n",
       "      <td>0.433126</td>\n",
       "      <td>2</td>\n",
       "    </tr>\n",
       "    <tr>\n",
       "      <th>4</th>\n",
       "      <td>0.203507</td>\n",
       "      <td>0.511112</td>\n",
       "      <td>1.385156</td>\n",
       "      <td>-0.184047</td>\n",
       "      <td>0.005716</td>\n",
       "      <td>0.747427</td>\n",
       "      <td>-0.392413</td>\n",
       "      <td>-0.139157</td>\n",
       "      <td>-0.978597</td>\n",
       "      <td>-1.055195</td>\n",
       "      <td>...</td>\n",
       "      <td>-0.885778</td>\n",
       "      <td>0.192066</td>\n",
       "      <td>0.761579</td>\n",
       "      <td>-1.800947</td>\n",
       "      <td>-0.753351</td>\n",
       "      <td>0.375518</td>\n",
       "      <td>-1.075449</td>\n",
       "      <td>-1.103943</td>\n",
       "      <td>1.051060</td>\n",
       "      <td>2</td>\n",
       "    </tr>\n",
       "  </tbody>\n",
       "</table>\n",
       "<p>5 rows × 101 columns</p>\n",
       "</div>\n",
       "      <button class=\"colab-df-convert\" onclick=\"convertToInteractive('df-845e2f6f-af19-4f68-96c8-e2c487843de5')\"\n",
       "              title=\"Convert this dataframe to an interactive table.\"\n",
       "              style=\"display:none;\">\n",
       "        \n",
       "  <svg xmlns=\"http://www.w3.org/2000/svg\" height=\"24px\"viewBox=\"0 0 24 24\"\n",
       "       width=\"24px\">\n",
       "    <path d=\"M0 0h24v24H0V0z\" fill=\"none\"/>\n",
       "    <path d=\"M18.56 5.44l.94 2.06.94-2.06 2.06-.94-2.06-.94-.94-2.06-.94 2.06-2.06.94zm-11 1L8.5 8.5l.94-2.06 2.06-.94-2.06-.94L8.5 2.5l-.94 2.06-2.06.94zm10 10l.94 2.06.94-2.06 2.06-.94-2.06-.94-.94-2.06-.94 2.06-2.06.94z\"/><path d=\"M17.41 7.96l-1.37-1.37c-.4-.4-.92-.59-1.43-.59-.52 0-1.04.2-1.43.59L10.3 9.45l-7.72 7.72c-.78.78-.78 2.05 0 2.83L4 21.41c.39.39.9.59 1.41.59.51 0 1.02-.2 1.41-.59l7.78-7.78 2.81-2.81c.8-.78.8-2.07 0-2.86zM5.41 20L4 18.59l7.72-7.72 1.47 1.35L5.41 20z\"/>\n",
       "  </svg>\n",
       "      </button>\n",
       "      \n",
       "  <style>\n",
       "    .colab-df-container {\n",
       "      display:flex;\n",
       "      flex-wrap:wrap;\n",
       "      gap: 12px;\n",
       "    }\n",
       "\n",
       "    .colab-df-convert {\n",
       "      background-color: #E8F0FE;\n",
       "      border: none;\n",
       "      border-radius: 50%;\n",
       "      cursor: pointer;\n",
       "      display: none;\n",
       "      fill: #1967D2;\n",
       "      height: 32px;\n",
       "      padding: 0 0 0 0;\n",
       "      width: 32px;\n",
       "    }\n",
       "\n",
       "    .colab-df-convert:hover {\n",
       "      background-color: #E2EBFA;\n",
       "      box-shadow: 0px 1px 2px rgba(60, 64, 67, 0.3), 0px 1px 3px 1px rgba(60, 64, 67, 0.15);\n",
       "      fill: #174EA6;\n",
       "    }\n",
       "\n",
       "    [theme=dark] .colab-df-convert {\n",
       "      background-color: #3B4455;\n",
       "      fill: #D2E3FC;\n",
       "    }\n",
       "\n",
       "    [theme=dark] .colab-df-convert:hover {\n",
       "      background-color: #434B5C;\n",
       "      box-shadow: 0px 1px 3px 1px rgba(0, 0, 0, 0.15);\n",
       "      filter: drop-shadow(0px 1px 2px rgba(0, 0, 0, 0.3));\n",
       "      fill: #FFFFFF;\n",
       "    }\n",
       "  </style>\n",
       "\n",
       "      <script>\n",
       "        const buttonEl =\n",
       "          document.querySelector('#df-845e2f6f-af19-4f68-96c8-e2c487843de5 button.colab-df-convert');\n",
       "        buttonEl.style.display =\n",
       "          google.colab.kernel.accessAllowed ? 'block' : 'none';\n",
       "\n",
       "        async function convertToInteractive(key) {\n",
       "          const element = document.querySelector('#df-845e2f6f-af19-4f68-96c8-e2c487843de5');\n",
       "          const dataTable =\n",
       "            await google.colab.kernel.invokeFunction('convertToInteractive',\n",
       "                                                     [key], {});\n",
       "          if (!dataTable) return;\n",
       "\n",
       "          const docLinkHtml = 'Like what you see? Visit the ' +\n",
       "            '<a target=\"_blank\" href=https://colab.research.google.com/notebooks/data_table.ipynb>data table notebook</a>'\n",
       "            + ' to learn more about interactive tables.';\n",
       "          element.innerHTML = '';\n",
       "          dataTable['output_type'] = 'display_data';\n",
       "          await google.colab.output.renderOutput(dataTable, element);\n",
       "          const docLink = document.createElement('div');\n",
       "          docLink.innerHTML = docLinkHtml;\n",
       "          element.appendChild(docLink);\n",
       "        }\n",
       "      </script>\n",
       "    </div>\n",
       "  </div>\n",
       "  "
      ],
      "text/plain": [
       "          0         1         2         3         4         5         6  \\\n",
       "0 -0.530882  0.152591  1.388786 -0.178562 -0.779329  0.828424 -0.030091   \n",
       "1 -0.028607  1.692998  0.675410  0.183485  0.233441  0.535107  0.623195   \n",
       "2  0.418808  0.881292  0.027538  0.170112  0.666907  0.397094  0.997401   \n",
       "3  0.255359  0.452517  0.354283  0.056107 -0.430867  0.786192  0.049900   \n",
       "4  0.203507  0.511112  1.385156 -0.184047  0.005716  0.747427 -0.392413   \n",
       "\n",
       "          7         8         9  ...        91        92        93        94  \\\n",
       "0  0.403315  0.276747 -0.084954  ... -0.968632  0.597524  0.305875 -0.233179   \n",
       "1  0.292324 -0.245174 -0.883453  ... -0.629793 -0.811862 -0.115957 -0.699400   \n",
       "2  0.070555 -0.169673 -0.744339  ... -0.455673 -0.611784 -1.072800 -0.730516   \n",
       "3 -0.005307 -0.167137 -0.262968  ... -0.314858 -0.028168 -0.235628 -0.363859   \n",
       "4 -0.139157 -0.978597 -1.055195  ... -0.885778  0.192066  0.761579 -1.800947   \n",
       "\n",
       "         95        96        97        98        99  label  \n",
       "0  0.215175  0.645885 -0.318965 -1.406000  0.294067      2  \n",
       "1 -0.021534  0.408482 -0.228906 -0.578139  0.144392      2  \n",
       "2  0.446756  1.106526 -0.075372 -1.134128  0.236108      2  \n",
       "3 -0.314200 -0.131833 -0.335417 -0.530385  0.433126      2  \n",
       "4 -0.753351  0.375518 -1.075449 -1.103943  1.051060      2  \n",
       "\n",
       "[5 rows x 101 columns]"
      ]
     },
     "metadata": {},
     "output_type": "display_data"
    }
   ],
   "source": [
    "model_df = pd.DataFrame(model_array)\n",
    "model_df[\"label\"] = dataset[\"Sentiment\"]\n",
    "\n",
    "display(model_df.head())"
   ]
  },
  {
   "cell_type": "code",
   "execution_count": 52,
   "metadata": {
    "colab": {
     "base_uri": "https://localhost:8080/",
     "height": 592
    },
    "id": "5Q3om2I1aPTj",
    "outputId": "237ad8b9-e1b5-47ed-c214-1b16c64ff800"
   },
   "outputs": [
    {
     "data": {
      "image/png": "[encoded data removed]",
      "text/plain": [
       "<Figure size 1440x720 with 1 Axes>"
      ]
     },
     "metadata": {
      "needs_background": "light"
     },
     "output_type": "display_data"
    }
   ],
   "source": [
    "import matplotlib.pyplot as plt\n",
    "\n",
    "from sklearn.decomposition import PCA\n",
    "\n",
    "#sampling the model_df population\n",
    "pca_df = model_df.reset_index()\n",
    "pca_df = model_df.dropna(axis=0).iloc[:,1:]\n",
    "pca_df = pca_df.iloc[::50]\n",
    "\n",
    "#setting up PCA\n",
    "pca = PCA(n_components=2, random_state=42)\n",
    "pca = pca.fit_transform(pca_df.iloc[:, :-1])\n",
    "labels = pca_df[\"label\"]\n",
    "\n",
    "#setting up plot components\n",
    "x_axis = pca[:,0]\n",
    "y_axis = pca[:,1]\n",
    "#\n",
    "\n",
    "#plotting PCA\n",
    "f, axes = plt.subplots(figsize=(20,10))\n",
    "plt.scatter(x_axis, y_axis, color='red', s=1)\n",
    "plt.show()"
   ]
  },
  {
   "cell_type": "code",
   "execution_count": null,
   "metadata": {
    "id": "47omP-j9ftEB"
   },
   "outputs": [],
   "source": [
    "\n",
    "#More on Word2Vec"
   ]
  },
  {
   "cell_type": "code",
   "execution_count": 56,
   "metadata": {
    "colab": {
     "base_uri": "https://localhost:8080/"
    },
    "id": "-iuv6UFwfi11",
    "outputId": "e2faa968-4590-47a1-fff3-94f23821454b"
   },
   "outputs": [
    {
     "name": "stdout",
     "output_type": "stream",
     "text": [
      "nook: ['curve' 'purse' 'detection' 'iradar' 'cobra']\n",
      "phone: ['cell' 'mobilefarm' 'farmer' 'gadgetoverload' 'blackberry']\n",
      "tv: ['bitrate' 'petricone' 'winelibrary' 'service' 'xbox']\n",
      "good: ['uselessobservations' 'ridic' 'field' 'several' 'typing']\n",
      "price: ['banana' 'triple' 'doom' 'buck' 'dyac']\n"
     ]
    }
   ],
   "source": [
    "word_bank = [\"nook\", \"phone\", \"tv\", \"good\", \"price\" ]\n",
    "\n",
    "for word in word_bank[:]:\n",
    "    related_vec = word_vec.wv.most_similar(word, topn=5)\n",
    "    related_words = np.array(related_vec)[:,0]\n",
    "    word_bank.extend(related_words)\n",
    "    print(f\"{word}: {related_words}\")"
   ]
  },
  {
   "cell_type": "code",
   "execution_count": null,
   "metadata": {
    "id": "ncKIiTWyf-Dx"
   },
   "outputs": [],
   "source": [
    "#TSNE"
   ]
  },
  {
   "cell_type": "code",
   "execution_count": 54,
   "metadata": {
    "colab": {
     "base_uri": "https://localhost:8080/",
     "height": 448
    },
    "id": "MQ3LjvY2f_7Q",
    "outputId": "fa5d5af7-7d75-40ba-c355-a6b475f11199"
   },
   "outputs": [
    {
     "data": {
      "image/png": "[encoded data removed]",
      "text/plain": [
       "<Figure size 1440x504 with 1 Axes>"
      ]
     },
     "metadata": {
      "needs_background": "light"
     },
     "output_type": "display_data"
    }
   ],
   "source": [
    "from sklearn.manifold import TSNE\n",
    "\n",
    "tsne = TSNE(n_components=2, perplexity=5, n_iter=1000, random_state=42)\n",
    "\n",
    "sample_vecs = word_vec.wv[set(word_bank)]\n",
    "sample_tsne = tsne.fit_transform(sample_vecs)\n",
    "tsne_x = sample_tsne[:, 0]\n",
    "tsne_y = sample_tsne[:, 1]\n",
    "\n",
    "f, axes = plt.subplots(figsize=(20,7))\n",
    "ax = plt.scatter(x=tsne_x, y=tsne_y)\n",
    "\n",
    "for label, x, y in zip(word_bank, tsne_x, tsne_y):\n",
    "    plt.annotate(label, xy=(x+3, y+3))\n",
    "\n",
    "plt.show()"
   ]
  },
  {
   "cell_type": "code",
   "execution_count": 63,
   "metadata": {
    "colab": {
     "base_uri": "https://localhost:8080/"
    },
    "id": "1weB17NAfrcq",
    "outputId": "762ce9cf-dc74-48b9-f177-b35decf1b28a"
   },
   "outputs": [
    {
     "name": "stdout",
     "output_type": "stream",
     "text": [
      "Ï¡Ïàü_ÊÎÒ£Áââ_£â_ÛâRT @mention Google Tests ÛÏCheck-in OffersÛ At #SXSW {link}\n"
     ]
    }
   ],
   "source": [
    "helpful = dataset[\"Product_Description\"].tolist()\n",
    "most_helpful = max(helpful, key=lambda x: x[0])\n",
    "\n",
    "most_helpful_idx = dataset[\"Product_Description\"].astype(str) == str(most_helpful)\n",
    "most_helpful_idx = dataset[most_helpful_idx].index\n",
    "\n",
    "most_helpful_text = dataset[\"Product_Description\"].iloc[most_helpful_idx].values[0]\n",
    "\n",
    "print(most_helpful_text)"
   ]
  },
  {
   "cell_type": "code",
   "execution_count": 64,
   "metadata": {
    "colab": {
     "base_uri": "https://localhost:8080/",
     "height": 496
    },
    "id": "JtvHdrZhp4N1",
    "outputId": "00f1a0ae-b417-4a19-b8cc-f800602880ed"
   },
   "outputs": [
    {
     "ename": "OSError",
     "evalue": "ignored",
     "output_type": "error",
     "traceback": [
      "\u001b[0;31m---------------------------------------------------------------------------\u001b[0m",
      "\u001b[0;31mOSError\u001b[0m                                   Traceback (most recent call last)",
      "\u001b[0;32m<timed exec>\u001b[0m in \u001b[0;36m<module>\u001b[0;34m\u001b[0m\n",
      "\u001b[0;32m/usr/local/lib/python3.8/dist-packages/spacy/__init__.py\u001b[0m in \u001b[0;36mload\u001b[0;34m(name, vocab, disable, enable, exclude, config)\u001b[0m\n\u001b[1;32m     52\u001b[0m     \u001b[0mRETURNS\u001b[0m \u001b[0;34m(\u001b[0m\u001b[0mLanguage\u001b[0m\u001b[0;34m)\u001b[0m\u001b[0;34m:\u001b[0m \u001b[0mThe\u001b[0m \u001b[0mloaded\u001b[0m \u001b[0mnlp\u001b[0m \u001b[0mobject\u001b[0m\u001b[0;34m.\u001b[0m\u001b[0;34m\u001b[0m\u001b[0;34m\u001b[0m\u001b[0m\n\u001b[1;32m     53\u001b[0m     \"\"\"\n\u001b[0;32m---> 54\u001b[0;31m     return util.load_model(\n\u001b[0m\u001b[1;32m     55\u001b[0m         \u001b[0mname\u001b[0m\u001b[0;34m,\u001b[0m\u001b[0;34m\u001b[0m\u001b[0;34m\u001b[0m\u001b[0m\n\u001b[1;32m     56\u001b[0m         \u001b[0mvocab\u001b[0m\u001b[0;34m=\u001b[0m\u001b[0mvocab\u001b[0m\u001b[0;34m,\u001b[0m\u001b[0;34m\u001b[0m\u001b[0;34m\u001b[0m\u001b[0m\n",
      "\u001b[0;32m/usr/local/lib/python3.8/dist-packages/spacy/util.py\u001b[0m in \u001b[0;36mload_model\u001b[0;34m(name, vocab, disable, enable, exclude, config)\u001b[0m\n\u001b[1;32m    436\u001b[0m         \u001b[0;32mreturn\u001b[0m \u001b[0mload_model_from_path\u001b[0m\u001b[0;34m(\u001b[0m\u001b[0mname\u001b[0m\u001b[0;34m,\u001b[0m \u001b[0;34m**\u001b[0m\u001b[0mkwargs\u001b[0m\u001b[0;34m)\u001b[0m  \u001b[0;31m# type: ignore[arg-type]\u001b[0m\u001b[0;34m\u001b[0m\u001b[0;34m\u001b[0m\u001b[0m\n\u001b[1;32m    437\u001b[0m     \u001b[0;32mif\u001b[0m \u001b[0mname\u001b[0m \u001b[0;32min\u001b[0m \u001b[0mOLD_MODEL_SHORTCUTS\u001b[0m\u001b[0;34m:\u001b[0m\u001b[0;34m\u001b[0m\u001b[0;34m\u001b[0m\u001b[0m\n\u001b[0;32m--> 438\u001b[0;31m         \u001b[0;32mraise\u001b[0m \u001b[0mIOError\u001b[0m\u001b[0;34m(\u001b[0m\u001b[0mErrors\u001b[0m\u001b[0;34m.\u001b[0m\u001b[0mE941\u001b[0m\u001b[0;34m.\u001b[0m\u001b[0mformat\u001b[0m\u001b[0;34m(\u001b[0m\u001b[0mname\u001b[0m\u001b[0;34m=\u001b[0m\u001b[0mname\u001b[0m\u001b[0;34m,\u001b[0m \u001b[0mfull\u001b[0m\u001b[0;34m=\u001b[0m\u001b[0mOLD_MODEL_SHORTCUTS\u001b[0m\u001b[0;34m[\u001b[0m\u001b[0mname\u001b[0m\u001b[0;34m]\u001b[0m\u001b[0;34m)\u001b[0m\u001b[0;34m)\u001b[0m  \u001b[0;31m# type: ignore[index]\u001b[0m\u001b[0;34m\u001b[0m\u001b[0;34m\u001b[0m\u001b[0m\n\u001b[0m\u001b[1;32m    439\u001b[0m     \u001b[0;32mraise\u001b[0m \u001b[0mIOError\u001b[0m\u001b[0;34m(\u001b[0m\u001b[0mErrors\u001b[0m\u001b[0;34m.\u001b[0m\u001b[0mE050\u001b[0m\u001b[0;34m.\u001b[0m\u001b[0mformat\u001b[0m\u001b[0;34m(\u001b[0m\u001b[0mname\u001b[0m\u001b[0;34m=\u001b[0m\u001b[0mname\u001b[0m\u001b[0;34m)\u001b[0m\u001b[0;34m)\u001b[0m\u001b[0;34m\u001b[0m\u001b[0;34m\u001b[0m\u001b[0m\n\u001b[1;32m    440\u001b[0m \u001b[0;34m\u001b[0m\u001b[0m\n",
      "\u001b[0;31mOSError\u001b[0m: [E941] Can't find model 'en'. It looks like you're trying to load a model from a shortcut, which is obsolete as of spaCy v3.0. To load the model, use its full name instead:\n\nnlp = spacy.load(\"en_core_web_sm\")\n\nFor more details on the available models, see the models directory: https://spacy.io/models. If you want to create a blank model, use spacy.blank: nlp = spacy.blank(\"en\")"
     ]
    }
   ],
   "source": [
    "%%time\n",
    "import spacy\n",
    "\n",
    "from collections import defaultdict\n",
    "\n",
    "ner = spacy.load(\"en\")\n",
    "\n",
    "ner_helpful = ner(most_helpful_text)\n",
    "\n",
    "ner_dict = defaultdict(list)\n",
    "for entity in ner_helpful.ents:\n",
    "    ner_dict[entity.label_].append(entity)\n",
    "\n",
    "for NER, name in ner_dict.items():\n",
    "    print(f\"{NER}:\\n{name}\\n\")"
   ]
  },
  {
   "cell_type": "code",
   "execution_count": 60,
   "metadata": {
    "colab": {
     "base_uri": "https://localhost:8080/"
    },
    "id": "jiGnn2sJlK7e",
    "outputId": "f8771a0e-c0b9-4300-f794-01a1c329cc20"
   },
   "outputs": [
    {
     "name": "stderr",
     "output_type": "stream",
     "text": [
      "WARNING:gensim.models.ldamulticore:too few updates, training might not converge; consider increasing the number of passes or iterations to improve accuracy\n"
     ]
    },
    {
     "name": "stdout",
     "output_type": "stream",
     "text": [
      "sxsw 0.07860551\n",
      "mention 0.04559049\n",
      "link 0.027505485\n",
      "ipad 0.021512905\n",
      "google 0.020765897\n",
      "CPU times: user 10.9 s, sys: 668 ms, total: 11.6 s\n",
      "Wall time: 15.7 s\n"
     ]
    }
   ],
   "source": [
    "#Topic Modeling\n",
    "%%time\n",
    "import multiprocessing\n",
    "\n",
    "from gensim.models.ldamulticore import LdaMulticore\n",
    "\n",
    "cores = multiprocessing.cpu_count()\n",
    "\n",
    "num_topics = 10\n",
    "bow_lda = LdaMulticore(bow, num_topics=num_topics, id2word=vocabulary, \\\n",
    "                       passes=5, workers=cores, random_state=42)\n",
    "\n",
    "for token, frequency in bow_lda.show_topic(0, topn=5):\n",
    "    print(token, frequency)"
   ]
  },
  {
   "cell_type": "code",
   "execution_count": 61,
   "metadata": {
    "colab": {
     "base_uri": "https://localhost:8080/"
    },
    "id": "MKddYbARlX1C",
    "outputId": "7e8e45d6-a676-4bd4-b099-9d4cb49194aa"
   },
   "outputs": [
    {
     "name": "stdout",
     "output_type": "stream",
     "text": [
      "\n",
      "Topic 1:\n",
      " sxsw, 0.07860551029443741\n",
      " mention, 0.045590490102767944\n",
      " link, 0.027505485340952873\n",
      " ipad, 0.02151290513575077\n",
      " google, 0.020765896886587143\n",
      "\n",
      "Topic 2:\n",
      " sxsw, 0.07407867163419724\n",
      " mention, 0.03331521898508072\n",
      " ipad, 0.029736801981925964\n",
      " link, 0.025818603113293648\n",
      " google, 0.02105124667286873\n",
      "\n",
      "Topic 3:\n",
      " mention, 0.09337899088859558\n",
      " sxsw, 0.07354994118213654\n",
      " link, 0.05687014386057854\n",
      " rt, 0.04698697105050087\n",
      " google, 0.03928631544113159\n",
      "\n",
      "Topic 4:\n",
      " sxsw, 0.07072896510362625\n",
      " mention, 0.049096785485744476\n",
      " link, 0.02658114954829216\n",
      " amp, 0.02547183632850647\n",
      " google, 0.024145351722836494\n",
      "\n",
      "Topic 5:\n",
      " sxsw, 0.07837569713592529\n",
      " mention, 0.057606618851423264\n",
      " quot, 0.038823485374450684\n",
      " google, 0.02498897910118103\n",
      " ipad, 0.02189667522907257\n",
      "\n",
      "Topic 6:\n",
      " mention, 0.07277197390794754\n",
      " sxsw, 0.07121691107749939\n",
      " google, 0.043979451060295105\n",
      " link, 0.02659258246421814\n",
      " rt, 0.025629039853811264\n",
      "\n",
      "Topic 7:\n",
      " sxsw, 0.07919158041477203\n",
      " mention, 0.0753958523273468\n",
      " rt, 0.03543280437588692\n",
      " link, 0.031798623502254486\n",
      " iphone, 0.031075550243258476\n",
      "\n",
      "Topic 8:\n",
      " sxsw, 0.09493868798017502\n",
      " apple, 0.0872344896197319\n",
      " store, 0.06313848495483398\n",
      " link, 0.04869609326124191\n",
      " ipad, 0.031686484813690186\n",
      "\n",
      "Topic 9:\n",
      " sxsw, 0.06288601458072662\n",
      " ipad, 0.028811469674110413\n",
      " link, 0.025017376989126205\n",
      " mention, 0.020777245983481407\n",
      " design, 0.012010457925498486\n",
      "\n",
      "Topic 10:\n",
      " sxsw, 0.07113435864448547\n",
      " google, 0.04022058844566345\n",
      " link, 0.013012266717851162\n",
      " ipad, 0.012571645900607109\n",
      " iphone, 0.012123039923608303\n"
     ]
    }
   ],
   "source": [
    "for topic in range(0, num_topics):\n",
    "    print(f\"\\nTopic {topic+1}:\")\n",
    "    for token, frequency in bow_lda.show_topic(topic, topn=5):\n",
    "        print(f\" {token}, {frequency}\")"
   ]
  }
 ],
 "metadata": {
  "colab": {
   "provenance": []
  },
  "kernelspec": {
   "display_name": "Python 3 (ipykernel)",
   "language": "python",
   "name": "python3"
  },
  "language_info": {
   "codemirror_mode": {
    "name": "ipython",
    "version": 3
   },
   "file_extension": ".py",
   "mimetype": "text/x-python",
   "name": "python",
   "nbconvert_exporter": "python",
   "pygments_lexer": "ipython3",
   "version": "3.9.13"
  }
 },
 "nbformat": 4,
 "nbformat_minor": 1
}
