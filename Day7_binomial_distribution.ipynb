{
 "cells": [
  {
   "cell_type": "code",
   "execution_count": 1,
   "id": "c0288ebe",
   "metadata": {
    "ExecuteTime": {
     "end_time": "2022-10-26T02:51:22.640672Z",
     "start_time": "2022-10-26T02:51:22.247381Z"
    }
   },
   "outputs": [],
   "source": [
    "from scipy.stats import binom"
   ]
  },
  {
   "cell_type": "markdown",
   "id": "d88eb6c7",
   "metadata": {},
   "source": [
    "# The probability that a smartphone  will stop working within 3 years of manufacture is 0.05. What is the probability that out of 10 randomly selected smartphones:"
   ]
  },
  {
   "cell_type": "code",
   "execution_count": 2,
   "id": "30c78af4",
   "metadata": {
    "ExecuteTime": {
     "end_time": "2022-10-26T02:52:31.320413Z",
     "start_time": "2022-10-26T02:52:31.315118Z"
    }
   },
   "outputs": [],
   "source": [
    "n = 10\n",
    "# success is phone failing !\n",
    "p=0.05"
   ]
  },
  {
   "cell_type": "markdown",
   "id": "e45eda37",
   "metadata": {},
   "source": [
    "## Exactly 3 smartphones stop working within 3 years"
   ]
  },
  {
   "cell_type": "code",
   "execution_count": 3,
   "id": "46b653b3",
   "metadata": {
    "ExecuteTime": {
     "end_time": "2022-10-26T02:53:49.835397Z",
     "start_time": "2022-10-26T02:53:49.814033Z"
    }
   },
   "outputs": [
    {
     "data": {
      "text/plain": [
       "0.010475059441406242"
      ]
     },
     "execution_count": 3,
     "metadata": {},
     "output_type": "execute_result"
    }
   ],
   "source": [
    "k = 3\n",
    "\n",
    "binom.pmf(n=n, p=p,k=k)"
   ]
  },
  {
   "cell_type": "markdown",
   "id": "991c50fe",
   "metadata": {},
   "source": [
    "## None of the smartphones will stop working within 3 years"
   ]
  },
  {
   "cell_type": "code",
   "execution_count": 4,
   "id": "48909af1",
   "metadata": {
    "ExecuteTime": {
     "end_time": "2022-10-26T02:57:22.956967Z",
     "start_time": "2022-10-26T02:57:22.940870Z"
    }
   },
   "outputs": [
    {
     "data": {
      "text/plain": [
       "0.5987369392383787"
      ]
     },
     "execution_count": 4,
     "metadata": {},
     "output_type": "execute_result"
    }
   ],
   "source": [
    "k=0\n",
    "binom.pmf(n=n,p=p,k=k)"
   ]
  },
  {
   "cell_type": "code",
   "execution_count": 7,
   "id": "392a954b",
   "metadata": {
    "ExecuteTime": {
     "end_time": "2022-10-26T03:05:50.897108Z",
     "start_time": "2022-10-26T03:05:50.883120Z"
    }
   },
   "outputs": [
    {
     "data": {
      "text/plain": [
       "0.5987369392383789"
      ]
     },
     "execution_count": 7,
     "metadata": {},
     "output_type": "execute_result"
    }
   ],
   "source": [
    "binom.cdf(n=n,p=p,k=0)"
   ]
  },
  {
   "cell_type": "markdown",
   "id": "7765c3be",
   "metadata": {},
   "source": [
    "## Atleast 1 phone will stop working within 3 years"
   ]
  },
  {
   "cell_type": "code",
   "execution_count": 5,
   "id": "32a17bc1",
   "metadata": {
    "ExecuteTime": {
     "end_time": "2022-10-26T03:00:43.511562Z",
     "start_time": "2022-10-26T03:00:43.499460Z"
    }
   },
   "outputs": [
    {
     "data": {
      "text/plain": [
       "0.4012630607616213"
      ]
     },
     "execution_count": 5,
     "metadata": {},
     "output_type": "execute_result"
    }
   ],
   "source": [
    "# p(atleast 1 phone will stop working) = P(1 phone) + p(2 phone)....+P(10 phones)\n",
    "# 1 - p( 0 phones stopping)\n",
    "\n",
    "1-binom.pmf(n=n,p=p,k=k)"
   ]
  },
  {
   "cell_type": "markdown",
   "id": "1333e528",
   "metadata": {},
   "source": [
    "## Atmost 5 phones will stop working within 3 years"
   ]
  },
  {
   "cell_type": "code",
   "execution_count": 6,
   "id": "47b4a99d",
   "metadata": {
    "ExecuteTime": {
     "end_time": "2022-10-26T03:02:42.531865Z",
     "start_time": "2022-10-26T03:02:42.517045Z"
    }
   },
   "outputs": [
    {
     "data": {
      "text/plain": [
       "0.9999972454173828"
      ]
     },
     "execution_count": 6,
     "metadata": {},
     "output_type": "execute_result"
    }
   ],
   "source": [
    "# p(0) + p(1) + ......+ p(5)\n",
    "\n",
    "binom.cdf(n=n,p=p,k=5)"
   ]
  },
  {
   "cell_type": "markdown",
   "id": "ae10e684",
   "metadata": {},
   "source": [
    "## atleast 9 phones stop working within 3 years"
   ]
  },
  {
   "cell_type": "code",
   "execution_count": 8,
   "id": "c6eab0ff",
   "metadata": {
    "ExecuteTime": {
     "end_time": "2022-10-26T03:08:02.935972Z",
     "start_time": "2022-10-26T03:08:02.928515Z"
    }
   },
   "outputs": [
    {
     "data": {
      "text/plain": [
       "1.8652343750000002e-11"
      ]
     },
     "execution_count": 8,
     "metadata": {},
     "output_type": "execute_result"
    }
   ],
   "source": [
    "# p(9)+p(10)\n",
    "\n",
    "binom.pmf(n=n,p=p,k=9) + binom.pmf(n=n,p=p,k=10)"
   ]
  },
  {
   "cell_type": "code",
   "execution_count": null,
   "id": "4d66b39f",
   "metadata": {
    "ExecuteTime": {
     "end_time": "2022-10-11T11:06:16.744532Z",
     "start_time": "2022-10-11T11:06:16.736064Z"
    }
   },
   "outputs": [],
   "source": []
  },
  {
   "cell_type": "markdown",
   "id": "1e2fcd81",
   "metadata": {},
   "source": [
    "## all 10 phones stop working within 3 years"
   ]
  },
  {
   "cell_type": "code",
   "execution_count": 9,
   "id": "45b7e48a",
   "metadata": {
    "ExecuteTime": {
     "end_time": "2022-10-26T03:10:05.858909Z",
     "start_time": "2022-10-26T03:10:05.841872Z"
    }
   },
   "outputs": [
    {
     "data": {
      "text/plain": [
       "9.765625000000005e-14"
      ]
     },
     "execution_count": 9,
     "metadata": {},
     "output_type": "execute_result"
    }
   ],
   "source": [
    "# n=10, p=0.05, k=10\n",
    "binom.pmf(n=n,p=p,k=10)"
   ]
  },
  {
   "cell_type": "code",
   "execution_count": null,
   "id": "d94e06dc",
   "metadata": {},
   "outputs": [],
   "source": []
  }
 ],
 "metadata": {
  "kernelspec": {
   "display_name": "Python 3 (ipykernel)",
   "language": "python",
   "name": "python3"
  },
  "language_info": {
   "codemirror_mode": {
    "name": "ipython",
    "version": 3
   },
   "file_extension": ".py",
   "mimetype": "text/x-python",
   "name": "python",
   "nbconvert_exporter": "python",
   "pygments_lexer": "ipython3",
   "version": "3.10.6"
  },
  "toc": {
   "base_numbering": 1,
   "nav_menu": {},
   "number_sections": true,
   "sideBar": true,
   "skip_h1_title": false,
   "title_cell": "Table of Contents",
   "title_sidebar": "Contents",
   "toc_cell": false,
   "toc_position": {},
   "toc_section_display": true,
   "toc_window_display": false
  }
 },
 "nbformat": 4,
 "nbformat_minor": 5
}
