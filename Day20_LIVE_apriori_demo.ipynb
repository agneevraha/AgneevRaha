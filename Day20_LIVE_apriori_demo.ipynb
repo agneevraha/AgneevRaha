{
 "cells": [
  {
   "cell_type": "markdown",
   "id": "ff5f1914",
   "metadata": {},
   "source": [
    "# Association Rules Mining"
   ]
  },
  {
   "cell_type": "markdown",
   "id": "0891ccda",
   "metadata": {},
   "source": [
    "## Create a list of transactions with Items in each"
   ]
  },
  {
   "cell_type": "code",
   "execution_count": 1,
   "id": "428b20b2",
   "metadata": {
    "ExecuteTime": {
     "end_time": "2022-10-19T16:58:33.108372Z",
     "start_time": "2022-10-19T16:58:33.078600Z"
    }
   },
   "outputs": [],
   "source": [
    "dataset = [\n",
    "    [\"Milk\", \"Eggs\", \"Bread\"],\n",
    "    [\"Milk\", \"Eggs\"],\n",
    "    [\"Milk\", \"Bread\"],\n",
    "    [\"Eggs\", \"Apple\"],\n",
    "]"
   ]
  },
  {
   "cell_type": "code",
   "execution_count": 2,
   "id": "4aba54d3",
   "metadata": {
    "ExecuteTime": {
     "end_time": "2022-10-19T16:58:34.282176Z",
     "start_time": "2022-10-19T16:58:34.259668Z"
    }
   },
   "outputs": [
    {
     "data": {
      "text/plain": [
       "[['Milk', 'Eggs', 'Bread'],\n",
       " ['Milk', 'Eggs'],\n",
       " ['Milk', 'Bread'],\n",
       " ['Eggs', 'Apple']]"
      ]
     },
     "execution_count": 2,
     "metadata": {},
     "output_type": "execute_result"
    }
   ],
   "source": [
    "dataset"
   ]
  },
  {
   "cell_type": "markdown",
   "id": "d0ae4b30",
   "metadata": {},
   "source": [
    "# Import libraries for creating a boolean dataframe\n",
    "The dataframe will contain boolean values depending on  whether an item is present in a transaction(invoice) or not. Each row of the dataframe is a transaction."
   ]
  },
  {
   "cell_type": "code",
   "execution_count": 3,
   "id": "cef98b86",
   "metadata": {
    "ExecuteTime": {
     "end_time": "2022-10-19T16:59:30.329340Z",
     "start_time": "2022-10-19T16:59:29.728435Z"
    }
   },
   "outputs": [],
   "source": [
    "# pip install mlxtend\n",
    "# import libraries from mlxtend for apriori algorithm implementation\n",
    "from mlxtend.preprocessing import TransactionEncoder\n",
    "from mlxtend.frequent_patterns import apriori,fpgrowth,association_rules\n",
    "import pandas as pd"
   ]
  },
  {
   "cell_type": "code",
   "execution_count": 4,
   "id": "5ae5166e",
   "metadata": {
    "ExecuteTime": {
     "end_time": "2022-10-19T17:00:13.178386Z",
     "start_time": "2022-10-19T17:00:13.171926Z"
    }
   },
   "outputs": [
    {
     "data": {
      "text/html": [
       "<div>\n",
       "<style scoped>\n",
       "    .dataframe tbody tr th:only-of-type {\n",
       "        vertical-align: middle;\n",
       "    }\n",
       "\n",
       "    .dataframe tbody tr th {\n",
       "        vertical-align: top;\n",
       "    }\n",
       "\n",
       "    .dataframe thead th {\n",
       "        text-align: right;\n",
       "    }\n",
       "</style>\n",
       "<table border=\"1\" class=\"dataframe\">\n",
       "  <thead>\n",
       "    <tr style=\"text-align: right;\">\n",
       "      <th></th>\n",
       "      <th>Apple</th>\n",
       "      <th>Bread</th>\n",
       "      <th>Eggs</th>\n",
       "      <th>Milk</th>\n",
       "    </tr>\n",
       "  </thead>\n",
       "  <tbody>\n",
       "    <tr>\n",
       "      <th>0</th>\n",
       "      <td>False</td>\n",
       "      <td>True</td>\n",
       "      <td>True</td>\n",
       "      <td>True</td>\n",
       "    </tr>\n",
       "    <tr>\n",
       "      <th>1</th>\n",
       "      <td>False</td>\n",
       "      <td>False</td>\n",
       "      <td>True</td>\n",
       "      <td>True</td>\n",
       "    </tr>\n",
       "    <tr>\n",
       "      <th>2</th>\n",
       "      <td>False</td>\n",
       "      <td>True</td>\n",
       "      <td>False</td>\n",
       "      <td>True</td>\n",
       "    </tr>\n",
       "    <tr>\n",
       "      <th>3</th>\n",
       "      <td>True</td>\n",
       "      <td>False</td>\n",
       "      <td>True</td>\n",
       "      <td>False</td>\n",
       "    </tr>\n",
       "  </tbody>\n",
       "</table>\n",
       "</div>"
      ],
      "text/plain": [
       "   Apple  Bread   Eggs   Milk\n",
       "0  False   True   True   True\n",
       "1  False  False   True   True\n",
       "2  False   True  False   True\n",
       "3   True  False   True  False"
      ]
     },
     "execution_count": 4,
     "metadata": {},
     "output_type": "execute_result"
    }
   ],
   "source": [
    "# create a transaction encoder object and fit the dataset\n",
    "te = TransactionEncoder()\n",
    "te_df = te.fit_transform(dataset)\n",
    "te_df = pd.DataFrame(te_df, columns=te.columns_)\n",
    "te_df\n"
   ]
  },
  {
   "cell_type": "markdown",
   "id": "8179c4c6",
   "metadata": {},
   "source": [
    "# Apriori Algorithm"
   ]
  },
  {
   "cell_type": "markdown",
   "id": "9afdbdf8",
   "metadata": {},
   "source": [
    "## Create Frequent Itemsets"
   ]
  },
  {
   "cell_type": "markdown",
   "id": "fbba79a8",
   "metadata": {},
   "source": [
    "Set a minimum threshold of support to filter the frequent itemsets from all the itemsets."
   ]
  },
  {
   "cell_type": "code",
   "execution_count": 5,
   "id": "21e5d5a7",
   "metadata": {
    "ExecuteTime": {
     "end_time": "2022-10-19T17:05:12.081383Z",
     "start_time": "2022-10-19T17:05:12.054763Z"
    }
   },
   "outputs": [
    {
     "data": {
      "text/html": [
       "<div>\n",
       "<style scoped>\n",
       "    .dataframe tbody tr th:only-of-type {\n",
       "        vertical-align: middle;\n",
       "    }\n",
       "\n",
       "    .dataframe tbody tr th {\n",
       "        vertical-align: top;\n",
       "    }\n",
       "\n",
       "    .dataframe thead th {\n",
       "        text-align: right;\n",
       "    }\n",
       "</style>\n",
       "<table border=\"1\" class=\"dataframe\">\n",
       "  <thead>\n",
       "    <tr style=\"text-align: right;\">\n",
       "      <th></th>\n",
       "      <th>support</th>\n",
       "      <th>itemsets</th>\n",
       "    </tr>\n",
       "  </thead>\n",
       "  <tbody>\n",
       "    <tr>\n",
       "      <th>0</th>\n",
       "      <td>0.25</td>\n",
       "      <td>(Apple)</td>\n",
       "    </tr>\n",
       "    <tr>\n",
       "      <th>1</th>\n",
       "      <td>0.50</td>\n",
       "      <td>(Bread)</td>\n",
       "    </tr>\n",
       "    <tr>\n",
       "      <th>2</th>\n",
       "      <td>0.75</td>\n",
       "      <td>(Eggs)</td>\n",
       "    </tr>\n",
       "    <tr>\n",
       "      <th>3</th>\n",
       "      <td>0.75</td>\n",
       "      <td>(Milk)</td>\n",
       "    </tr>\n",
       "    <tr>\n",
       "      <th>4</th>\n",
       "      <td>0.25</td>\n",
       "      <td>(Apple, Eggs)</td>\n",
       "    </tr>\n",
       "    <tr>\n",
       "      <th>5</th>\n",
       "      <td>0.25</td>\n",
       "      <td>(Bread, Eggs)</td>\n",
       "    </tr>\n",
       "    <tr>\n",
       "      <th>6</th>\n",
       "      <td>0.50</td>\n",
       "      <td>(Bread, Milk)</td>\n",
       "    </tr>\n",
       "    <tr>\n",
       "      <th>7</th>\n",
       "      <td>0.50</td>\n",
       "      <td>(Milk, Eggs)</td>\n",
       "    </tr>\n",
       "    <tr>\n",
       "      <th>8</th>\n",
       "      <td>0.25</td>\n",
       "      <td>(Bread, Milk, Eggs)</td>\n",
       "    </tr>\n",
       "  </tbody>\n",
       "</table>\n",
       "</div>"
      ],
      "text/plain": [
       "   support             itemsets\n",
       "0     0.25              (Apple)\n",
       "1     0.50              (Bread)\n",
       "2     0.75               (Eggs)\n",
       "3     0.75               (Milk)\n",
       "4     0.25        (Apple, Eggs)\n",
       "5     0.25        (Bread, Eggs)\n",
       "6     0.50        (Bread, Milk)\n",
       "7     0.50         (Milk, Eggs)\n",
       "8     0.25  (Bread, Milk, Eggs)"
      ]
     },
     "execution_count": 5,
     "metadata": {},
     "output_type": "execute_result"
    }
   ],
   "source": [
    "# create frequent itemsets with min support of 0.01\n",
    "freq_itemsets_ap = apriori(te_df, min_support=0.01, use_colnames=True)\n",
    "freq_itemsets_ap"
   ]
  },
  {
   "cell_type": "markdown",
   "id": "1e0286e6",
   "metadata": {},
   "source": [
    "# F-P Growth Algorithm"
   ]
  },
  {
   "cell_type": "code",
   "execution_count": 6,
   "id": "7660cd47",
   "metadata": {
    "ExecuteTime": {
     "end_time": "2022-10-19T17:07:00.419628Z",
     "start_time": "2022-10-19T17:07:00.409897Z"
    }
   },
   "outputs": [
    {
     "data": {
      "text/html": [
       "<div>\n",
       "<style scoped>\n",
       "    .dataframe tbody tr th:only-of-type {\n",
       "        vertical-align: middle;\n",
       "    }\n",
       "\n",
       "    .dataframe tbody tr th {\n",
       "        vertical-align: top;\n",
       "    }\n",
       "\n",
       "    .dataframe thead th {\n",
       "        text-align: right;\n",
       "    }\n",
       "</style>\n",
       "<table border=\"1\" class=\"dataframe\">\n",
       "  <thead>\n",
       "    <tr style=\"text-align: right;\">\n",
       "      <th></th>\n",
       "      <th>support</th>\n",
       "      <th>itemsets</th>\n",
       "    </tr>\n",
       "  </thead>\n",
       "  <tbody>\n",
       "    <tr>\n",
       "      <th>0</th>\n",
       "      <td>0.75</td>\n",
       "      <td>(Milk)</td>\n",
       "    </tr>\n",
       "    <tr>\n",
       "      <th>1</th>\n",
       "      <td>0.75</td>\n",
       "      <td>(Eggs)</td>\n",
       "    </tr>\n",
       "    <tr>\n",
       "      <th>2</th>\n",
       "      <td>0.50</td>\n",
       "      <td>(Bread)</td>\n",
       "    </tr>\n",
       "    <tr>\n",
       "      <th>3</th>\n",
       "      <td>0.25</td>\n",
       "      <td>(Apple)</td>\n",
       "    </tr>\n",
       "    <tr>\n",
       "      <th>4</th>\n",
       "      <td>0.50</td>\n",
       "      <td>(Milk, Eggs)</td>\n",
       "    </tr>\n",
       "    <tr>\n",
       "      <th>5</th>\n",
       "      <td>0.50</td>\n",
       "      <td>(Bread, Milk)</td>\n",
       "    </tr>\n",
       "    <tr>\n",
       "      <th>6</th>\n",
       "      <td>0.25</td>\n",
       "      <td>(Bread, Eggs)</td>\n",
       "    </tr>\n",
       "    <tr>\n",
       "      <th>7</th>\n",
       "      <td>0.25</td>\n",
       "      <td>(Bread, Milk, Eggs)</td>\n",
       "    </tr>\n",
       "    <tr>\n",
       "      <th>8</th>\n",
       "      <td>0.25</td>\n",
       "      <td>(Apple, Eggs)</td>\n",
       "    </tr>\n",
       "  </tbody>\n",
       "</table>\n",
       "</div>"
      ],
      "text/plain": [
       "   support             itemsets\n",
       "0     0.75               (Milk)\n",
       "1     0.75               (Eggs)\n",
       "2     0.50              (Bread)\n",
       "3     0.25              (Apple)\n",
       "4     0.50         (Milk, Eggs)\n",
       "5     0.50        (Bread, Milk)\n",
       "6     0.25        (Bread, Eggs)\n",
       "7     0.25  (Bread, Milk, Eggs)\n",
       "8     0.25        (Apple, Eggs)"
      ]
     },
     "execution_count": 6,
     "metadata": {},
     "output_type": "execute_result"
    }
   ],
   "source": [
    "# import fpgrowth algorithm from mlxtend\n",
    "freq_itemsets_fp = fpgrowth(te_df, min_support=0.01, use_colnames=True)\n",
    "freq_itemsets_fp"
   ]
  },
  {
   "cell_type": "markdown",
   "id": "b68b9335",
   "metadata": {},
   "source": [
    "# Association Rules"
   ]
  },
  {
   "cell_type": "code",
   "execution_count": 9,
   "id": "af09ddc6",
   "metadata": {
    "ExecuteTime": {
     "end_time": "2022-10-19T17:17:43.725236Z",
     "start_time": "2022-10-19T17:17:43.700611Z"
    }
   },
   "outputs": [
    {
     "data": {
      "text/html": [
       "<div>\n",
       "<style scoped>\n",
       "    .dataframe tbody tr th:only-of-type {\n",
       "        vertical-align: middle;\n",
       "    }\n",
       "\n",
       "    .dataframe tbody tr th {\n",
       "        vertical-align: top;\n",
       "    }\n",
       "\n",
       "    .dataframe thead th {\n",
       "        text-align: right;\n",
       "    }\n",
       "</style>\n",
       "<table border=\"1\" class=\"dataframe\">\n",
       "  <thead>\n",
       "    <tr style=\"text-align: right;\">\n",
       "      <th></th>\n",
       "      <th>antecedents</th>\n",
       "      <th>consequents</th>\n",
       "      <th>antecedent support</th>\n",
       "      <th>consequent support</th>\n",
       "      <th>support</th>\n",
       "      <th>confidence</th>\n",
       "      <th>lift</th>\n",
       "      <th>leverage</th>\n",
       "      <th>conviction</th>\n",
       "    </tr>\n",
       "  </thead>\n",
       "  <tbody>\n",
       "    <tr>\n",
       "      <th>0</th>\n",
       "      <td>(Apple)</td>\n",
       "      <td>(Eggs)</td>\n",
       "      <td>0.25</td>\n",
       "      <td>0.75</td>\n",
       "      <td>0.25</td>\n",
       "      <td>1.000000</td>\n",
       "      <td>1.333333</td>\n",
       "      <td>0.0625</td>\n",
       "      <td>inf</td>\n",
       "    </tr>\n",
       "    <tr>\n",
       "      <th>1</th>\n",
       "      <td>(Eggs)</td>\n",
       "      <td>(Apple)</td>\n",
       "      <td>0.75</td>\n",
       "      <td>0.25</td>\n",
       "      <td>0.25</td>\n",
       "      <td>0.333333</td>\n",
       "      <td>1.333333</td>\n",
       "      <td>0.0625</td>\n",
       "      <td>1.125</td>\n",
       "    </tr>\n",
       "    <tr>\n",
       "      <th>2</th>\n",
       "      <td>(Bread)</td>\n",
       "      <td>(Milk)</td>\n",
       "      <td>0.50</td>\n",
       "      <td>0.75</td>\n",
       "      <td>0.50</td>\n",
       "      <td>1.000000</td>\n",
       "      <td>1.333333</td>\n",
       "      <td>0.1250</td>\n",
       "      <td>inf</td>\n",
       "    </tr>\n",
       "    <tr>\n",
       "      <th>3</th>\n",
       "      <td>(Milk)</td>\n",
       "      <td>(Bread)</td>\n",
       "      <td>0.75</td>\n",
       "      <td>0.50</td>\n",
       "      <td>0.50</td>\n",
       "      <td>0.666667</td>\n",
       "      <td>1.333333</td>\n",
       "      <td>0.1250</td>\n",
       "      <td>1.500</td>\n",
       "    </tr>\n",
       "    <tr>\n",
       "      <th>4</th>\n",
       "      <td>(Bread, Eggs)</td>\n",
       "      <td>(Milk)</td>\n",
       "      <td>0.25</td>\n",
       "      <td>0.75</td>\n",
       "      <td>0.25</td>\n",
       "      <td>1.000000</td>\n",
       "      <td>1.333333</td>\n",
       "      <td>0.0625</td>\n",
       "      <td>inf</td>\n",
       "    </tr>\n",
       "    <tr>\n",
       "      <th>5</th>\n",
       "      <td>(Milk)</td>\n",
       "      <td>(Bread, Eggs)</td>\n",
       "      <td>0.75</td>\n",
       "      <td>0.25</td>\n",
       "      <td>0.25</td>\n",
       "      <td>0.333333</td>\n",
       "      <td>1.333333</td>\n",
       "      <td>0.0625</td>\n",
       "      <td>1.125</td>\n",
       "    </tr>\n",
       "  </tbody>\n",
       "</table>\n",
       "</div>"
      ],
      "text/plain": [
       "     antecedents    consequents  ...  leverage  conviction\n",
       "0        (Apple)         (Eggs)  ...    0.0625         inf\n",
       "1         (Eggs)        (Apple)  ...    0.0625       1.125\n",
       "2        (Bread)         (Milk)  ...    0.1250         inf\n",
       "3         (Milk)        (Bread)  ...    0.1250       1.500\n",
       "4  (Bread, Eggs)         (Milk)  ...    0.0625         inf\n",
       "5         (Milk)  (Bread, Eggs)  ...    0.0625       1.125\n",
       "\n",
       "[6 rows x 9 columns]"
      ]
     },
     "execution_count": 9,
     "metadata": {},
     "output_type": "execute_result"
    }
   ],
   "source": [
    "# create association rules based on the defined metric and min threshold. eg lift\n",
    "rules_ap = association_rules(freq_itemsets_ap, metric=\"lift\", min_threshold=1.1)\n",
    "rules_ap"
   ]
  },
  {
   "cell_type": "code",
   "execution_count": 10,
   "id": "2c786baa",
   "metadata": {},
   "outputs": [
    {
     "data": {
      "text/html": [
       "<div>\n",
       "<style scoped>\n",
       "    .dataframe tbody tr th:only-of-type {\n",
       "        vertical-align: middle;\n",
       "    }\n",
       "\n",
       "    .dataframe tbody tr th {\n",
       "        vertical-align: top;\n",
       "    }\n",
       "\n",
       "    .dataframe thead th {\n",
       "        text-align: right;\n",
       "    }\n",
       "</style>\n",
       "<table border=\"1\" class=\"dataframe\">\n",
       "  <thead>\n",
       "    <tr style=\"text-align: right;\">\n",
       "      <th></th>\n",
       "      <th>antecedents</th>\n",
       "      <th>consequents</th>\n",
       "      <th>antecedent support</th>\n",
       "      <th>consequent support</th>\n",
       "      <th>support</th>\n",
       "      <th>confidence</th>\n",
       "      <th>lift</th>\n",
       "      <th>leverage</th>\n",
       "      <th>conviction</th>\n",
       "    </tr>\n",
       "  </thead>\n",
       "  <tbody>\n",
       "    <tr>\n",
       "      <th>0</th>\n",
       "      <td>(Bread)</td>\n",
       "      <td>(Milk)</td>\n",
       "      <td>0.50</td>\n",
       "      <td>0.75</td>\n",
       "      <td>0.50</td>\n",
       "      <td>1.000000</td>\n",
       "      <td>1.333333</td>\n",
       "      <td>0.1250</td>\n",
       "      <td>inf</td>\n",
       "    </tr>\n",
       "    <tr>\n",
       "      <th>1</th>\n",
       "      <td>(Milk)</td>\n",
       "      <td>(Bread)</td>\n",
       "      <td>0.75</td>\n",
       "      <td>0.50</td>\n",
       "      <td>0.50</td>\n",
       "      <td>0.666667</td>\n",
       "      <td>1.333333</td>\n",
       "      <td>0.1250</td>\n",
       "      <td>1.500</td>\n",
       "    </tr>\n",
       "    <tr>\n",
       "      <th>2</th>\n",
       "      <td>(Bread, Eggs)</td>\n",
       "      <td>(Milk)</td>\n",
       "      <td>0.25</td>\n",
       "      <td>0.75</td>\n",
       "      <td>0.25</td>\n",
       "      <td>1.000000</td>\n",
       "      <td>1.333333</td>\n",
       "      <td>0.0625</td>\n",
       "      <td>inf</td>\n",
       "    </tr>\n",
       "    <tr>\n",
       "      <th>3</th>\n",
       "      <td>(Milk)</td>\n",
       "      <td>(Bread, Eggs)</td>\n",
       "      <td>0.75</td>\n",
       "      <td>0.25</td>\n",
       "      <td>0.25</td>\n",
       "      <td>0.333333</td>\n",
       "      <td>1.333333</td>\n",
       "      <td>0.0625</td>\n",
       "      <td>1.125</td>\n",
       "    </tr>\n",
       "    <tr>\n",
       "      <th>4</th>\n",
       "      <td>(Apple)</td>\n",
       "      <td>(Eggs)</td>\n",
       "      <td>0.25</td>\n",
       "      <td>0.75</td>\n",
       "      <td>0.25</td>\n",
       "      <td>1.000000</td>\n",
       "      <td>1.333333</td>\n",
       "      <td>0.0625</td>\n",
       "      <td>inf</td>\n",
       "    </tr>\n",
       "    <tr>\n",
       "      <th>5</th>\n",
       "      <td>(Eggs)</td>\n",
       "      <td>(Apple)</td>\n",
       "      <td>0.75</td>\n",
       "      <td>0.25</td>\n",
       "      <td>0.25</td>\n",
       "      <td>0.333333</td>\n",
       "      <td>1.333333</td>\n",
       "      <td>0.0625</td>\n",
       "      <td>1.125</td>\n",
       "    </tr>\n",
       "  </tbody>\n",
       "</table>\n",
       "</div>"
      ],
      "text/plain": [
       "     antecedents    consequents  ...  leverage  conviction\n",
       "0        (Bread)         (Milk)  ...    0.1250         inf\n",
       "1         (Milk)        (Bread)  ...    0.1250       1.500\n",
       "2  (Bread, Eggs)         (Milk)  ...    0.0625         inf\n",
       "3         (Milk)  (Bread, Eggs)  ...    0.0625       1.125\n",
       "4        (Apple)         (Eggs)  ...    0.0625         inf\n",
       "5         (Eggs)        (Apple)  ...    0.0625       1.125\n",
       "\n",
       "[6 rows x 9 columns]"
      ]
     },
     "execution_count": 10,
     "metadata": {},
     "output_type": "execute_result"
    }
   ],
   "source": [
    "rules_fp = association_rules(freq_itemsets_fp, metric=\"lift\", min_threshold=1.1)\n",
    "rules_fp"
   ]
  },
  {
   "cell_type": "code",
   "execution_count": 13,
   "id": "986c4580",
   "metadata": {},
   "outputs": [
    {
     "data": {
      "text/html": [
       "<div>\n",
       "<style scoped>\n",
       "    .dataframe tbody tr th:only-of-type {\n",
       "        vertical-align: middle;\n",
       "    }\n",
       "\n",
       "    .dataframe tbody tr th {\n",
       "        vertical-align: top;\n",
       "    }\n",
       "\n",
       "    .dataframe thead th {\n",
       "        text-align: right;\n",
       "    }\n",
       "</style>\n",
       "<table border=\"1\" class=\"dataframe\">\n",
       "  <thead>\n",
       "    <tr style=\"text-align: right;\">\n",
       "      <th></th>\n",
       "      <th>antecedents</th>\n",
       "      <th>consequents</th>\n",
       "      <th>antecedent support</th>\n",
       "      <th>consequent support</th>\n",
       "      <th>support</th>\n",
       "      <th>confidence</th>\n",
       "      <th>lift</th>\n",
       "      <th>leverage</th>\n",
       "      <th>conviction</th>\n",
       "    </tr>\n",
       "  </thead>\n",
       "  <tbody>\n",
       "    <tr>\n",
       "      <th>0</th>\n",
       "      <td>(Bread)</td>\n",
       "      <td>(Milk)</td>\n",
       "      <td>0.50</td>\n",
       "      <td>0.75</td>\n",
       "      <td>0.50</td>\n",
       "      <td>1.0</td>\n",
       "      <td>1.333333</td>\n",
       "      <td>0.1250</td>\n",
       "      <td>inf</td>\n",
       "    </tr>\n",
       "    <tr>\n",
       "      <th>2</th>\n",
       "      <td>(Bread, Eggs)</td>\n",
       "      <td>(Milk)</td>\n",
       "      <td>0.25</td>\n",
       "      <td>0.75</td>\n",
       "      <td>0.25</td>\n",
       "      <td>1.0</td>\n",
       "      <td>1.333333</td>\n",
       "      <td>0.0625</td>\n",
       "      <td>inf</td>\n",
       "    </tr>\n",
       "    <tr>\n",
       "      <th>4</th>\n",
       "      <td>(Apple)</td>\n",
       "      <td>(Eggs)</td>\n",
       "      <td>0.25</td>\n",
       "      <td>0.75</td>\n",
       "      <td>0.25</td>\n",
       "      <td>1.0</td>\n",
       "      <td>1.333333</td>\n",
       "      <td>0.0625</td>\n",
       "      <td>inf</td>\n",
       "    </tr>\n",
       "  </tbody>\n",
       "</table>\n",
       "</div>"
      ],
      "text/plain": [
       "     antecedents consequents  ...  leverage  conviction\n",
       "0        (Bread)      (Milk)  ...    0.1250         inf\n",
       "2  (Bread, Eggs)      (Milk)  ...    0.0625         inf\n",
       "4        (Apple)      (Eggs)  ...    0.0625         inf\n",
       "\n",
       "[3 rows x 9 columns]"
      ]
     },
     "execution_count": 13,
     "metadata": {},
     "output_type": "execute_result"
    }
   ],
   "source": [
    "rules_fp[rules_ap['confidence']>0.7]"
   ]
  },
  {
   "cell_type": "code",
   "execution_count": 11,
   "id": "d37b2b7e",
   "metadata": {},
   "outputs": [
    {
     "name": "stdout",
     "output_type": "stream",
     "text": [
      "Help on function association_rules in module mlxtend.frequent_patterns.association_rules:\n",
      "\n",
      "association_rules(df, metric='confidence', min_threshold=0.8, support_only=False)\n",
      "    Generates a DataFrame of association rules including the\n",
      "    metrics 'score', 'confidence', and 'lift'\n",
      "    \n",
      "    Parameters\n",
      "    -----------\n",
      "    df : pandas DataFrame\n",
      "      pandas DataFrame of frequent itemsets\n",
      "      with columns ['support', 'itemsets']\n",
      "    \n",
      "    metric : string (default: 'confidence')\n",
      "      Metric to evaluate if a rule is of interest.\n",
      "      **Automatically set to 'support' if `support_only=True`.**\n",
      "      Otherwise, supported metrics are 'support', 'confidence', 'lift',\n",
      "      'leverage', and 'conviction'\n",
      "      These metrics are computed as follows:\n",
      "    \n",
      "      - support(A->C) = support(A+C) [aka 'support'], range: [0, 1]\n",
      "    \n",
      "      - confidence(A->C) = support(A+C) / support(A), range: [0, 1]\n",
      "    \n",
      "      - lift(A->C) = confidence(A->C) / support(C), range: [0, inf]\n",
      "    \n",
      "      - leverage(A->C) = support(A->C) - support(A)*support(C),\n",
      "        range: [-1, 1]\n",
      "    \n",
      "      - conviction = [1 - support(C)] / [1 - confidence(A->C)],\n",
      "        range: [0, inf]\n",
      "    \n",
      "    \n",
      "    min_threshold : float (default: 0.8)\n",
      "      Minimal threshold for the evaluation metric,\n",
      "      via the `metric` parameter,\n",
      "      to decide whether a candidate rule is of interest.\n",
      "    \n",
      "    support_only : bool (default: False)\n",
      "      Only computes the rule support and fills the other\n",
      "      metric columns with NaNs. This is useful if:\n",
      "    \n",
      "      a) the input DataFrame is incomplete, e.g., does\n",
      "      not contain support values for all rule antecedents\n",
      "      and consequents\n",
      "    \n",
      "      b) you simply want to speed up the computation because\n",
      "      you don't need the other metrics.\n",
      "    \n",
      "    Returns\n",
      "    ----------\n",
      "    pandas DataFrame with columns \"antecedents\" and \"consequents\"\n",
      "      that store itemsets, plus the scoring metric columns:\n",
      "      \"antecedent support\", \"consequent support\",\n",
      "      \"support\", \"confidence\", \"lift\",\n",
      "      \"leverage\", \"conviction\"\n",
      "      of all rules for which\n",
      "      metric(rule) >= min_threshold.\n",
      "      Each entry in the \"antecedents\" and \"consequents\" columns are\n",
      "      of type `frozenset`, which is a Python built-in type that\n",
      "      behaves similarly to sets except that it is immutable\n",
      "      (For more info, see\n",
      "      https://docs.python.org/3.6/library/stdtypes.html#frozenset).\n",
      "    \n",
      "    Examples\n",
      "    -----------\n",
      "    For usage examples, please see\n",
      "    http://rasbt.github.io/mlxtend/user_guide/frequent_patterns/association_rules/\n",
      "\n"
     ]
    }
   ],
   "source": [
    "help(association_rules)"
   ]
  },
  {
   "cell_type": "code",
   "execution_count": null,
   "id": "d3198cda",
   "metadata": {},
   "outputs": [],
   "source": []
  }
 ],
 "metadata": {
  "kernelspec": {
   "display_name": "Python 3.10.6 ('base')",
   "language": "python",
   "name": "python3"
  },
  "language_info": {
   "codemirror_mode": {
    "name": "ipython",
    "version": 3
   },
   "file_extension": ".py",
   "mimetype": "text/x-python",
   "name": "python",
   "nbconvert_exporter": "python",
   "pygments_lexer": "ipython3",
   "version": "3.10.6"
  },
  "toc": {
   "base_numbering": 1,
   "nav_menu": {},
   "number_sections": true,
   "sideBar": true,
   "skip_h1_title": false,
   "title_cell": "Table of Contents",
   "title_sidebar": "Contents",
   "toc_cell": false,
   "toc_position": {},
   "toc_section_display": true,
   "toc_window_display": false
  },
  "varInspector": {
   "cols": {
    "lenName": 16,
    "lenType": 16,
    "lenVar": 40
   },
   "kernels_config": {
    "python": {
     "delete_cmd_postfix": "",
     "delete_cmd_prefix": "del ",
     "library": "var_list.py",
     "varRefreshCmd": "print(var_dic_list())"
    },
    "r": {
     "delete_cmd_postfix": ") ",
     "delete_cmd_prefix": "rm(",
     "library": "var_list.r",
     "varRefreshCmd": "cat(var_dic_list()) "
    }
   },
   "types_to_exclude": [
    "module",
    "function",
    "builtin_function_or_method",
    "instance",
    "_Feature"
   ],
   "window_display": false
  },
  "vscode": {
   "interpreter": {
    "hash": "879b042a9b6ea95d78af7437b3920a3e0d925e33162ccbc3dd18c5ba533b9387"
   }
  }
 },
 "nbformat": 4,
 "nbformat_minor": 5
}
