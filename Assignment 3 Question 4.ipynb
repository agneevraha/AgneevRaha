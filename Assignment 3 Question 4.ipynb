{
 "cells": [
  {
   "cell_type": "code",
   "execution_count": 1,
   "id": "c02bf93b",
   "metadata": {},
   "outputs": [],
   "source": [
    "import pandas as pd\n",
    "import numpy as np\n",
    "from scipy import stats\n",
    "from scipy.stats import norm\n",
    "from scipy.stats import chi2_contingency"
   ]
  },
  {
   "cell_type": "code",
   "execution_count": 3,
   "id": "fb91e79f",
   "metadata": {},
   "outputs": [
    {
     "data": {
      "text/html": [
       "<div>\n",
       "<style scoped>\n",
       "    .dataframe tbody tr th:only-of-type {\n",
       "        vertical-align: middle;\n",
       "    }\n",
       "\n",
       "    .dataframe tbody tr th {\n",
       "        vertical-align: top;\n",
       "    }\n",
       "\n",
       "    .dataframe thead th {\n",
       "        text-align: right;\n",
       "    }\n",
       "</style>\n",
       "<table border=\"1\" class=\"dataframe\">\n",
       "  <thead>\n",
       "    <tr style=\"text-align: right;\">\n",
       "      <th></th>\n",
       "      <th>Phillippines</th>\n",
       "      <th>Indonesia</th>\n",
       "      <th>Malta</th>\n",
       "      <th>India</th>\n",
       "      <th>Unnamed: 4</th>\n",
       "    </tr>\n",
       "  </thead>\n",
       "  <tbody>\n",
       "    <tr>\n",
       "      <th>0</th>\n",
       "      <td>Error Free</td>\n",
       "      <td>Error Free</td>\n",
       "      <td>Defective</td>\n",
       "      <td>Error Free</td>\n",
       "      <td>NaN</td>\n",
       "    </tr>\n",
       "    <tr>\n",
       "      <th>1</th>\n",
       "      <td>Error Free</td>\n",
       "      <td>Error Free</td>\n",
       "      <td>Error Free</td>\n",
       "      <td>Defective</td>\n",
       "      <td>NaN</td>\n",
       "    </tr>\n",
       "    <tr>\n",
       "      <th>2</th>\n",
       "      <td>Error Free</td>\n",
       "      <td>Defective</td>\n",
       "      <td>Defective</td>\n",
       "      <td>Error Free</td>\n",
       "      <td>NaN</td>\n",
       "    </tr>\n",
       "    <tr>\n",
       "      <th>3</th>\n",
       "      <td>Error Free</td>\n",
       "      <td>Error Free</td>\n",
       "      <td>Error Free</td>\n",
       "      <td>Error Free</td>\n",
       "      <td>NaN</td>\n",
       "    </tr>\n",
       "    <tr>\n",
       "      <th>4</th>\n",
       "      <td>Error Free</td>\n",
       "      <td>Error Free</td>\n",
       "      <td>Defective</td>\n",
       "      <td>Error Free</td>\n",
       "      <td>NaN</td>\n",
       "    </tr>\n",
       "    <tr>\n",
       "      <th>...</th>\n",
       "      <td>...</td>\n",
       "      <td>...</td>\n",
       "      <td>...</td>\n",
       "      <td>...</td>\n",
       "      <td>...</td>\n",
       "    </tr>\n",
       "    <tr>\n",
       "      <th>300</th>\n",
       "      <td>271</td>\n",
       "      <td>267</td>\n",
       "      <td>269</td>\n",
       "      <td>280</td>\n",
       "      <td>Error Free Total</td>\n",
       "    </tr>\n",
       "    <tr>\n",
       "      <th>301</th>\n",
       "      <td>29</td>\n",
       "      <td>33</td>\n",
       "      <td>31</td>\n",
       "      <td>20</td>\n",
       "      <td>Defective Total</td>\n",
       "    </tr>\n",
       "    <tr>\n",
       "      <th>302</th>\n",
       "      <td>9.634551495</td>\n",
       "      <td>10.96345515</td>\n",
       "      <td>10.29900332</td>\n",
       "      <td>6.644518272</td>\n",
       "      <td>Defective Percent</td>\n",
       "    </tr>\n",
       "    <tr>\n",
       "      <th>303</th>\n",
       "      <td>-8.634551495</td>\n",
       "      <td>-9.96345515</td>\n",
       "      <td>-9.299003322</td>\n",
       "      <td>-5.644518272</td>\n",
       "      <td>NaN</td>\n",
       "    </tr>\n",
       "    <tr>\n",
       "      <th>304</th>\n",
       "      <td>#NAME?</td>\n",
       "      <td>NaN</td>\n",
       "      <td>NaN</td>\n",
       "      <td>NaN</td>\n",
       "      <td>NaN</td>\n",
       "    </tr>\n",
       "  </tbody>\n",
       "</table>\n",
       "<p>305 rows × 5 columns</p>\n",
       "</div>"
      ],
      "text/plain": [
       "     Phillippines    Indonesia         Malta         India         Unnamed: 4\n",
       "0      Error Free   Error Free     Defective    Error Free                NaN\n",
       "1      Error Free   Error Free    Error Free     Defective                NaN\n",
       "2      Error Free    Defective     Defective    Error Free                NaN\n",
       "3      Error Free   Error Free    Error Free    Error Free                NaN\n",
       "4      Error Free   Error Free     Defective    Error Free                NaN\n",
       "..            ...          ...           ...           ...                ...\n",
       "300           271          267           269           280   Error Free Total\n",
       "301            29           33            31            20    Defective Total\n",
       "302   9.634551495  10.96345515   10.29900332   6.644518272  Defective Percent\n",
       "303  -8.634551495  -9.96345515  -9.299003322  -5.644518272                NaN\n",
       "304        #NAME?          NaN           NaN           NaN                NaN\n",
       "\n",
       "[305 rows x 5 columns]"
      ]
     },
     "execution_count": 3,
     "metadata": {},
     "output_type": "execute_result"
    }
   ],
   "source": [
    "dataset=pd.read_csv(r'C:\\Users\\hp\\Desktop\\ExcelR\\Assignments Folder\\Hypothesis Testing\\Costomer+OrderForm.csv',encoding = 'ascii')\n",
    "dataset"
   ]
  },
  {
   "cell_type": "code",
   "execution_count": 5,
   "id": "4135d610",
   "metadata": {},
   "outputs": [
    {
     "data": {
      "text/plain": [
       "Error Free      271\n",
       "Defective        29\n",
       "271               1\n",
       "29                1\n",
       "9.634551495       1\n",
       "-8.634551495      1\n",
       "#NAME?            1\n",
       "Name: Phillippines, dtype: int64"
      ]
     },
     "execution_count": 5,
     "metadata": {},
     "output_type": "execute_result"
    }
   ],
   "source": [
    "dataset.Phillippines.value_counts()"
   ]
  },
  {
   "cell_type": "code",
   "execution_count": 6,
   "id": "1a8552d1",
   "metadata": {},
   "outputs": [
    {
     "data": {
      "text/plain": [
       "Error Free     267\n",
       "Defective       33\n",
       "267              1\n",
       "33               1\n",
       "10.96345515      1\n",
       "-9.96345515      1\n",
       "Name: Indonesia, dtype: int64"
      ]
     },
     "execution_count": 6,
     "metadata": {},
     "output_type": "execute_result"
    }
   ],
   "source": [
    "\n",
    "dataset.Indonesia.value_counts()"
   ]
  },
  {
   "cell_type": "code",
   "execution_count": 8,
   "id": "8c5f7d90",
   "metadata": {},
   "outputs": [
    {
     "data": {
      "text/plain": [
       "Error Free      269\n",
       "Defective        31\n",
       "269               1\n",
       "31                1\n",
       "10.29900332       1\n",
       "-9.299003322      1\n",
       "Name: Malta, dtype: int64"
      ]
     },
     "execution_count": 8,
     "metadata": {},
     "output_type": "execute_result"
    }
   ],
   "source": [
    "dataset.Malta.value_counts()"
   ]
  },
  {
   "cell_type": "code",
   "execution_count": 9,
   "id": "f5521465",
   "metadata": {},
   "outputs": [
    {
     "data": {
      "text/plain": [
       "Error Free      280\n",
       "Defective        20\n",
       "280               1\n",
       "20                1\n",
       "6.644518272       1\n",
       "-5.644518272      1\n",
       "Name: India, dtype: int64"
      ]
     },
     "execution_count": 9,
     "metadata": {},
     "output_type": "execute_result"
    }
   ],
   "source": [
    "\n",
    "dataset.India.value_counts()"
   ]
  },
  {
   "cell_type": "code",
   "execution_count": 10,
   "id": "f58bdf22",
   "metadata": {},
   "outputs": [
    {
     "data": {
      "text/plain": [
       "array([[271, 267, 269, 280],\n",
       "       [ 29,  33,  31,  20]])"
      ]
     },
     "execution_count": 10,
     "metadata": {},
     "output_type": "execute_result"
    }
   ],
   "source": [
    "# Make a contingency table\n",
    "obs=np.array([[271,267,269,280],[29,33,31,20]])\n",
    "obs"
   ]
  },
  {
   "cell_type": "code",
   "execution_count": 11,
   "id": "e6815585",
   "metadata": {},
   "outputs": [
    {
     "data": {
      "text/plain": [
       "(3.858960685820355,\n",
       " 0.2771020991233135,\n",
       " 3,\n",
       " array([[271.75, 271.75, 271.75, 271.75],\n",
       "        [ 28.25,  28.25,  28.25,  28.25]]))"
      ]
     },
     "execution_count": 11,
     "metadata": {},
     "output_type": "execute_result"
    }
   ],
   "source": [
    "# Chi2 contengency independence test\n",
    "chi2_contingency(obs) # o/p is (Chi2 stats value, p_value, df, expected obsvations)"
   ]
  },
  {
   "cell_type": "code",
   "execution_count": null,
   "id": "86b84997",
   "metadata": {},
   "outputs": [],
   "source": [
    "# Compare p_value with α = 0.05\n"
   ]
  },
  {
   "cell_type": "code",
   "execution_count": null,
   "id": "f3e1941d",
   "metadata": {},
   "outputs": [],
   "source": []
  },
  {
   "cell_type": "code",
   "execution_count": null,
   "id": "457617c2",
   "metadata": {},
   "outputs": [],
   "source": []
  },
  {
   "cell_type": "code",
   "execution_count": null,
   "id": "df8ef604",
   "metadata": {},
   "outputs": [],
   "source": []
  }
 ],
 "metadata": {
  "kernelspec": {
   "display_name": "Python 3 (ipykernel)",
   "language": "python",
   "name": "python3"
  },
  "language_info": {
   "codemirror_mode": {
    "name": "ipython",
    "version": 3
   },
   "file_extension": ".py",
   "mimetype": "text/x-python",
   "name": "python",
   "nbconvert_exporter": "python",
   "pygments_lexer": "ipython3",
   "version": "3.9.12"
  }
 },
 "nbformat": 4,
 "nbformat_minor": 5
}
