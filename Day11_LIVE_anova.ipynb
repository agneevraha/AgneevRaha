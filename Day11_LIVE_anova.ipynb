{
 "cells": [
  {
   "cell_type": "markdown",
   "id": "cb9d51f5",
   "metadata": {},
   "source": [
    "# ANOVA"
   ]
  },
  {
   "cell_type": "markdown",
   "id": "225627dc",
   "metadata": {},
   "source": [
    "Suppose the USGA wants to compare the mean distances associated with four different brands of golf balls when struck with a driver. A completely randomized design is employed, with Iron Byron, the USAGA’s robotic golfer, using a driver to hit a random sample of 10 balls of each brand in a random sequence. The distance is recorded for each hit, and the results are shown in the file `golfball.csv`.\n",
    "\n",
    "sourcce : http://gchang.people.ysu.edu/SPSSE/OneWayANOVA/SPSSOANOVA.htm"
   ]
  },
  {
   "cell_type": "code",
   "execution_count": 1,
   "id": "29ac36c2",
   "metadata": {
    "ExecuteTime": {
     "end_time": "2022-11-01T01:46:37.826653Z",
     "start_time": "2022-11-01T01:46:36.683025Z"
    }
   },
   "outputs": [],
   "source": [
    "# import libraries - pandas & visualization libraries\n",
    "import pandas as pd \n",
    "import numpy as np\n",
    "import matplotlib.pyplot as plt\n",
    "import seaborn as sns\n",
    "plt.style.use('ggplot')"
   ]
  },
  {
   "cell_type": "code",
   "execution_count": 2,
   "id": "a27f65ed",
   "metadata": {
    "ExecuteTime": {
     "end_time": "2022-11-01T01:48:21.452624Z",
     "start_time": "2022-11-01T01:48:21.436361Z"
    }
   },
   "outputs": [],
   "source": [
    "# load the dataset from golfball.csv\n",
    "df = pd.read_csv('golfball.csv')"
   ]
  },
  {
   "cell_type": "code",
   "execution_count": 3,
   "id": "30f1344f",
   "metadata": {
    "ExecuteTime": {
     "end_time": "2022-11-01T01:48:30.273670Z",
     "start_time": "2022-11-01T01:48:30.254762Z"
    }
   },
   "outputs": [
    {
     "data": {
      "text/html": [
       "<div>\n",
       "<style scoped>\n",
       "    .dataframe tbody tr th:only-of-type {\n",
       "        vertical-align: middle;\n",
       "    }\n",
       "\n",
       "    .dataframe tbody tr th {\n",
       "        vertical-align: top;\n",
       "    }\n",
       "\n",
       "    .dataframe thead th {\n",
       "        text-align: right;\n",
       "    }\n",
       "</style>\n",
       "<table border=\"1\" class=\"dataframe\">\n",
       "  <thead>\n",
       "    <tr style=\"text-align: right;\">\n",
       "      <th></th>\n",
       "      <th>Brand</th>\n",
       "      <th>Distance</th>\n",
       "    </tr>\n",
       "  </thead>\n",
       "  <tbody>\n",
       "    <tr>\n",
       "      <th>0</th>\n",
       "      <td>Brand A</td>\n",
       "      <td>251.2</td>\n",
       "    </tr>\n",
       "    <tr>\n",
       "      <th>1</th>\n",
       "      <td>Brand A</td>\n",
       "      <td>245.1</td>\n",
       "    </tr>\n",
       "    <tr>\n",
       "      <th>2</th>\n",
       "      <td>Brand A</td>\n",
       "      <td>248.0</td>\n",
       "    </tr>\n",
       "    <tr>\n",
       "      <th>3</th>\n",
       "      <td>Brand A</td>\n",
       "      <td>251.1</td>\n",
       "    </tr>\n",
       "    <tr>\n",
       "      <th>4</th>\n",
       "      <td>Brand A</td>\n",
       "      <td>260.5</td>\n",
       "    </tr>\n",
       "  </tbody>\n",
       "</table>\n",
       "</div>"
      ],
      "text/plain": [
       "     Brand  Distance\n",
       "0  Brand A     251.2\n",
       "1  Brand A     245.1\n",
       "2  Brand A     248.0\n",
       "3  Brand A     251.1\n",
       "4  Brand A     260.5"
      ]
     },
     "execution_count": 3,
     "metadata": {},
     "output_type": "execute_result"
    }
   ],
   "source": [
    "# head\n",
    "df.head()"
   ]
  },
  {
   "cell_type": "code",
   "execution_count": 4,
   "id": "36f60f6f",
   "metadata": {
    "ExecuteTime": {
     "end_time": "2022-11-01T01:48:59.458996Z",
     "start_time": "2022-11-01T01:48:59.448825Z"
    }
   },
   "outputs": [
    {
     "data": {
      "text/plain": [
       "(40, 2)"
      ]
     },
     "execution_count": 4,
     "metadata": {},
     "output_type": "execute_result"
    }
   ],
   "source": [
    "# check the number of observations in each group\n",
    "df.shape"
   ]
  },
  {
   "cell_type": "code",
   "execution_count": 5,
   "id": "7e472a22",
   "metadata": {
    "ExecuteTime": {
     "end_time": "2022-11-01T01:49:13.176294Z",
     "start_time": "2022-11-01T01:49:13.145107Z"
    }
   },
   "outputs": [
    {
     "data": {
      "text/html": [
       "<div>\n",
       "<style scoped>\n",
       "    .dataframe tbody tr th:only-of-type {\n",
       "        vertical-align: middle;\n",
       "    }\n",
       "\n",
       "    .dataframe tbody tr th {\n",
       "        vertical-align: top;\n",
       "    }\n",
       "\n",
       "    .dataframe thead th {\n",
       "        text-align: right;\n",
       "    }\n",
       "</style>\n",
       "<table border=\"1\" class=\"dataframe\">\n",
       "  <thead>\n",
       "    <tr style=\"text-align: right;\">\n",
       "      <th></th>\n",
       "      <th>Distance</th>\n",
       "    </tr>\n",
       "  </thead>\n",
       "  <tbody>\n",
       "    <tr>\n",
       "      <th>count</th>\n",
       "      <td>40.00</td>\n",
       "    </tr>\n",
       "    <tr>\n",
       "      <th>mean</th>\n",
       "      <td>257.78</td>\n",
       "    </tr>\n",
       "    <tr>\n",
       "      <th>std</th>\n",
       "      <td>9.55</td>\n",
       "    </tr>\n",
       "    <tr>\n",
       "      <th>min</th>\n",
       "      <td>242.00</td>\n",
       "    </tr>\n",
       "    <tr>\n",
       "      <th>25%</th>\n",
       "      <td>249.30</td>\n",
       "    </tr>\n",
       "    <tr>\n",
       "      <th>50%</th>\n",
       "      <td>256.45</td>\n",
       "    </tr>\n",
       "    <tr>\n",
       "      <th>75%</th>\n",
       "      <td>264.55</td>\n",
       "    </tr>\n",
       "    <tr>\n",
       "      <th>max</th>\n",
       "      <td>277.50</td>\n",
       "    </tr>\n",
       "  </tbody>\n",
       "</table>\n",
       "</div>"
      ],
      "text/plain": [
       "       Distance\n",
       "count     40.00\n",
       "mean     257.78\n",
       "std        9.55\n",
       "min      242.00\n",
       "25%      249.30\n",
       "50%      256.45\n",
       "75%      264.55\n",
       "max      277.50"
      ]
     },
     "execution_count": 5,
     "metadata": {},
     "output_type": "execute_result"
    }
   ],
   "source": [
    "# summary statistics of the data\n",
    "df.describe().round(2)"
   ]
  },
  {
   "cell_type": "code",
   "execution_count": 6,
   "id": "efc86c90",
   "metadata": {
    "ExecuteTime": {
     "end_time": "2022-11-01T01:50:37.360506Z",
     "start_time": "2022-11-01T01:50:37.328178Z"
    }
   },
   "outputs": [
    {
     "data": {
      "text/html": [
       "<div>\n",
       "<style scoped>\n",
       "    .dataframe tbody tr th:only-of-type {\n",
       "        vertical-align: middle;\n",
       "    }\n",
       "\n",
       "    .dataframe tbody tr th {\n",
       "        vertical-align: top;\n",
       "    }\n",
       "\n",
       "    .dataframe thead tr th {\n",
       "        text-align: left;\n",
       "    }\n",
       "\n",
       "    .dataframe thead tr:last-of-type th {\n",
       "        text-align: right;\n",
       "    }\n",
       "</style>\n",
       "<table border=\"1\" class=\"dataframe\">\n",
       "  <thead>\n",
       "    <tr>\n",
       "      <th></th>\n",
       "      <th colspan=\"8\" halign=\"left\">Distance</th>\n",
       "    </tr>\n",
       "    <tr>\n",
       "      <th></th>\n",
       "      <th>count</th>\n",
       "      <th>mean</th>\n",
       "      <th>std</th>\n",
       "      <th>min</th>\n",
       "      <th>25%</th>\n",
       "      <th>50%</th>\n",
       "      <th>75%</th>\n",
       "      <th>max</th>\n",
       "    </tr>\n",
       "    <tr>\n",
       "      <th>Brand</th>\n",
       "      <th></th>\n",
       "      <th></th>\n",
       "      <th></th>\n",
       "      <th></th>\n",
       "      <th></th>\n",
       "      <th></th>\n",
       "      <th></th>\n",
       "      <th></th>\n",
       "    </tr>\n",
       "  </thead>\n",
       "  <tbody>\n",
       "    <tr>\n",
       "      <th>Brand A</th>\n",
       "      <td>10.0</td>\n",
       "      <td>250.78</td>\n",
       "      <td>4.74</td>\n",
       "      <td>244.6</td>\n",
       "      <td>248.20</td>\n",
       "      <td>250.55</td>\n",
       "      <td>253.22</td>\n",
       "      <td>260.5</td>\n",
       "    </tr>\n",
       "    <tr>\n",
       "      <th>Brand B</th>\n",
       "      <td>10.0</td>\n",
       "      <td>261.06</td>\n",
       "      <td>3.87</td>\n",
       "      <td>254.5</td>\n",
       "      <td>257.90</td>\n",
       "      <td>262.85</td>\n",
       "      <td>264.02</td>\n",
       "      <td>265.0</td>\n",
       "    </tr>\n",
       "    <tr>\n",
       "      <th>Brand C</th>\n",
       "      <td>10.0</td>\n",
       "      <td>269.95</td>\n",
       "      <td>4.50</td>\n",
       "      <td>263.2</td>\n",
       "      <td>266.73</td>\n",
       "      <td>270.10</td>\n",
       "      <td>272.35</td>\n",
       "      <td>277.5</td>\n",
       "    </tr>\n",
       "    <tr>\n",
       "      <th>Brand D</th>\n",
       "      <td>10.0</td>\n",
       "      <td>249.32</td>\n",
       "      <td>5.20</td>\n",
       "      <td>242.0</td>\n",
       "      <td>246.65</td>\n",
       "      <td>248.80</td>\n",
       "      <td>250.82</td>\n",
       "      <td>261.8</td>\n",
       "    </tr>\n",
       "  </tbody>\n",
       "</table>\n",
       "</div>"
      ],
      "text/plain": [
       "        Distance                                                    \n",
       "           count    mean   std    min     25%     50%     75%    max\n",
       "Brand                                                               \n",
       "Brand A     10.0  250.78  4.74  244.6  248.20  250.55  253.22  260.5\n",
       "Brand B     10.0  261.06  3.87  254.5  257.90  262.85  264.02  265.0\n",
       "Brand C     10.0  269.95  4.50  263.2  266.73  270.10  272.35  277.5\n",
       "Brand D     10.0  249.32  5.20  242.0  246.65  248.80  250.82  261.8"
      ]
     },
     "execution_count": 6,
     "metadata": {},
     "output_type": "execute_result"
    }
   ],
   "source": [
    "# summary statistics of the data by group\n",
    "df.groupby('Brand').describe().round(2)"
   ]
  },
  {
   "cell_type": "code",
   "execution_count": 7,
   "id": "d337481e",
   "metadata": {
    "ExecuteTime": {
     "end_time": "2022-11-01T01:54:11.757446Z",
     "start_time": "2022-11-01T01:54:11.628389Z"
    }
   },
   "outputs": [
    {
     "data": {
      "image/png": "[encoded data removed]",
      "text/plain": [
       "<Figure size 640x480 with 1 Axes>"
      ]
     },
     "metadata": {},
     "output_type": "display_data"
    }
   ],
   "source": [
    "# visualize the distribution of distance by group using boxplot\n",
    "sns.boxplot(data=df, x='Brand',y='Distance');"
   ]
  },
  {
   "cell_type": "markdown",
   "id": "5c2d16f3",
   "metadata": {},
   "source": [
    "# One-Way Anova Hypothesis"
   ]
  },
  {
   "cell_type": "markdown",
   "id": "43c42e91",
   "metadata": {},
   "source": [
    "$H_0$: All the brands mean distances are equal ($\\mu_1 = \\mu_2 =\\mu_3 = \\mu_4$)\n",
    "\n",
    "$H_a$: Atleast one pair of mean distances are different"
   ]
  },
  {
   "cell_type": "code",
   "execution_count": 8,
   "id": "0ead31a1",
   "metadata": {
    "ExecuteTime": {
     "end_time": "2022-11-01T01:56:50.902062Z",
     "start_time": "2022-11-01T01:56:50.797449Z"
    }
   },
   "outputs": [],
   "source": [
    "# import ols function from statsmodels and anova_lm from statsmodels.stats.anova\n",
    "from statsmodels.formula.api import ols\n",
    "from statsmodels.stats.anova import anova_lm"
   ]
  },
  {
   "cell_type": "code",
   "execution_count": 11,
   "id": "9ac1afa6",
   "metadata": {
    "ExecuteTime": {
     "end_time": "2022-11-01T02:02:28.574100Z",
     "start_time": "2022-11-01T02:02:28.565368Z"
    }
   },
   "outputs": [],
   "source": [
    "# formula string to indicate the dependent numerical variable and the independent categorical variable\n",
    "formula = 'Distance ~ C(Brand)'\n"
   ]
  },
  {
   "cell_type": "code",
   "execution_count": 13,
   "id": "ddffecd7",
   "metadata": {
    "ExecuteTime": {
     "end_time": "2022-11-01T02:02:45.492438Z",
     "start_time": "2022-11-01T02:02:45.470764Z"
    }
   },
   "outputs": [
    {
     "name": "stdout",
     "output_type": "stream",
     "text": [
      "            df      sum_sq     mean_sq          F        PR(>F)\n",
      "C(Brand)   3.0  2794.38875  931.462917  43.988746  3.973108e-12\n",
      "Residual  36.0   762.30100   21.175028        NaN           NaN\n"
     ]
    }
   ],
   "source": [
    "# create anova model and fit it and print the summary\n",
    "model = ols(data=df,formula=formula).fit()\n",
    "result = anova_lm(model)\n",
    "print(result)"
   ]
  },
  {
   "cell_type": "code",
   "execution_count": 14,
   "id": "ae8884a3",
   "metadata": {
    "ExecuteTime": {
     "end_time": "2022-11-01T02:24:04.470594Z",
     "start_time": "2022-11-01T02:24:04.460706Z"
    }
   },
   "outputs": [],
   "source": [
    "# alternatively implement one way anova using the scipy.stats library\n",
    "from scipy.stats import f_oneway"
   ]
  },
  {
   "cell_type": "code",
   "execution_count": 15,
   "id": "10ee3780",
   "metadata": {
    "ExecuteTime": {
     "end_time": "2022-11-01T02:24:55.433326Z",
     "start_time": "2022-11-01T02:24:55.420373Z"
    }
   },
   "outputs": [
    {
     "data": {
      "text/plain": [
       "F_onewayResult(statistic=43.988745915327335, pvalue=3.973108389358279e-12)"
      ]
     },
     "execution_count": 15,
     "metadata": {},
     "output_type": "execute_result"
    }
   ],
   "source": [
    "# one way anova\n",
    "f_oneway(df[df['Brand'] == 'Brand A']['Distance'], \n",
    "            df[df['Brand'] == 'Brand B']['Distance'],\n",
    "            df[df['Brand'] == 'Brand C']['Distance'],\n",
    "            df[df['Brand'] == 'Brand D']['Distance'])"
   ]
  },
  {
   "cell_type": "markdown",
   "id": "3b059e47",
   "metadata": {},
   "source": [
    "# Conclusion\n",
    "There is statistically significant evidence to reject the null hypothesis and accept the alternate hypothesis since the calculated probability value (pvalue) is less than alpha of 0.05"
   ]
  }
 ],
 "metadata": {
  "kernelspec": {
   "display_name": "Python 3 (ipykernel)",
   "language": "python",
   "name": "python3"
  },
  "language_info": {
   "codemirror_mode": {
    "name": "ipython",
    "version": 3
   },
   "file_extension": ".py",
   "mimetype": "text/x-python",
   "name": "python",
   "nbconvert_exporter": "python",
   "pygments_lexer": "ipython3",
   "version": "3.10.6"
  },
  "toc": {
   "base_numbering": 1,
   "nav_menu": {},
   "number_sections": true,
   "sideBar": true,
   "skip_h1_title": true,
   "title_cell": "Table of Contents",
   "title_sidebar": "Contents",
   "toc_cell": false,
   "toc_position": {},
   "toc_section_display": true,
   "toc_window_display": false
  },
  "vscode": {
   "interpreter": {
    "hash": "879b042a9b6ea95d78af7437b3920a3e0d925e33162ccbc3dd18c5ba533b9387"
   }
  }
 },
 "nbformat": 4,
 "nbformat_minor": 5
}
